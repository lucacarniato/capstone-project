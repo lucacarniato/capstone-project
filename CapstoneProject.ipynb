{
 "cells": [
  {
   "cell_type": "markdown",
   "metadata": {},
   "source": [
    "# This is the Coursera capstone project (Seattle collisions)"
   ]
  },
  {
   "cell_type": "code",
   "execution_count": 1,
   "metadata": {},
   "outputs": [],
   "source": [
    "import numpy as np\n",
    "import pandas as pd\n",
    "pd.set_option('display.float_format', lambda x: '{:.3f}'.format(x)) #Limiting floats output to 3 decimal points\n",
    "from matplotlib import pyplot as plt\n",
    "%matplotlib inline\n",
    "import seaborn as sns"
   ]
  },
  {
   "cell_type": "code",
   "execution_count": 2,
   "metadata": {},
   "outputs": [
    {
     "name": "stdout",
     "output_type": "stream",
     "text": [
      "Hello Capstone Project Course!\n"
     ]
    }
   ],
   "source": [
    "print(\"Hello Capstone Project Course!\")"
   ]
  },
  {
   "cell_type": "code",
   "execution_count": 3,
   "metadata": {},
   "outputs": [
    {
     "name": "stderr",
     "output_type": "stream",
     "text": [
      "C:\\Users\\carniato\\AppData\\Roaming\\Python\\Python37\\site-packages\\IPython\\core\\interactiveshell.py:3049: DtypeWarning: Columns (33) have mixed types. Specify dtype option on import or set low_memory=False.\n",
      "  interactivity=interactivity, compiler=compiler, result=result)\n"
     ]
    }
   ],
   "source": [
    "#https://data-seattlecitygis.opendata.arcgis.com/datasets/5b5c745e0f1f48e7a53acec63a0022ab_0\n",
    "dfOriginal = pd.read_csv('Data-Collisions.csv')"
   ]
  },
  {
   "cell_type": "markdown",
   "metadata": {},
   "source": [
    "# Create train and test dataset"
   ]
  },
  {
   "cell_type": "code",
   "execution_count": 4,
   "metadata": {},
   "outputs": [],
   "source": [
    "df=dfOriginal.copy()\n",
    "y = df['SEVERITYCODE']\n",
    "X = df.drop(['SEVERITYCODE'], axis=1)\n",
    "from sklearn.model_selection import train_test_split\n",
    "X_train, X_test, y_train, y_test = train_test_split(X, y, test_size=0.33, random_state=42,stratify =y)\n",
    "train = pd.concat([X_train, y_train],axis=1)\n",
    "test = pd.concat([X_test, y_test],axis=1)"
   ]
  },
  {
   "cell_type": "markdown",
   "metadata": {},
   "source": [
    "# Data cleaning"
   ]
  },
  {
   "cell_type": "markdown",
   "metadata": {},
   "source": [
    "Inspect data first"
   ]
  },
  {
   "cell_type": "code",
   "execution_count": 5,
   "metadata": {},
   "outputs": [],
   "source": [
    "def computeDetails(df): \n",
    "    obs = df.shape[0]\n",
    "    types = df.dtypes\n",
    "    counts = df.apply(lambda x: x.count())\n",
    "    uniques = df.apply(lambda x: [x.unique()])\n",
    "    nulls = df.apply(lambda x: x.isnull().sum())\n",
    "    distincts = df.apply(lambda x: x.unique().shape[0])\n",
    "    missing_ration = (df.isnull().sum()/ obs) * 100\n",
    "    \n",
    "    cols = ['types', 'counts', 'distincts', 'nulls', 'missing ration']\n",
    "    details = pd.concat([types, counts, distincts, nulls, missing_ration], axis = 1)\n",
    "    details.columns = cols\n",
    "    \n",
    "    return details\n",
    "\n",
    "def GetIndexses(df,col_missing_data,missingValue):\n",
    "    if not missingValue :\n",
    "        # nan\n",
    "        indexses = df[col_missing_data].isnull()\n",
    "    else:\n",
    "        # comparables\n",
    "        indexses = df[col_missing_data]==missingValue\n",
    "        \n",
    "    return indexses\n",
    "\n",
    "def InputMissingData(df, col_missing_data, col_ref, missingValue = None):\n",
    "    #group by nan or missing value\n",
    "    invalid_idxs = GetIndexses(df, col_missing_data, missingValue)\n",
    "    df_notval = df[invalid_idxs]\n",
    "    df_notval = df_notval.groupby(col_ref).sum()  \n",
    "    #print(df_notval[col_ref])\n",
    "    #the valid entries\n",
    "    df_val = df[~invalid_idxs]\n",
    "    \n",
    "    #now check the values of the reference column\n",
    "    for r in df_notval.index.values:\n",
    "        if isinstance(r, str):\n",
    "            #a string (e.g. a location)\n",
    "            df_loc = df_val[df_val[col_ref]==r]\n",
    "        elif len(r)==2:\n",
    "            #two doubles\n",
    "            df_loc = df_val[(df_val[col_ref[0]]==r[0]) & (df_val[col_ref[1]]==r[1])]\n",
    "        \n",
    "        if len(df_loc) > 0:\n",
    "            val = df_loc[col_missing_data].iloc[0]\n",
    "            if isinstance(r, str):\n",
    "                #substitute with the first valid value\n",
    "                df.loc[(df[col_ref]==r) & invalid_idxs,col_missing_data]=val\n",
    "            elif len(r) ==2:\n",
    "                df.loc[(df[col_ref[0]]==r[0]) &(df[col_ref[1]]==r[1]) & invalid_idxs, col_missing_data] = val\n",
    "        \n",
    "    return df     \n",
    "\n",
    "def bar_chart(datafr, feature):\n",
    "    severityOne = datafr[datafr['SEVERITYCODE']==1][feature].value_counts()\n",
    "    #print(severityOne[0]/(severityOne[0] + severityOne[1]))\n",
    "    severityTwo = datafr[datafr['SEVERITYCODE']==2][feature].value_counts()\n",
    "    #print(severityTwo[0]/(severityTwo[0] + severityTwo[1]))\n",
    "    df = pd.DataFrame([severityOne,severityTwo])\n",
    "    df.index = ['SEVERITYCODE 1','SEVERITYCODE 2']\n",
    "    df.plot(kind='bar',stacked=True, figsize=(10,5))\n",
    "    \n",
    "from sklearn.preprocessing import LabelEncoder\n",
    "def prepare_categorical(toLabel):\n",
    "    le = LabelEncoder()\n",
    "    le.fit(toLabel)\n",
    "    toLabel_enc = le.transform(toLabel)\n",
    "    return toLabel_enc"
   ]
  },
  {
   "cell_type": "code",
   "execution_count": 6,
   "metadata": {},
   "outputs": [
    {
     "name": "stdout",
     "output_type": "stream",
     "text": [
      "                  types  counts  distincts   nulls  missing ration\n",
      "X               float64  126901      20954    3529           2.706\n",
      "Y               float64  126901      21200    3529           2.706\n",
      "OBJECTID          int64  130430     130430       0           0.000\n",
      "INCKEY            int64  130430     130430       0           0.000\n",
      "COLDETKEY         int64  130430     130430       0           0.000\n",
      "REPORTNO         object  130430     130428       0           0.000\n",
      "STATUS           object  130430          2       0           0.000\n",
      "ADDRTYPE         object  129162          4    1268           0.972\n",
      "INTKEY          float64   43707       6732   86723          66.490\n",
      "LOCATION         object  128674      21416    1756           1.346\n",
      "EXCEPTRSNCODE    object   56823          3   73607          56.434\n",
      "EXCEPTRSNDESC    object    3792          2  126638          97.093\n",
      "SEVERITYCODE.1    int64  130430          2       0           0.000\n",
      "SEVERITYDESC     object  130430          2       0           0.000\n",
      "COLLISIONTYPE    object  127103         11    3327           2.551\n",
      "PERSONCOUNT       int64  130430         44       0           0.000\n",
      "PEDCOUNT          int64  130430          6       0           0.000\n",
      "PEDCYLCOUNT       int64  130430          3       0           0.000\n",
      "VEHCOUNT          int64  130430         12       0           0.000\n",
      "INCDATE          object  130430       5983       0           0.000\n",
      "INCDTTM          object  130430     109974       0           0.000\n",
      "JUNCTIONTYPE     object  126224          8    4206           3.225\n",
      "SDOT_COLCODE      int64  130430         39       0           0.000\n",
      "SDOT_COLDESC     object  130430         39       0           0.000\n",
      "INATTENTIONIND   object   20033          2  110397          84.641\n",
      "UNDERINFL        object  127113          5    3317           2.543\n",
      "WEATHER          object  126977         12    3453           2.647\n",
      "ROADCOND         object  127022         10    3408           2.613\n",
      "LIGHTCOND        object  126926         10    3504           2.686\n",
      "PEDROWNOTGRNT    object    3163          2  127267          97.575\n",
      "SDOTCOLNUM      float64   77025      77024   53405          40.945\n",
      "SPEEDING         object    6271          2  124159          95.192\n",
      "ST_COLCODE       object  130421        113       9           0.007\n",
      "ST_COLDESC       object  127103         62    3327           2.551\n",
      "SEGLANEKEY        int64  130430       1432       0           0.000\n",
      "CROSSWALKKEY      int64  130430       1704       0           0.000\n",
      "HITPARKEDCAR     object  130430          2       0           0.000\n",
      "SEVERITYCODE      int64  130430          2       0           0.000\n"
     ]
    }
   ],
   "source": [
    "details = computeDetails(train)\n",
    "print(details)"
   ]
  },
  {
   "cell_type": "markdown",
   "metadata": {},
   "source": [
    "Eliminate the columns that are semantically equal or similar to the target"
   ]
  },
  {
   "cell_type": "code",
   "execution_count": 7,
   "metadata": {},
   "outputs": [],
   "source": [
    "train = train.drop(['SEVERITYCODE.1'], axis=1)\n",
    "train = train.drop(['SEVERITYDESC'], axis=1)\n",
    "\n",
    "test = test.drop(['SEVERITYCODE.1'], axis=1)\n",
    "test = test.drop(['SEVERITYDESC'], axis=1)"
   ]
  },
  {
   "cell_type": "markdown",
   "metadata": {},
   "source": [
    "Eliminate EXCEPTRSNDESC, not enough information"
   ]
  },
  {
   "cell_type": "code",
   "execution_count": 8,
   "metadata": {},
   "outputs": [
    {
     "data": {
      "text/plain": [
       "Not Enough Information, or Insufficient Location Information    3792\n",
       "Name: EXCEPTRSNDESC, dtype: int64"
      ]
     },
     "execution_count": 8,
     "metadata": {},
     "output_type": "execute_result"
    }
   ],
   "source": [
    "train['EXCEPTRSNDESC'].value_counts()"
   ]
  },
  {
   "cell_type": "code",
   "execution_count": 9,
   "metadata": {},
   "outputs": [],
   "source": [
    "train = train.drop(['EXCEPTRSNDESC'], axis=1)\n",
    "test = test.drop(['EXCEPTRSNDESC'], axis=1)"
   ]
  },
  {
   "cell_type": "markdown",
   "metadata": {},
   "source": [
    "EXCEPTRSNCODE has no descriptive field "
   ]
  },
  {
   "cell_type": "code",
   "execution_count": 10,
   "metadata": {},
   "outputs": [],
   "source": [
    "train = train.drop(['EXCEPTRSNCODE'], axis=1)\n",
    "test = test.drop(['EXCEPTRSNCODE'], axis=1)"
   ]
  },
  {
   "cell_type": "markdown",
   "metadata": {},
   "source": [
    "Eliminate columns that cannot be used as prediction for an collisions"
   ]
  },
  {
   "cell_type": "code",
   "execution_count": 11,
   "metadata": {},
   "outputs": [],
   "source": [
    "admin_columns = ['REPORTNO', 'COLLISIONTYPE','ST_COLCODE','ST_COLDESC','SDOT_COLCODE','SDOTCOLNUM','SDOT_COLDESC',\n",
    "              'OBJECTID','INCKEY','COLDETKEY','STATUS','COLLISIONTYPE','INTKEY']\n",
    "\n",
    "train = train.drop(admin_columns,axis=1)\n",
    "test = test.drop(admin_columns,axis=1)"
   ]
  },
  {
   "cell_type": "markdown",
   "metadata": {},
   "source": [
    "INATTENTIONIND id contain only yes, suppose the other equal to n"
   ]
  },
  {
   "cell_type": "code",
   "execution_count": 12,
   "metadata": {},
   "outputs": [
    {
     "data": {
      "text/plain": [
       "Y    20033\n",
       "Name: INATTENTIONIND, dtype: int64"
      ]
     },
     "execution_count": 12,
     "metadata": {},
     "output_type": "execute_result"
    }
   ],
   "source": [
    "train['INATTENTIONIND'].value_counts()"
   ]
  },
  {
   "cell_type": "code",
   "execution_count": 13,
   "metadata": {},
   "outputs": [],
   "source": [
    "train['INATTENTIONIND'] = train['INATTENTIONIND'].replace(np.nan,0)\n",
    "train['INATTENTIONIND'] = train['INATTENTIONIND'].replace('Y',1)\n",
    "train['INATTENTIONIND'].value_counts()\n",
    "\n",
    "test['INATTENTIONIND'] = test['INATTENTIONIND'].replace(np.nan,0)\n",
    "test['INATTENTIONIND'] = test['INATTENTIONIND'].replace('Y',1)"
   ]
  },
  {
   "cell_type": "code",
   "execution_count": 14,
   "metadata": {},
   "outputs": [
    {
     "data": {
      "image/png": "[encoded data removed]",
      "text/plain": [
       "<Figure size 720x360 with 1 Axes>"
      ]
     },
     "metadata": {
      "needs_background": "light"
     },
     "output_type": "display_data"
    }
   ],
   "source": [
    "bar_chart(train, 'INATTENTIONIND')"
   ]
  },
  {
   "cell_type": "code",
   "execution_count": 15,
   "metadata": {},
   "outputs": [
    {
     "data": {
      "text/plain": [
       "Y    3163\n",
       "Name: PEDROWNOTGRNT, dtype: int64"
      ]
     },
     "execution_count": 15,
     "metadata": {},
     "output_type": "execute_result"
    }
   ],
   "source": [
    "train['PEDROWNOTGRNT'].value_counts()"
   ]
  },
  {
   "cell_type": "code",
   "execution_count": 16,
   "metadata": {},
   "outputs": [
    {
     "data": {
      "image/png": "[encoded data removed]",
      "text/plain": [
       "<Figure size 720x360 with 1 Axes>"
      ]
     },
     "metadata": {
      "needs_background": "light"
     },
     "output_type": "display_data"
    }
   ],
   "source": [
    "train['PEDROWNOTGRNT'] = train['PEDROWNOTGRNT'].replace(np.nan,0)\n",
    "test['PEDROWNOTGRNT'] = test['PEDROWNOTGRNT'].replace(np.nan,0)\n",
    "\n",
    "train['PEDROWNOTGRNT'] = train['PEDROWNOTGRNT'].replace('Y',1)\n",
    "test['PEDROWNOTGRNT'] = test['PEDROWNOTGRNT'].replace('Y',1)\n",
    "bar_chart(train, 'PEDROWNOTGRNT')"
   ]
  },
  {
   "cell_type": "code",
   "execution_count": 17,
   "metadata": {},
   "outputs": [
    {
     "data": {
      "text/plain": [
       "Y    6271\n",
       "Name: SPEEDING, dtype: int64"
      ]
     },
     "execution_count": 17,
     "metadata": {},
     "output_type": "execute_result"
    }
   ],
   "source": [
    "train['SPEEDING'].value_counts()"
   ]
  },
  {
   "cell_type": "code",
   "execution_count": 18,
   "metadata": {},
   "outputs": [
    {
     "data": {
      "image/png": "[encoded data removed]",
      "text/plain": [
       "<Figure size 720x360 with 1 Axes>"
      ]
     },
     "metadata": {
      "needs_background": "light"
     },
     "output_type": "display_data"
    }
   ],
   "source": [
    "train['SPEEDING'] = train['SPEEDING'].replace(np.nan,0)\n",
    "test['SPEEDING'] = test['SPEEDING'].replace(np.nan,0)\n",
    "\n",
    "train['SPEEDING'] = train['SPEEDING'].replace('Y',1)\n",
    "test['SPEEDING'] = test['SPEEDING'].replace('Y',1)\n",
    "bar_chart(train, 'SPEEDING')"
   ]
  },
  {
   "cell_type": "code",
   "execution_count": 19,
   "metadata": {},
   "outputs": [],
   "source": [
    "train['UNDERINFL'].value_counts()\n",
    "train['UNDERINFL'] = train['UNDERINFL'].replace('N',0)\n",
    "train['UNDERINFL'] = train['UNDERINFL'].replace('Y',1)  \n",
    "train['UNDERINFL'] = train['UNDERINFL'].replace('0',0) \n",
    "train['UNDERINFL'] = train['UNDERINFL'].replace('1',1) \n",
    "train['UNDERINFL'].value_counts()\n",
    "\n",
    "test['UNDERINFL'] = test['UNDERINFL'].replace('N',0)\n",
    "test['UNDERINFL'] = test['UNDERINFL'].replace('Y',1)  \n",
    "test['UNDERINFL'] = test['UNDERINFL'].replace('0',0) \n",
    "test['UNDERINFL'] = test['UNDERINFL'].replace('1',1) "
   ]
  },
  {
   "cell_type": "code",
   "execution_count": 20,
   "metadata": {},
   "outputs": [
    {
     "data": {
      "image/png": "[encoded data removed]",
      "text/plain": [
       "<Figure size 720x360 with 1 Axes>"
      ]
     },
     "metadata": {
      "needs_background": "light"
     },
     "output_type": "display_data"
    }
   ],
   "source": [
    "bar_chart(train, 'UNDERINFL')"
   ]
  },
  {
   "cell_type": "markdown",
   "metadata": {},
   "source": [
    "we could try to fill the missing 'JUNCTIONTYPE' by looking X,Y"
   ]
  },
  {
   "cell_type": "code",
   "execution_count": 21,
   "metadata": {},
   "outputs": [
    {
     "name": "stdout",
     "output_type": "stream",
     "text": [
      "percentage dropped  0.056122057808786326\n"
     ]
    }
   ],
   "source": [
    "original_length = len(train)\n",
    "train = InputMissingData(train, 'JUNCTIONTYPE', ['X','Y'])\n",
    "test = InputMissingData(test, 'JUNCTIONTYPE', ['X','Y'])\n",
    "dropped_len = len(train.dropna())\n",
    "print(\"percentage dropped \", (original_length-dropped_len)/original_length)"
   ]
  },
  {
   "cell_type": "markdown",
   "metadata": {},
   "source": [
    "# Treat the dates"
   ]
  },
  {
   "cell_type": "code",
   "execution_count": 22,
   "metadata": {},
   "outputs": [],
   "source": [
    "train['INCDTTM'] = pd.to_datetime(train['INCDTTM'])\n",
    "test['INCDTTM'] = pd.to_datetime(test['INCDTTM'])"
   ]
  },
  {
   "cell_type": "code",
   "execution_count": 23,
   "metadata": {},
   "outputs": [],
   "source": [
    "train = train.drop(['INCDATE'], axis=1)\n",
    "test = test.drop(['INCDATE'], axis=1)"
   ]
  },
  {
   "cell_type": "markdown",
   "metadata": {},
   "source": [
    "check incidents by hour"
   ]
  },
  {
   "cell_type": "code",
   "execution_count": 24,
   "metadata": {},
   "outputs": [
    {
     "data": {
      "text/plain": [
       "<matplotlib.axes._subplots.AxesSubplot at 0x1caa28e8fc8>"
      ]
     },
     "execution_count": 24,
     "metadata": {},
     "output_type": "execute_result"
    },
    {
     "data": {
      "image/png": "[encoded data removed]",
      "text/plain": [
       "<Figure size 432x288 with 1 Axes>"
      ]
     },
     "metadata": {
      "needs_background": "light"
     },
     "output_type": "display_data"
    }
   ],
   "source": [
    "train['hour'] = train['INCDTTM'].dt.hour\n",
    "test['hour'] = test['INCDTTM'].dt.hour\n",
    "\n",
    "df_selected = train[train['SEVERITYCODE']==1]\n",
    "sns.distplot(df_selected['hour'],kde = False)\n",
    "\n",
    "df_selected = train[train['SEVERITYCODE']==2]\n",
    "sns.distplot(df_selected['hour'],kde = False)"
   ]
  },
  {
   "cell_type": "markdown",
   "metadata": {},
   "source": [
    "Check day of the week"
   ]
  },
  {
   "cell_type": "code",
   "execution_count": 25,
   "metadata": {},
   "outputs": [
    {
     "data": {
      "text/plain": [
       "<matplotlib.axes._subplots.AxesSubplot at 0x1cab70073c8>"
      ]
     },
     "execution_count": 25,
     "metadata": {},
     "output_type": "execute_result"
    },
    {
     "data": {
      "image/png": "[encoded data removed]",
      "text/plain": [
       "<Figure size 432x288 with 1 Axes>"
      ]
     },
     "metadata": {
      "needs_background": "light"
     },
     "output_type": "display_data"
    }
   ],
   "source": [
    "train['dayofweek'] = train['INCDTTM'].dt.dayofweek\n",
    "test['dayofweek'] = test['INCDTTM'].dt.dayofweek\n",
    "\n",
    "df_selected = train[train['SEVERITYCODE']==1]\n",
    "sns.distplot(df_selected['dayofweek'],kde = False)\n",
    "df_selected = train[train['SEVERITYCODE']==2]\n",
    "sns.distplot(df_selected['dayofweek'],kde = False)"
   ]
  },
  {
   "cell_type": "markdown",
   "metadata": {},
   "source": [
    "Check month"
   ]
  },
  {
   "cell_type": "code",
   "execution_count": 26,
   "metadata": {},
   "outputs": [
    {
     "data": {
      "text/plain": [
       "<matplotlib.axes._subplots.AxesSubplot at 0x1caa2a4f288>"
      ]
     },
     "execution_count": 26,
     "metadata": {},
     "output_type": "execute_result"
    },
    {
     "data": {
      "image/png": "[encoded data removed]",
      "text/plain": [
       "<Figure size 432x288 with 1 Axes>"
      ]
     },
     "metadata": {
      "needs_background": "light"
     },
     "output_type": "display_data"
    }
   ],
   "source": [
    "train['month'] = train['INCDTTM'].dt.month\n",
    "test['month'] = test['INCDTTM'].dt.month\n",
    "\n",
    "df_selected = train[train['SEVERITYCODE']==1]\n",
    "sns.distplot(df_selected['month'],kde = False)\n",
    "df_selected = test[test['SEVERITYCODE']==2]\n",
    "sns.distplot(df_selected['month'],kde = False)"
   ]
  },
  {
   "cell_type": "raw",
   "metadata": {},
   "source": [
    "remove INCDTTM after saving dayofweek, month, hours"
   ]
  },
  {
   "cell_type": "code",
   "execution_count": 27,
   "metadata": {},
   "outputs": [],
   "source": [
    "train = train.drop(['INCDTTM'], axis=1)\n",
    "test = test.drop(['INCDTTM'], axis=1)"
   ]
  },
  {
   "cell_type": "markdown",
   "metadata": {},
   "source": [
    "# Check outliers"
   ]
  },
  {
   "cell_type": "code",
   "execution_count": 28,
   "metadata": {},
   "outputs": [
    {
     "name": "stdout",
     "output_type": "stream",
     "text": [
      "                  types  counts  distincts  nulls  missing ration\n",
      "X               float64  126901      20954   3529           2.706\n",
      "Y               float64  126901      21200   3529           2.706\n",
      "ADDRTYPE         object  129162          4   1268           0.972\n",
      "LOCATION         object  128674      21416   1756           1.346\n",
      "PERSONCOUNT       int64  130430         44      0           0.000\n",
      "PEDCOUNT          int64  130430          6      0           0.000\n",
      "PEDCYLCOUNT       int64  130430          3      0           0.000\n",
      "VEHCOUNT          int64  130430         12      0           0.000\n",
      "JUNCTIONTYPE     object  128733          8   1697           1.301\n",
      "INATTENTIONIND    int64  130430          2      0           0.000\n",
      "UNDERINFL       float64  127113          3   3317           2.543\n",
      "WEATHER          object  126977         12   3453           2.647\n",
      "ROADCOND         object  127022         10   3408           2.613\n",
      "LIGHTCOND        object  126926         10   3504           2.686\n",
      "PEDROWNOTGRNT     int64  130430          2      0           0.000\n",
      "SPEEDING          int64  130430          2      0           0.000\n",
      "SEGLANEKEY        int64  130430       1432      0           0.000\n",
      "CROSSWALKKEY      int64  130430       1704      0           0.000\n",
      "HITPARKEDCAR     object  130430          2      0           0.000\n",
      "SEVERITYCODE      int64  130430          2      0           0.000\n",
      "hour              int64  130430         24      0           0.000\n",
      "dayofweek         int64  130430          7      0           0.000\n",
      "month             int64  130430         12      0           0.000\n"
     ]
    }
   ],
   "source": [
    "details = computeDetails(train)\n",
    "print(details)"
   ]
  },
  {
   "cell_type": "code",
   "execution_count": 29,
   "metadata": {},
   "outputs": [
    {
     "name": "stdout",
     "output_type": "stream",
     "text": [
      "PERSONCOUNT   0   81\n",
      "2     76565\n",
      "3     23735\n",
      "4      9859\n",
      "1      8768\n",
      "5      4453\n",
      "0      3732\n",
      "6      1828\n",
      "7       759\n",
      "8       345\n",
      "9       150\n",
      "10       86\n",
      "11       34\n",
      "12       17\n",
      "13       15\n",
      "14       10\n",
      "15        9\n",
      "17        7\n",
      "16        6\n",
      "44        5\n",
      "19        4\n",
      "26        4\n",
      "18        3\n",
      "20        3\n",
      "47        3\n",
      "34        3\n",
      "22        2\n",
      "23        2\n",
      "24        2\n",
      "25        2\n",
      "29        2\n",
      "21        2\n",
      "32        2\n",
      "36        2\n",
      "54        1\n",
      "37        1\n",
      "43        1\n",
      "41        1\n",
      "39        1\n",
      "30        1\n",
      "31        1\n",
      "28        1\n",
      "27        1\n",
      "81        1\n",
      "57        1\n",
      "Name: PERSONCOUNT, dtype: int64\n",
      "PEDCOUNT   0   6\n",
      "0    125818\n",
      "1      4442\n",
      "2       150\n",
      "3        15\n",
      "4         4\n",
      "6         1\n",
      "Name: PEDCOUNT, dtype: int64\n",
      "PEDCYLCOUNT   0   2\n",
      "0    126705\n",
      "1      3700\n",
      "2        25\n",
      "Name: PEDCYLCOUNT, dtype: int64\n",
      "VEHCOUNT   0   11\n",
      "2     98861\n",
      "1     17238\n",
      "3      8721\n",
      "0      3455\n",
      "4      1666\n",
      "5       342\n",
      "6        96\n",
      "7        30\n",
      "8        10\n",
      "9         7\n",
      "11        3\n",
      "10        1\n",
      "Name: VEHCOUNT, dtype: int64\n",
      "SEGLANEKEY   0   525241\n",
      "0        128523\n",
      "6532         13\n",
      "12162        11\n",
      "6078         10\n",
      "8985         10\n",
      "          ...  \n",
      "13230         1\n",
      "7339          1\n",
      "19809         1\n",
      "3625          1\n",
      "9051          1\n",
      "Name: SEGLANEKEY, Length: 1432, dtype: int64\n",
      "CROSSWALKKEY   0   5239700\n",
      "0         127850\n",
      "525567        12\n",
      "523609        10\n",
      "520838        10\n",
      "522891         9\n",
      "           ...  \n",
      "524769         1\n",
      "522846         1\n",
      "522910         1\n",
      "699680         1\n",
      "525537         1\n",
      "Name: CROSSWALKKEY, Length: 1704, dtype: int64\n"
     ]
    },
    {
     "data": {
      "image/png": "[encoded data removed]",
      "text/plain": [
       "<Figure size 1440x1080 with 6 Axes>"
      ]
     },
     "metadata": {
      "needs_background": "light"
     },
     "output_type": "display_data"
    }
   ],
   "source": [
    "fig = plt.figure(figsize=(20, 15))\n",
    "sns.set(font_scale=1.5)\n",
    "key='PERSONCOUNT'\n",
    "fig1 = fig.add_subplot(441); sns.boxplot(x='SEVERITYCODE', y=key, data=train[['SEVERITYCODE', key]])\n",
    "print(key,' ', train[key].min(),' ',train[key].max())\n",
    "print(train[key].value_counts())\n",
    "\n",
    "key='PEDCOUNT'\n",
    "fig1 = fig.add_subplot(442); sns.boxplot(x='SEVERITYCODE', y=key, data=train[['SEVERITYCODE', key]])\n",
    "print(key,' ', train[key].min(),' ',train[key].max())\n",
    "print(train[key].value_counts())\n",
    "\n",
    "\n",
    "key='PEDCYLCOUNT'\n",
    "fig1 = fig.add_subplot(443); sns.boxplot(x='SEVERITYCODE', y=key, data=train[['SEVERITYCODE', key]])\n",
    "print(key,' ', train[key].min(),' ',train[key].max())\n",
    "print(train[key].value_counts())\n",
    "\n",
    "key='VEHCOUNT'\n",
    "fig1 = fig.add_subplot(444); sns.boxplot(x='SEVERITYCODE', y=key, data=train[['SEVERITYCODE', key]])\n",
    "print(key,' ', train[key].min(),' ',train[key].max())\n",
    "print(train[key].value_counts())\n",
    "\n",
    "key='SEGLANEKEY'\n",
    "fig1 = fig.add_subplot(445); sns.boxplot(x='SEVERITYCODE', y=key, data=train[['SEVERITYCODE', key]])\n",
    "print(key,' ', train[key].min(),' ',train[key].max())\n",
    "print(train[key].value_counts())\n",
    "\n",
    "key='CROSSWALKKEY'\n",
    "fig1 = fig.add_subplot(446); sns.boxplot(x='SEVERITYCODE', y=key, data=train[['SEVERITYCODE', key]])\n",
    "print(key,' ', train[key].min(),' ',train[key].max())\n",
    "print(train[key].value_counts())"
   ]
  },
  {
   "cell_type": "markdown",
   "metadata": {},
   "source": [
    "remove outliers"
   ]
  },
  {
   "cell_type": "code",
   "execution_count": 30,
   "metadata": {},
   "outputs": [
    {
     "name": "stdout",
     "output_type": "stream",
     "text": [
      "Num outliers removed  3\n"
     ]
    }
   ],
   "source": [
    "len_before = len(train)\n",
    "\n",
    "train = train[train['PERSONCOUNT']<81]\n",
    "train = train[train['SEGLANEKEY']<525241]\n",
    "train = train[train['CROSSWALKKEY']<5239700]\n",
    "\n",
    "test = test[test['PERSONCOUNT']<81]\n",
    "test = test[test['SEGLANEKEY']<525241]\n",
    "test = test[test['CROSSWALKKEY']<5239700]\n",
    "\n",
    "len_after = len(train)\n",
    "print(\"Num outliers removed \",len_before-len_after)"
   ]
  },
  {
   "cell_type": "markdown",
   "metadata": {},
   "source": [
    "check distributions"
   ]
  },
  {
   "cell_type": "code",
   "execution_count": 31,
   "metadata": {},
   "outputs": [
    {
     "data": {
      "image/png": "[encoded data removed]",
      "text/plain": [
       "<Figure size 996.575x216 with 1 Axes>"
      ]
     },
     "metadata": {},
     "output_type": "display_data"
    },
    {
     "name": "stdout",
     "output_type": "stream",
     "text": [
      "Num outliers removed  4\n"
     ]
    }
   ],
   "source": [
    "key='SEGLANEKEY'\n",
    "len_before = len(train)\n",
    "df_selected = train#[train[key]<50000]\n",
    "facet = sns.FacetGrid(df_selected, hue=\"SEVERITYCODE\",aspect=4)\n",
    "facet.map(sns.kdeplot,key,shade= True)\n",
    "facet.add_legend()\n",
    "plt.show()\n",
    "\n",
    "\n",
    "len_before = len(train)\n",
    "train = train[train[key]<50000]\n",
    "test = test[test[key]<50000]\n",
    "len_after = len(train)\n",
    "print(\"Num outliers removed \",len_before-len_after)"
   ]
  },
  {
   "cell_type": "markdown",
   "metadata": {},
   "source": [
    "# Save cleaned up dataframe"
   ]
  },
  {
   "cell_type": "code",
   "execution_count": 32,
   "metadata": {},
   "outputs": [
    {
     "name": "stderr",
     "output_type": "stream",
     "text": [
      "d:\\apps\\python_3_7_4\\lib\\site-packages\\ipykernel_launcher.py:1: SettingWithCopyWarning: \n",
      "A value is trying to be set on a copy of a slice from a DataFrame\n",
      "\n",
      "See the caveats in the documentation: http://pandas.pydata.org/pandas-docs/stable/user_guide/indexing.html#returning-a-view-versus-a-copy\n",
      "  \"\"\"Entry point for launching an IPython kernel.\n"
     ]
    }
   ],
   "source": [
    "train.dropna(inplace=True)\n",
    "train.to_csv('Data-Collisions-train.csv')\n",
    "\n",
    "test.dropna(inplace=True)\n",
    "test.to_csv('Data-Collisions-test.csv')"
   ]
  },
  {
   "cell_type": "markdown",
   "metadata": {},
   "source": [
    "# Load cleaned dataframe"
   ]
  },
  {
   "cell_type": "code",
   "execution_count": 85,
   "metadata": {},
   "outputs": [],
   "source": [
    "import numpy as np\n",
    "import pandas as pd\n",
    "pd.set_option('display.float_format', lambda x: '{:.3f}'.format(x)) #Limiting floats output to 3 decimal points\n",
    "from matplotlib import pyplot as plt\n",
    "%matplotlib inline\n",
    "import seaborn as sns"
   ]
  },
  {
   "cell_type": "code",
   "execution_count": 86,
   "metadata": {},
   "outputs": [
    {
     "name": "stdout",
     "output_type": "stream",
     "text": [
      "                  types  counts  distincts  nulls  missing ration\n",
      "X               float64  123103      20536      0           0.000\n",
      "Y               float64  123103      20772      0           0.000\n",
      "ADDRTYPE         object  123103          2      0           0.000\n",
      "LOCATION         object  123103      20813      0           0.000\n",
      "PERSONCOUNT       int64  123103         43      0           0.000\n",
      "PEDCOUNT          int64  123103          6      0           0.000\n",
      "PEDCYLCOUNT       int64  123103          3      0           0.000\n",
      "VEHCOUNT          int64  123103         12      0           0.000\n",
      "JUNCTIONTYPE     object  123103          7      0           0.000\n",
      "INATTENTIONIND    int64  123103          2      0           0.000\n",
      "UNDERINFL       float64  123103          2      0           0.000\n",
      "WEATHER          object  123103         11      0           0.000\n",
      "ROADCOND         object  123103          9      0           0.000\n",
      "LIGHTCOND        object  123103          9      0           0.000\n",
      "PEDROWNOTGRNT     int64  123103          2      0           0.000\n",
      "SPEEDING          int64  123103          2      0           0.000\n",
      "SEGLANEKEY        int64  123103       1407      0           0.000\n",
      "CROSSWALKKEY      int64  123103       1680      0           0.000\n",
      "HITPARKEDCAR     object  123103          2      0           0.000\n",
      "SEVERITYCODE      int64  123103          2      0           0.000\n",
      "hour              int64  123103         24      0           0.000\n",
      "dayofweek         int64  123103          7      0           0.000\n",
      "month             int64  123103         12      0           0.000\n"
     ]
    }
   ],
   "source": [
    "train = pd.read_csv('Data-Collisions-train.csv')\n",
    "train = train.drop(['Unnamed: 0'], axis=1)\n",
    "train.dropna(inplace=True)\n",
    "details = computeDetails(train)\n",
    "print(details)"
   ]
  },
  {
   "cell_type": "code",
   "execution_count": 87,
   "metadata": {},
   "outputs": [
    {
     "name": "stdout",
     "output_type": "stream",
     "text": [
      "                  types  counts  distincts  nulls  missing ration\n",
      "X               float64   60478      15896      0           0.000\n",
      "Y               float64   60478      16044      0           0.000\n",
      "ADDRTYPE         object   60478          2      0           0.000\n",
      "LOCATION         object   60478      16072      0           0.000\n",
      "PERSONCOUNT       int64   60478         33      0           0.000\n",
      "PEDCOUNT          int64   60478          5      0           0.000\n",
      "PEDCYLCOUNT       int64   60478          3      0           0.000\n",
      "VEHCOUNT          int64   60478         13      0           0.000\n",
      "JUNCTIONTYPE     object   60478          7      0           0.000\n",
      "INATTENTIONIND    int64   60478          2      0           0.000\n",
      "UNDERINFL       float64   60478          2      0           0.000\n",
      "WEATHER          object   60478         10      0           0.000\n",
      "ROADCOND         object   60478          9      0           0.000\n",
      "LIGHTCOND        object   60478          9      0           0.000\n",
      "PEDROWNOTGRNT     int64   60478          2      0           0.000\n",
      "SPEEDING          int64   60478          2      0           0.000\n",
      "SEGLANEKEY        int64   60478        727      0           0.000\n",
      "CROSSWALKKEY      int64   60478        945      0           0.000\n",
      "HITPARKEDCAR     object   60478          2      0           0.000\n",
      "SEVERITYCODE      int64   60478          2      0           0.000\n",
      "hour              int64   60478         24      0           0.000\n",
      "dayofweek         int64   60478          7      0           0.000\n",
      "month             int64   60478         12      0           0.000\n"
     ]
    }
   ],
   "source": [
    "test = pd.read_csv('Data-Collisions-test.csv')\n",
    "test = test.drop(['Unnamed: 0'], axis=1)\n",
    "test.dropna(inplace=True)\n",
    "details = computeDetails(test)\n",
    "print(details)"
   ]
  },
  {
   "cell_type": "code",
   "execution_count": 88,
   "metadata": {},
   "outputs": [
    {
     "name": "stdout",
     "output_type": "stream",
     "text": [
      "                  types  counts  distincts  nulls  missing ration\n",
      "X               float64  123103      20536      0           0.000\n",
      "Y               float64  123103      20772      0           0.000\n",
      "ADDRTYPE          int32  123103          2      0           0.000\n",
      "LOCATION          int32  123103      20813      0           0.000\n",
      "PERSONCOUNT       int64  123103         43      0           0.000\n",
      "PEDCOUNT          int64  123103          6      0           0.000\n",
      "PEDCYLCOUNT       int64  123103          3      0           0.000\n",
      "VEHCOUNT          int64  123103         12      0           0.000\n",
      "JUNCTIONTYPE      int32  123103          7      0           0.000\n",
      "INATTENTIONIND    int64  123103          2      0           0.000\n",
      "UNDERINFL         int64  123103          2      0           0.000\n",
      "WEATHER           int32  123103         11      0           0.000\n",
      "ROADCOND          int32  123103          9      0           0.000\n",
      "LIGHTCOND         int32  123103          9      0           0.000\n",
      "PEDROWNOTGRNT     int64  123103          2      0           0.000\n",
      "SPEEDING          int64  123103          2      0           0.000\n",
      "SEGLANEKEY        int64  123103       1407      0           0.000\n",
      "CROSSWALKKEY      int64  123103       1680      0           0.000\n",
      "HITPARKEDCAR      int32  123103          2      0           0.000\n",
      "SEVERITYCODE      int64  123103          2      0           0.000\n",
      "hour              int64  123103         24      0           0.000\n",
      "dayofweek         int64  123103          7      0           0.000\n",
      "month             int64  123103         12      0           0.000\n",
      "                  types  counts  distincts  nulls  missing ration\n",
      "X               float64   60478      15896      0           0.000\n",
      "Y               float64   60478      16044      0           0.000\n",
      "ADDRTYPE          int32   60478          2      0           0.000\n",
      "LOCATION          int32   60478      16072      0           0.000\n",
      "PERSONCOUNT       int64   60478         33      0           0.000\n",
      "PEDCOUNT          int64   60478          5      0           0.000\n",
      "PEDCYLCOUNT       int64   60478          3      0           0.000\n",
      "VEHCOUNT          int64   60478         13      0           0.000\n",
      "JUNCTIONTYPE      int32   60478          7      0           0.000\n",
      "INATTENTIONIND    int64   60478          2      0           0.000\n",
      "UNDERINFL         int64   60478          2      0           0.000\n",
      "WEATHER           int32   60478         10      0           0.000\n",
      "ROADCOND          int32   60478          9      0           0.000\n",
      "LIGHTCOND         int32   60478          9      0           0.000\n",
      "PEDROWNOTGRNT     int64   60478          2      0           0.000\n",
      "SPEEDING          int64   60478          2      0           0.000\n",
      "SEGLANEKEY        int64   60478        727      0           0.000\n",
      "CROSSWALKKEY      int64   60478        945      0           0.000\n",
      "HITPARKEDCAR      int32   60478          2      0           0.000\n",
      "SEVERITYCODE      int64   60478          2      0           0.000\n",
      "hour              int64   60478         24      0           0.000\n",
      "dayofweek         int64   60478          7      0           0.000\n",
      "month             int64   60478         12      0           0.000\n"
     ]
    }
   ],
   "source": [
    "#https://machinelearningmastery.com/feature-selection-with-categorical-data/\n",
    "from sklearn.preprocessing import LabelEncoder\n",
    "def prepare_categorical(toLabel):\n",
    "    le = LabelEncoder()\n",
    "    le.fit(toLabel)\n",
    "    toLabel_enc = le.transform(toLabel)\n",
    "    return toLabel_enc\n",
    "\n",
    "train['ADDRTYPE'] = prepare_categorical(train['ADDRTYPE'])\n",
    "train['LOCATION'] = prepare_categorical(train['LOCATION'])\n",
    "train['JUNCTIONTYPE'] = prepare_categorical(train['JUNCTIONTYPE'])\n",
    "train['UNDERINFL'] = prepare_categorical(train['UNDERINFL'])\n",
    "train['WEATHER'] = prepare_categorical(train['WEATHER'])\n",
    "train['ROADCOND'] = prepare_categorical(train['ROADCOND'])\n",
    "train['LIGHTCOND'] = prepare_categorical(train['LIGHTCOND'])\n",
    "train['HITPARKEDCAR'] = prepare_categorical(train['HITPARKEDCAR'])\n",
    "\n",
    "test['ADDRTYPE'] = prepare_categorical(test['ADDRTYPE'])\n",
    "test['LOCATION'] = prepare_categorical(test['LOCATION'])\n",
    "test['JUNCTIONTYPE'] = prepare_categorical(test['JUNCTIONTYPE'])\n",
    "test['UNDERINFL'] = prepare_categorical(test['UNDERINFL'])\n",
    "test['WEATHER'] = prepare_categorical(test['WEATHER'])\n",
    "test['ROADCOND'] = prepare_categorical(test['ROADCOND'])\n",
    "test['LIGHTCOND'] = prepare_categorical(test['LIGHTCOND'])\n",
    "test['HITPARKEDCAR'] = prepare_categorical(test['HITPARKEDCAR'])\n",
    "\n",
    "details = computeDetails(train)\n",
    "print(details)\n",
    "\n",
    "details = computeDetails(test)\n",
    "print(details)"
   ]
  },
  {
   "cell_type": "code",
   "execution_count": 89,
   "metadata": {},
   "outputs": [],
   "source": [
    "#df = pd.get_dummies(df, columns=['PERSONCOUNT','PEDCOUNT','VEHCOUNT','JUNCTIONTYPE','INATTENTIONIND','UNDERINFL','WEATHER',\n",
    "#                                'ROADCOND','LIGHTCOND','PEDROWNOTGRNT','SPEEDING','HITPARKEDCAR','hour','dayofweek','month'])\n",
    "#details = computeDetails(df)\n",
    "#print(details)"
   ]
  },
  {
   "cell_type": "markdown",
   "metadata": {},
   "source": [
    "# Decision tree model"
   ]
  },
  {
   "cell_type": "code",
   "execution_count": 90,
   "metadata": {},
   "outputs": [],
   "source": [
    "y_train = train['SEVERITYCODE']\n",
    "X_train= train.drop(['SEVERITYCODE'], axis=1)\n",
    "\n",
    "y_test= test['SEVERITYCODE']\n",
    "X_test= test.drop(['SEVERITYCODE'], axis=1)"
   ]
  },
  {
   "cell_type": "code",
   "execution_count": 91,
   "metadata": {},
   "outputs": [],
   "source": [
    "from sklearn import svm\n",
    "from sklearn.preprocessing import StandardScaler\n",
    "from sklearn.metrics import f1_score\n",
    "from sklearn.tree import DecisionTreeClassifier\n",
    "\n",
    "train_scaler = StandardScaler()\n",
    "X_train_scaled = train_scaler.fit_transform(X_train)\n",
    "X_test_scaled = train_scaler.transform(X_test)"
   ]
  },
  {
   "cell_type": "code",
   "execution_count": 92,
   "metadata": {},
   "outputs": [
    {
     "data": {
      "text/plain": [
       "0.6618723112340972"
      ]
     },
     "execution_count": 92,
     "metadata": {},
     "output_type": "execute_result"
    }
   ],
   "source": [
    "clf = DecisionTreeClassifier(criterion=\"entropy\", class_weight='balanced',random_state=42)\n",
    "clf.fit(X_train_scaled, y_train) \n",
    "yhat = clf.predict(X_test_scaled)\n",
    "f1_score(y_test, yhat, average='weighted') "
   ]
  },
  {
   "cell_type": "markdown",
   "metadata": {},
   "source": [
    "# Feature selection"
   ]
  },
  {
   "cell_type": "code",
   "execution_count": 93,
   "metadata": {},
   "outputs": [],
   "source": [
    "from sklearn.feature_selection import SelectKBest\n",
    "from sklearn.feature_selection import chi2\n",
    "def select_features(X_train, y_train, X_test):\n",
    "    fs = SelectKBest(score_func=chi2, k='all')\n",
    "    fs.fit(X_train, y_train)\n",
    "    X_train_fs = fs.transform(X_train)\n",
    "    X_test_fs = fs.transform(X_test)\n",
    "    return X_train_fs, X_test_fs, fs"
   ]
  },
  {
   "cell_type": "code",
   "execution_count": 94,
   "metadata": {},
   "outputs": [
    {
     "name": "stdout",
     "output_type": "stream",
     "text": [
      "Feature ADDRTYPE: 3316.884152\n",
      "Feature LOCATION: 675795.854001\n",
      "Feature PERSONCOUNT: 1404.484307\n",
      "Feature PEDCOUNT: 7892.427372\n",
      "Feature PEDCYLCOUNT: 5723.688764\n",
      "Feature VEHCOUNT: 141.557617\n",
      "Feature JUNCTIONTYPE: 3799.208707\n",
      "Feature INATTENTIONIND: 190.648944\n",
      "Feature UNDERINFL: 197.030256\n",
      "Feature WEATHER: 3586.812688\n",
      "Feature ROADCOND: 1303.201772\n",
      "Feature LIGHTCOND: 259.349984\n",
      "Feature PEDROWNOTGRNT: 5281.004142\n",
      "Feature SPEEDING: 147.994285\n",
      "Feature SEGLANEKEY: 53549190.294949\n",
      "Feature CROSSWALKKEY: 2024643075.773531\n",
      "Feature HITPARKEDCAR: 1239.668011\n",
      "Feature hour: 333.237083\n",
      "Feature dayofweek: 51.960363\n",
      "Feature month: 0.785100\n"
     ]
    }
   ],
   "source": [
    "X_train_selected = X_train.drop(['X', 'Y'],axis=1)\n",
    "X_test_selected = X_test.drop(['X', 'Y'],axis=1)\n",
    "X_train_fs, X_test_fs, fs = select_features(X_train_selected, y_train, X_test_selected)\n",
    "column_val =X_train_selected.columns.values\n",
    "columns_to_drop=[]\n",
    "for i in range(len(fs.scores_)):\n",
    "    print('Feature %s: %f' % (column_val[i], fs.scores_[i]))\n",
    "    if fs.scores_[i]<100:\n",
    "        columns_to_drop.append(column_val[i])"
   ]
  },
  {
   "cell_type": "code",
   "execution_count": 95,
   "metadata": {},
   "outputs": [],
   "source": [
    "#columns_to_drop=['month','dayofweek','SPEEDING']\n",
    "X_train_selected = X_train.drop(columns_to_drop,axis=1)\n",
    "X_test_selected = X_test.drop(columns_to_drop,axis=1)\n",
    "\n",
    "train_scaler = StandardScaler()\n",
    "X_train_selected_scaled = train_scaler.fit_transform(X_train_selected)\n",
    "X_test_selected_scaled = train_scaler.transform(X_test_selected)"
   ]
  },
  {
   "cell_type": "code",
   "execution_count": 96,
   "metadata": {},
   "outputs": [
    {
     "data": {
      "text/plain": [
       "0.6632270288422661"
      ]
     },
     "execution_count": 96,
     "metadata": {},
     "output_type": "execute_result"
    }
   ],
   "source": [
    "clf = DecisionTreeClassifier(criterion=\"entropy\", class_weight='balanced',random_state=42)\n",
    "clf.fit(X_train_selected_scaled, y_train) \n",
    "yhat = clf.predict(X_test_selected_scaled)\n",
    "f1_score(y_test, yhat, average='weighted') "
   ]
  },
  {
   "cell_type": "markdown",
   "metadata": {},
   "source": [
    "# XGBoost"
   ]
  },
  {
   "cell_type": "code",
   "execution_count": 97,
   "metadata": {},
   "outputs": [
    {
     "data": {
      "text/plain": [
       "0.6632270288422661"
      ]
     },
     "execution_count": 97,
     "metadata": {},
     "output_type": "execute_result"
    }
   ],
   "source": [
    "yhat = clf.predict(X_test_selected_scaled)\n",
    "f1_score(y_test, yhat, average='weighted') "
   ]
  },
  {
   "cell_type": "code",
   "execution_count": 98,
   "metadata": {},
   "outputs": [],
   "source": [
    "from sklearn.utils import class_weight\n",
    "def ComputeWeights(y_val):\n",
    "    sample_weights = class_weight.compute_class_weight('balanced', np.unique(y_val), y_val)\n",
    "    weights = []\n",
    "    y_train = np.array(y_val)\n",
    "    for i in range(len(y_val)):\n",
    "        if y_val[i] == 1:\n",
    "            weights.append(sample_weights[0])\n",
    "        elif y_val[i] == 2:\n",
    "            weights.append(sample_weights[1])\n",
    "\n",
    "    weights = np.array(weights)\n",
    "    \n",
    "    return weights"
   ]
  },
  {
   "cell_type": "code",
   "execution_count": 99,
   "metadata": {},
   "outputs": [
    {
     "name": "stderr",
     "output_type": "stream",
     "text": [
      "d:\\apps\\python_3_7_4\\lib\\site-packages\\sklearn\\utils\\validation.py:71: FutureWarning: Pass classes=[1 2], y=[1 1 1 ... 2 1 1] as keyword args. From version 0.25 passing these as positional arguments will result in an error\n",
      "  FutureWarning)\n"
     ]
    },
    {
     "data": {
      "text/plain": [
       "0.7027082263293823"
      ]
     },
     "execution_count": 99,
     "metadata": {},
     "output_type": "execute_result"
    }
   ],
   "source": [
    "X_train_scaled = np.array(X_train_scaled)\n",
    "y_train = np.array(y_train)\n",
    "X_test_scaled = np.array(X_test_scaled)\n",
    "y_test = np.array(y_test)\n",
    "\n",
    "import xgboost as xgb\n",
    "clf = xgb.XGBClassifier(n_jobs=3)\n",
    "\n",
    "weights = ComputeWeights(y_train)\n",
    "clf.fit(X_train_scaled, y_train,sample_weight=weights) \n",
    "yhat = clf.predict(X_test_scaled)\n",
    "f1_score(y_test, yhat, average='weighted') "
   ]
  },
  {
   "cell_type": "code",
   "execution_count": 100,
   "metadata": {},
   "outputs": [
    {
     "name": "stdout",
     "output_type": "stream",
     "text": [
      "0.693905221733523\n"
     ]
    }
   ],
   "source": [
    "from sklearn.metrics import accuracy_score\n",
    "current_accuracy =  accuracy_score(y_test, yhat)\n",
    "print(current_accuracy)"
   ]
  },
  {
   "cell_type": "code",
   "execution_count": null,
   "metadata": {},
   "outputs": [],
   "source": []
  },
  {
   "cell_type": "code",
   "execution_count": null,
   "metadata": {},
   "outputs": [],
   "source": []
  },
  {
   "cell_type": "code",
   "execution_count": null,
   "metadata": {},
   "outputs": [],
   "source": []
  }
 ],
 "metadata": {
  "kernelspec": {
   "display_name": "Python 3",
   "language": "python",
   "name": "python3"
  },
  "language_info": {
   "codemirror_mode": {
    "name": "ipython",
    "version": 3
   },
   "file_extension": ".py",
   "mimetype": "text/x-python",
   "name": "python",
   "nbconvert_exporter": "python",
   "pygments_lexer": "ipython3",
   "version": "3.7.4"
  }
 },
 "nbformat": 4,
 "nbformat_minor": 2
}
