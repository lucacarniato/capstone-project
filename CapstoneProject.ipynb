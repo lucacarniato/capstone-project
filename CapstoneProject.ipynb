{
 "cells": [
  {
   "cell_type": "markdown",
   "metadata": {},
   "source": [
    "# This is the Coursera capstone project"
   ]
  },
  {
   "cell_type": "code",
   "execution_count": 1,
   "metadata": {},
   "outputs": [],
   "source": [
    "import numpy as np\n",
    "import pandas as pd\n",
    "pd.set_option('display.float_format', lambda x: '{:.3f}'.format(x)) #Limiting floats output to 3 decimal points\n",
    "from matplotlib import pyplot as plt\n",
    "%matplotlib inline\n",
    "import seaborn as sns"
   ]
  },
  {
   "cell_type": "code",
   "execution_count": 2,
   "metadata": {},
   "outputs": [
    {
     "name": "stdout",
     "output_type": "stream",
     "text": [
      "Hello Capstone Project Course!\n"
     ]
    }
   ],
   "source": [
    "print(\"Hello Capstone Project Course!\")"
   ]
  },
  {
   "cell_type": "code",
   "execution_count": 3,
   "metadata": {},
   "outputs": [
    {
     "name": "stderr",
     "output_type": "stream",
     "text": [
      "C:\\Users\\carniato\\AppData\\Roaming\\Python\\Python37\\site-packages\\IPython\\core\\interactiveshell.py:3049: DtypeWarning: Columns (33) have mixed types. Specify dtype option on import or set low_memory=False.\n",
      "  interactivity=interactivity, compiler=compiler, result=result)\n"
     ]
    },
    {
     "data": {
      "text/html": [
       "<div>\n",
       "<style scoped>\n",
       "    .dataframe tbody tr th:only-of-type {\n",
       "        vertical-align: middle;\n",
       "    }\n",
       "\n",
       "    .dataframe tbody tr th {\n",
       "        vertical-align: top;\n",
       "    }\n",
       "\n",
       "    .dataframe thead th {\n",
       "        text-align: right;\n",
       "    }\n",
       "</style>\n",
       "<table border=\"1\" class=\"dataframe\">\n",
       "  <thead>\n",
       "    <tr style=\"text-align: right;\">\n",
       "      <th></th>\n",
       "      <th>SEVERITYCODE</th>\n",
       "      <th>X</th>\n",
       "      <th>Y</th>\n",
       "      <th>OBJECTID</th>\n",
       "      <th>INCKEY</th>\n",
       "      <th>COLDETKEY</th>\n",
       "      <th>REPORTNO</th>\n",
       "      <th>STATUS</th>\n",
       "      <th>ADDRTYPE</th>\n",
       "      <th>INTKEY</th>\n",
       "      <th>...</th>\n",
       "      <th>ROADCOND</th>\n",
       "      <th>LIGHTCOND</th>\n",
       "      <th>PEDROWNOTGRNT</th>\n",
       "      <th>SDOTCOLNUM</th>\n",
       "      <th>SPEEDING</th>\n",
       "      <th>ST_COLCODE</th>\n",
       "      <th>ST_COLDESC</th>\n",
       "      <th>SEGLANEKEY</th>\n",
       "      <th>CROSSWALKKEY</th>\n",
       "      <th>HITPARKEDCAR</th>\n",
       "    </tr>\n",
       "  </thead>\n",
       "  <tbody>\n",
       "    <tr>\n",
       "      <th>0</th>\n",
       "      <td>2</td>\n",
       "      <td>-122.323</td>\n",
       "      <td>47.703</td>\n",
       "      <td>1</td>\n",
       "      <td>1307</td>\n",
       "      <td>1307</td>\n",
       "      <td>3502005</td>\n",
       "      <td>Matched</td>\n",
       "      <td>Intersection</td>\n",
       "      <td>37475.000</td>\n",
       "      <td>...</td>\n",
       "      <td>Wet</td>\n",
       "      <td>Daylight</td>\n",
       "      <td>NaN</td>\n",
       "      <td>nan</td>\n",
       "      <td>NaN</td>\n",
       "      <td>10</td>\n",
       "      <td>Entering at angle</td>\n",
       "      <td>0</td>\n",
       "      <td>0</td>\n",
       "      <td>N</td>\n",
       "    </tr>\n",
       "    <tr>\n",
       "      <th>1</th>\n",
       "      <td>1</td>\n",
       "      <td>-122.347</td>\n",
       "      <td>47.647</td>\n",
       "      <td>2</td>\n",
       "      <td>52200</td>\n",
       "      <td>52200</td>\n",
       "      <td>2607959</td>\n",
       "      <td>Matched</td>\n",
       "      <td>Block</td>\n",
       "      <td>nan</td>\n",
       "      <td>...</td>\n",
       "      <td>Wet</td>\n",
       "      <td>Dark - Street Lights On</td>\n",
       "      <td>NaN</td>\n",
       "      <td>6354039.000</td>\n",
       "      <td>NaN</td>\n",
       "      <td>11</td>\n",
       "      <td>From same direction - both going straight - bo...</td>\n",
       "      <td>0</td>\n",
       "      <td>0</td>\n",
       "      <td>N</td>\n",
       "    </tr>\n",
       "    <tr>\n",
       "      <th>2</th>\n",
       "      <td>1</td>\n",
       "      <td>-122.335</td>\n",
       "      <td>47.608</td>\n",
       "      <td>3</td>\n",
       "      <td>26700</td>\n",
       "      <td>26700</td>\n",
       "      <td>1482393</td>\n",
       "      <td>Matched</td>\n",
       "      <td>Block</td>\n",
       "      <td>nan</td>\n",
       "      <td>...</td>\n",
       "      <td>Dry</td>\n",
       "      <td>Daylight</td>\n",
       "      <td>NaN</td>\n",
       "      <td>4323031.000</td>\n",
       "      <td>NaN</td>\n",
       "      <td>32</td>\n",
       "      <td>One parked--one moving</td>\n",
       "      <td>0</td>\n",
       "      <td>0</td>\n",
       "      <td>N</td>\n",
       "    </tr>\n",
       "    <tr>\n",
       "      <th>3</th>\n",
       "      <td>1</td>\n",
       "      <td>-122.335</td>\n",
       "      <td>47.605</td>\n",
       "      <td>4</td>\n",
       "      <td>1144</td>\n",
       "      <td>1144</td>\n",
       "      <td>3503937</td>\n",
       "      <td>Matched</td>\n",
       "      <td>Block</td>\n",
       "      <td>nan</td>\n",
       "      <td>...</td>\n",
       "      <td>Dry</td>\n",
       "      <td>Daylight</td>\n",
       "      <td>NaN</td>\n",
       "      <td>nan</td>\n",
       "      <td>NaN</td>\n",
       "      <td>23</td>\n",
       "      <td>From same direction - all others</td>\n",
       "      <td>0</td>\n",
       "      <td>0</td>\n",
       "      <td>N</td>\n",
       "    </tr>\n",
       "    <tr>\n",
       "      <th>4</th>\n",
       "      <td>2</td>\n",
       "      <td>-122.306</td>\n",
       "      <td>47.546</td>\n",
       "      <td>5</td>\n",
       "      <td>17700</td>\n",
       "      <td>17700</td>\n",
       "      <td>1807429</td>\n",
       "      <td>Matched</td>\n",
       "      <td>Intersection</td>\n",
       "      <td>34387.000</td>\n",
       "      <td>...</td>\n",
       "      <td>Wet</td>\n",
       "      <td>Daylight</td>\n",
       "      <td>NaN</td>\n",
       "      <td>4028032.000</td>\n",
       "      <td>NaN</td>\n",
       "      <td>10</td>\n",
       "      <td>Entering at angle</td>\n",
       "      <td>0</td>\n",
       "      <td>0</td>\n",
       "      <td>N</td>\n",
       "    </tr>\n",
       "  </tbody>\n",
       "</table>\n",
       "<p>5 rows × 38 columns</p>\n",
       "</div>"
      ],
      "text/plain": [
       "   SEVERITYCODE        X      Y  OBJECTID  INCKEY  COLDETKEY REPORTNO  \\\n",
       "0             2 -122.323 47.703         1    1307       1307  3502005   \n",
       "1             1 -122.347 47.647         2   52200      52200  2607959   \n",
       "2             1 -122.335 47.608         3   26700      26700  1482393   \n",
       "3             1 -122.335 47.605         4    1144       1144  3503937   \n",
       "4             2 -122.306 47.546         5   17700      17700  1807429   \n",
       "\n",
       "    STATUS      ADDRTYPE    INTKEY  ... ROADCOND                LIGHTCOND  \\\n",
       "0  Matched  Intersection 37475.000  ...      Wet                 Daylight   \n",
       "1  Matched         Block       nan  ...      Wet  Dark - Street Lights On   \n",
       "2  Matched         Block       nan  ...      Dry                 Daylight   \n",
       "3  Matched         Block       nan  ...      Dry                 Daylight   \n",
       "4  Matched  Intersection 34387.000  ...      Wet                 Daylight   \n",
       "\n",
       "  PEDROWNOTGRNT  SDOTCOLNUM SPEEDING ST_COLCODE  \\\n",
       "0           NaN         nan      NaN         10   \n",
       "1           NaN 6354039.000      NaN         11   \n",
       "2           NaN 4323031.000      NaN         32   \n",
       "3           NaN         nan      NaN         23   \n",
       "4           NaN 4028032.000      NaN         10   \n",
       "\n",
       "                                          ST_COLDESC  SEGLANEKEY  \\\n",
       "0                                  Entering at angle           0   \n",
       "1  From same direction - both going straight - bo...           0   \n",
       "2                             One parked--one moving           0   \n",
       "3                   From same direction - all others           0   \n",
       "4                                  Entering at angle           0   \n",
       "\n",
       "   CROSSWALKKEY  HITPARKEDCAR  \n",
       "0             0             N  \n",
       "1             0             N  \n",
       "2             0             N  \n",
       "3             0             N  \n",
       "4             0             N  \n",
       "\n",
       "[5 rows x 38 columns]"
      ]
     },
     "execution_count": 3,
     "metadata": {},
     "output_type": "execute_result"
    }
   ],
   "source": [
    "dfOriginal = pd.read_csv('Data-Collisions.csv')\n",
    "dfOriginal.head()"
   ]
  },
  {
   "cell_type": "code",
   "execution_count": 4,
   "metadata": {},
   "outputs": [
    {
     "data": {
      "text/html": [
       "<div>\n",
       "<style scoped>\n",
       "    .dataframe tbody tr th:only-of-type {\n",
       "        vertical-align: middle;\n",
       "    }\n",
       "\n",
       "    .dataframe tbody tr th {\n",
       "        vertical-align: top;\n",
       "    }\n",
       "\n",
       "    .dataframe thead th {\n",
       "        text-align: right;\n",
       "    }\n",
       "</style>\n",
       "<table border=\"1\" class=\"dataframe\">\n",
       "  <thead>\n",
       "    <tr style=\"text-align: right;\">\n",
       "      <th></th>\n",
       "      <th>SEVERITYCODE</th>\n",
       "      <th>X</th>\n",
       "      <th>Y</th>\n",
       "      <th>OBJECTID</th>\n",
       "      <th>INCKEY</th>\n",
       "      <th>COLDETKEY</th>\n",
       "      <th>INTKEY</th>\n",
       "      <th>SEVERITYCODE.1</th>\n",
       "      <th>PERSONCOUNT</th>\n",
       "      <th>PEDCOUNT</th>\n",
       "      <th>PEDCYLCOUNT</th>\n",
       "      <th>VEHCOUNT</th>\n",
       "      <th>SDOT_COLCODE</th>\n",
       "      <th>SDOTCOLNUM</th>\n",
       "      <th>SEGLANEKEY</th>\n",
       "      <th>CROSSWALKKEY</th>\n",
       "    </tr>\n",
       "  </thead>\n",
       "  <tbody>\n",
       "    <tr>\n",
       "      <th>count</th>\n",
       "      <td>194673.000</td>\n",
       "      <td>189339.000</td>\n",
       "      <td>189339.000</td>\n",
       "      <td>194673.000</td>\n",
       "      <td>194673.000</td>\n",
       "      <td>194673.000</td>\n",
       "      <td>65070.000</td>\n",
       "      <td>194673.000</td>\n",
       "      <td>194673.000</td>\n",
       "      <td>194673.000</td>\n",
       "      <td>194673.000</td>\n",
       "      <td>194673.000</td>\n",
       "      <td>194673.000</td>\n",
       "      <td>114936.000</td>\n",
       "      <td>194673.000</td>\n",
       "      <td>194673.000</td>\n",
       "    </tr>\n",
       "    <tr>\n",
       "      <th>mean</th>\n",
       "      <td>1.299</td>\n",
       "      <td>-122.331</td>\n",
       "      <td>47.620</td>\n",
       "      <td>108479.365</td>\n",
       "      <td>141091.456</td>\n",
       "      <td>141298.811</td>\n",
       "      <td>37558.451</td>\n",
       "      <td>1.299</td>\n",
       "      <td>2.444</td>\n",
       "      <td>0.037</td>\n",
       "      <td>0.028</td>\n",
       "      <td>1.921</td>\n",
       "      <td>13.868</td>\n",
       "      <td>7972521.337</td>\n",
       "      <td>269.401</td>\n",
       "      <td>9782.452</td>\n",
       "    </tr>\n",
       "    <tr>\n",
       "      <th>std</th>\n",
       "      <td>0.458</td>\n",
       "      <td>0.030</td>\n",
       "      <td>0.056</td>\n",
       "      <td>62649.723</td>\n",
       "      <td>86634.403</td>\n",
       "      <td>86986.542</td>\n",
       "      <td>51745.990</td>\n",
       "      <td>0.458</td>\n",
       "      <td>1.346</td>\n",
       "      <td>0.198</td>\n",
       "      <td>0.167</td>\n",
       "      <td>0.631</td>\n",
       "      <td>6.869</td>\n",
       "      <td>2553533.452</td>\n",
       "      <td>3315.776</td>\n",
       "      <td>72269.257</td>\n",
       "    </tr>\n",
       "    <tr>\n",
       "      <th>min</th>\n",
       "      <td>1.000</td>\n",
       "      <td>-122.419</td>\n",
       "      <td>47.496</td>\n",
       "      <td>1.000</td>\n",
       "      <td>1001.000</td>\n",
       "      <td>1001.000</td>\n",
       "      <td>23807.000</td>\n",
       "      <td>1.000</td>\n",
       "      <td>0.000</td>\n",
       "      <td>0.000</td>\n",
       "      <td>0.000</td>\n",
       "      <td>0.000</td>\n",
       "      <td>0.000</td>\n",
       "      <td>1007024.000</td>\n",
       "      <td>0.000</td>\n",
       "      <td>0.000</td>\n",
       "    </tr>\n",
       "    <tr>\n",
       "      <th>25%</th>\n",
       "      <td>1.000</td>\n",
       "      <td>-122.349</td>\n",
       "      <td>47.576</td>\n",
       "      <td>54267.000</td>\n",
       "      <td>70383.000</td>\n",
       "      <td>70383.000</td>\n",
       "      <td>28667.000</td>\n",
       "      <td>1.000</td>\n",
       "      <td>2.000</td>\n",
       "      <td>0.000</td>\n",
       "      <td>0.000</td>\n",
       "      <td>2.000</td>\n",
       "      <td>11.000</td>\n",
       "      <td>6040014.750</td>\n",
       "      <td>0.000</td>\n",
       "      <td>0.000</td>\n",
       "    </tr>\n",
       "    <tr>\n",
       "      <th>50%</th>\n",
       "      <td>1.000</td>\n",
       "      <td>-122.330</td>\n",
       "      <td>47.615</td>\n",
       "      <td>106912.000</td>\n",
       "      <td>123363.000</td>\n",
       "      <td>123363.000</td>\n",
       "      <td>29973.000</td>\n",
       "      <td>1.000</td>\n",
       "      <td>2.000</td>\n",
       "      <td>0.000</td>\n",
       "      <td>0.000</td>\n",
       "      <td>2.000</td>\n",
       "      <td>13.000</td>\n",
       "      <td>8023022.500</td>\n",
       "      <td>0.000</td>\n",
       "      <td>0.000</td>\n",
       "    </tr>\n",
       "    <tr>\n",
       "      <th>75%</th>\n",
       "      <td>2.000</td>\n",
       "      <td>-122.312</td>\n",
       "      <td>47.664</td>\n",
       "      <td>162272.000</td>\n",
       "      <td>203319.000</td>\n",
       "      <td>203459.000</td>\n",
       "      <td>33973.000</td>\n",
       "      <td>2.000</td>\n",
       "      <td>3.000</td>\n",
       "      <td>0.000</td>\n",
       "      <td>0.000</td>\n",
       "      <td>2.000</td>\n",
       "      <td>14.000</td>\n",
       "      <td>10155010.250</td>\n",
       "      <td>0.000</td>\n",
       "      <td>0.000</td>\n",
       "    </tr>\n",
       "    <tr>\n",
       "      <th>max</th>\n",
       "      <td>2.000</td>\n",
       "      <td>-122.239</td>\n",
       "      <td>47.734</td>\n",
       "      <td>219547.000</td>\n",
       "      <td>331454.000</td>\n",
       "      <td>332954.000</td>\n",
       "      <td>757580.000</td>\n",
       "      <td>2.000</td>\n",
       "      <td>81.000</td>\n",
       "      <td>6.000</td>\n",
       "      <td>2.000</td>\n",
       "      <td>12.000</td>\n",
       "      <td>69.000</td>\n",
       "      <td>13072024.000</td>\n",
       "      <td>525241.000</td>\n",
       "      <td>5239700.000</td>\n",
       "    </tr>\n",
       "  </tbody>\n",
       "</table>\n",
       "</div>"
      ],
      "text/plain": [
       "       SEVERITYCODE          X          Y   OBJECTID     INCKEY  COLDETKEY  \\\n",
       "count    194673.000 189339.000 189339.000 194673.000 194673.000 194673.000   \n",
       "mean          1.299   -122.331     47.620 108479.365 141091.456 141298.811   \n",
       "std           0.458      0.030      0.056  62649.723  86634.403  86986.542   \n",
       "min           1.000   -122.419     47.496      1.000   1001.000   1001.000   \n",
       "25%           1.000   -122.349     47.576  54267.000  70383.000  70383.000   \n",
       "50%           1.000   -122.330     47.615 106912.000 123363.000 123363.000   \n",
       "75%           2.000   -122.312     47.664 162272.000 203319.000 203459.000   \n",
       "max           2.000   -122.239     47.734 219547.000 331454.000 332954.000   \n",
       "\n",
       "          INTKEY  SEVERITYCODE.1  PERSONCOUNT   PEDCOUNT  PEDCYLCOUNT  \\\n",
       "count  65070.000      194673.000   194673.000 194673.000   194673.000   \n",
       "mean   37558.451           1.299        2.444      0.037        0.028   \n",
       "std    51745.990           0.458        1.346      0.198        0.167   \n",
       "min    23807.000           1.000        0.000      0.000        0.000   \n",
       "25%    28667.000           1.000        2.000      0.000        0.000   \n",
       "50%    29973.000           1.000        2.000      0.000        0.000   \n",
       "75%    33973.000           2.000        3.000      0.000        0.000   \n",
       "max   757580.000           2.000       81.000      6.000        2.000   \n",
       "\n",
       "        VEHCOUNT  SDOT_COLCODE   SDOTCOLNUM  SEGLANEKEY  CROSSWALKKEY  \n",
       "count 194673.000    194673.000   114936.000  194673.000    194673.000  \n",
       "mean       1.921        13.868  7972521.337     269.401      9782.452  \n",
       "std        0.631         6.869  2553533.452    3315.776     72269.257  \n",
       "min        0.000         0.000  1007024.000       0.000         0.000  \n",
       "25%        2.000        11.000  6040014.750       0.000         0.000  \n",
       "50%        2.000        13.000  8023022.500       0.000         0.000  \n",
       "75%        2.000        14.000 10155010.250       0.000         0.000  \n",
       "max       12.000        69.000 13072024.000  525241.000   5239700.000  "
      ]
     },
     "execution_count": 4,
     "metadata": {},
     "output_type": "execute_result"
    }
   ],
   "source": [
    "dfOriginal.describe()"
   ]
  },
  {
   "cell_type": "markdown",
   "metadata": {},
   "source": [
    "# Data cleaning"
   ]
  },
  {
   "cell_type": "markdown",
   "metadata": {},
   "source": [
    "Inspect data first"
   ]
  },
  {
   "cell_type": "code",
   "execution_count": 5,
   "metadata": {},
   "outputs": [],
   "source": [
    "def computeDetails(df): \n",
    "    obs = df.shape[0]\n",
    "    types = df.dtypes\n",
    "    counts = df.apply(lambda x: x.count())\n",
    "    uniques = df.apply(lambda x: [x.unique()])\n",
    "    nulls = df.apply(lambda x: x.isnull().sum())\n",
    "    distincts = df.apply(lambda x: x.unique().shape[0])\n",
    "    missing_ration = (df.isnull().sum()/ obs) * 100\n",
    "    \n",
    "    cols = ['types', 'counts', 'distincts', 'nulls', 'missing ration']\n",
    "    details = pd.concat([types, counts, distincts, nulls, missing_ration], axis = 1)\n",
    "    details.columns = cols\n",
    "    \n",
    "    return details"
   ]
  },
  {
   "cell_type": "code",
   "execution_count": 6,
   "metadata": {},
   "outputs": [
    {
     "name": "stdout",
     "output_type": "stream",
     "text": [
      "                  types  counts  distincts   nulls  missing ration\n",
      "SEVERITYCODE      int64  194673          2       0           0.000\n",
      "X               float64  189339      23564    5334           2.740\n",
      "Y               float64  189339      23840    5334           2.740\n",
      "OBJECTID          int64  194673     194673       0           0.000\n",
      "INCKEY            int64  194673     194673       0           0.000\n",
      "COLDETKEY         int64  194673     194673       0           0.000\n",
      "REPORTNO         object  194673     194670       0           0.000\n",
      "STATUS           object  194673          2       0           0.000\n",
      "ADDRTYPE         object  192747          4    1926           0.989\n",
      "INTKEY          float64   65070       7615  129603          66.575\n",
      "LOCATION         object  191996      24103    2677           1.375\n",
      "EXCEPTRSNCODE    object   84811          3  109862          56.434\n",
      "EXCEPTRSNDESC    object    5638          2  189035          97.104\n",
      "SEVERITYCODE.1    int64  194673          2       0           0.000\n",
      "SEVERITYDESC     object  194673          2       0           0.000\n",
      "COLLISIONTYPE    object  189769         11    4904           2.519\n",
      "PERSONCOUNT       int64  194673         47       0           0.000\n",
      "PEDCOUNT          int64  194673          7       0           0.000\n",
      "PEDCYLCOUNT       int64  194673          3       0           0.000\n",
      "VEHCOUNT          int64  194673         13       0           0.000\n",
      "INCDATE          object  194673       5985       0           0.000\n",
      "INCDTTM          object  194673     162058       0           0.000\n",
      "JUNCTIONTYPE     object  188344          8    6329           3.251\n",
      "SDOT_COLCODE      int64  194673         39       0           0.000\n",
      "SDOT_COLDESC     object  194673         39       0           0.000\n",
      "INATTENTIONIND   object   29805          2  164868          84.690\n",
      "UNDERINFL        object  189789          5    4884           2.509\n",
      "WEATHER          object  189592         12    5081           2.610\n",
      "ROADCOND         object  189661         10    5012           2.575\n",
      "LIGHTCOND        object  189503         10    5170           2.656\n",
      "PEDROWNOTGRNT    object    4667          2  190006          97.603\n",
      "SDOTCOLNUM      float64  114936     114933   79737          40.959\n",
      "SPEEDING         object    9333          2  185340          95.206\n",
      "ST_COLCODE       object  194655        116      18           0.009\n",
      "ST_COLDESC       object  189769         63    4904           2.519\n",
      "SEGLANEKEY        int64  194673       1955       0           0.000\n",
      "CROSSWALKKEY      int64  194673       2198       0           0.000\n",
      "HITPARKEDCAR     object  194673          2       0           0.000\n"
     ]
    }
   ],
   "source": [
    "details = computeDetails(dfOriginal)\n",
    "print(details)"
   ]
  },
  {
   "cell_type": "markdown",
   "metadata": {},
   "source": [
    "Remove columns with a ratio of missing values > 50%"
   ]
  },
  {
   "cell_type": "code",
   "execution_count": 7,
   "metadata": {},
   "outputs": [],
   "source": [
    "df = dfOriginal.drop(['INTKEY','EXCEPTRSNCODE','EXCEPTRSNDESC','INATTENTIONIND','PEDROWNOTGRNT','SPEEDING'], axis=1)"
   ]
  },
  {
   "cell_type": "code",
   "execution_count": 8,
   "metadata": {},
   "outputs": [
    {
     "name": "stdout",
     "output_type": "stream",
     "text": [
      "                  types  counts  distincts  nulls  missing ration\n",
      "SEVERITYCODE      int64  194673          2      0           0.000\n",
      "X               float64  189339      23564   5334           2.740\n",
      "Y               float64  189339      23840   5334           2.740\n",
      "OBJECTID          int64  194673     194673      0           0.000\n",
      "INCKEY            int64  194673     194673      0           0.000\n",
      "COLDETKEY         int64  194673     194673      0           0.000\n",
      "REPORTNO         object  194673     194670      0           0.000\n",
      "STATUS           object  194673          2      0           0.000\n",
      "ADDRTYPE         object  192747          4   1926           0.989\n",
      "LOCATION         object  191996      24103   2677           1.375\n",
      "SEVERITYCODE.1    int64  194673          2      0           0.000\n",
      "SEVERITYDESC     object  194673          2      0           0.000\n",
      "COLLISIONTYPE    object  189769         11   4904           2.519\n",
      "PERSONCOUNT       int64  194673         47      0           0.000\n",
      "PEDCOUNT          int64  194673          7      0           0.000\n",
      "PEDCYLCOUNT       int64  194673          3      0           0.000\n",
      "VEHCOUNT          int64  194673         13      0           0.000\n",
      "INCDATE          object  194673       5985      0           0.000\n",
      "INCDTTM          object  194673     162058      0           0.000\n",
      "JUNCTIONTYPE     object  188344          8   6329           3.251\n",
      "SDOT_COLCODE      int64  194673         39      0           0.000\n",
      "SDOT_COLDESC     object  194673         39      0           0.000\n",
      "UNDERINFL        object  189789          5   4884           2.509\n",
      "WEATHER          object  189592         12   5081           2.610\n",
      "ROADCOND         object  189661         10   5012           2.575\n",
      "LIGHTCOND        object  189503         10   5170           2.656\n",
      "SDOTCOLNUM      float64  114936     114933  79737          40.959\n",
      "ST_COLCODE       object  194655        116     18           0.009\n",
      "ST_COLDESC       object  189769         63   4904           2.519\n",
      "SEGLANEKEY        int64  194673       1955      0           0.000\n",
      "CROSSWALKKEY      int64  194673       2198      0           0.000\n",
      "HITPARKEDCAR     object  194673          2      0           0.000\n"
     ]
    }
   ],
   "source": [
    "details = computeDetails(df)\n",
    "print(details)"
   ]
  },
  {
   "cell_type": "markdown",
   "metadata": {},
   "source": [
    "Eliminate the columns that are semantically equal or similar to the target"
   ]
  },
  {
   "cell_type": "code",
   "execution_count": 9,
   "metadata": {},
   "outputs": [
    {
     "name": "stdout",
     "output_type": "stream",
     "text": [
      "True\n"
     ]
    }
   ],
   "source": [
    "print(df['SEVERITYCODE.1'].equals(df['SEVERITYCODE']))"
   ]
  },
  {
   "cell_type": "code",
   "execution_count": 10,
   "metadata": {},
   "outputs": [],
   "source": [
    "df = df.drop(['SEVERITYCODE.1'], axis=1)"
   ]
  },
  {
   "cell_type": "code",
   "execution_count": 11,
   "metadata": {},
   "outputs": [],
   "source": [
    "df = df.drop(['SEVERITYDESC'], axis=1)"
   ]
  },
  {
   "cell_type": "markdown",
   "metadata": {},
   "source": [
    "Some fatures are administrative records, after the incided occoured"
   ]
  },
  {
   "cell_type": "code",
   "execution_count": 12,
   "metadata": {
    "scrolled": true
   },
   "outputs": [
    {
     "name": "stdout",
     "output_type": "stream",
     "text": [
      "                types  counts  distincts  nulls  missing ration\n",
      "SEVERITYCODE    int64  194673          2      0           0.000\n",
      "X             float64  189339      23564   5334           2.740\n",
      "Y             float64  189339      23840   5334           2.740\n",
      "STATUS         object  194673          2      0           0.000\n",
      "ADDRTYPE       object  192747          4   1926           0.989\n",
      "LOCATION       object  191996      24103   2677           1.375\n",
      "PERSONCOUNT     int64  194673         47      0           0.000\n",
      "PEDCOUNT        int64  194673          7      0           0.000\n",
      "PEDCYLCOUNT     int64  194673          3      0           0.000\n",
      "VEHCOUNT        int64  194673         13      0           0.000\n",
      "INCDATE        object  194673       5985      0           0.000\n",
      "INCDTTM        object  194673     162058      0           0.000\n",
      "JUNCTIONTYPE   object  188344          8   6329           3.251\n",
      "UNDERINFL      object  189789          5   4884           2.509\n",
      "WEATHER        object  189592         12   5081           2.610\n",
      "ROADCOND       object  189661         10   5012           2.575\n",
      "LIGHTCOND      object  189503         10   5170           2.656\n",
      "SEGLANEKEY      int64  194673       1955      0           0.000\n",
      "CROSSWALKKEY    int64  194673       2198      0           0.000\n",
      "HITPARKEDCAR   object  194673          2      0           0.000\n"
     ]
    }
   ],
   "source": [
    "df = df.drop(['OBJECTID','INCKEY','COLDETKEY','REPORTNO','ST_COLCODE','ST_COLDESC','SDOTCOLNUM'], axis=1)\n",
    "df = df.drop(['COLLISIONTYPE','SDOT_COLCODE','SDOT_COLDESC'], axis=1)\n",
    "details = computeDetails(df)\n",
    "print(details)"
   ]
  },
  {
   "cell_type": "markdown",
   "metadata": {},
   "source": [
    "can we use location for missing X,Y and junction type?"
   ]
  },
  {
   "cell_type": "code",
   "execution_count": 13,
   "metadata": {},
   "outputs": [
    {
     "name": "stdout",
     "output_type": "stream",
     "text": [
      "percentage dropped  0.0749307813615653\n"
     ]
    }
   ],
   "source": [
    "original_length = len(df)\n",
    "df_dropped = df.dropna()\n",
    "print(\"percentage dropped \", (original_length-len(df_dropped))/len(df))"
   ]
  },
  {
   "cell_type": "code",
   "execution_count": 53,
   "metadata": {},
   "outputs": [],
   "source": [
    "import datetime\n",
    "\n",
    "def GetIndexses(df,col_missing_data,missingValue):\n",
    "    if not missingValue :\n",
    "        # nan\n",
    "        indexses = df[col_missing_data].isnull()\n",
    "    else:\n",
    "        # comparables\n",
    "        indexses = df[col_missing_data]==missingValue\n",
    "        \n",
    "    return indexses\n",
    "\n",
    "def InputMissingData(df, col_missing_data, col_ref, missingValue = None):\n",
    "    #group by nan or missing value\n",
    "    invalid_idxs = GetIndexses(df, col_missing_data, missingValue)\n",
    "    df_notval = df[invalid_idxs]\n",
    "    df_notval = df_notval.groupby(col_ref).sum()  \n",
    "    #print(df_notval[col_ref])\n",
    "    #the valid entries\n",
    "    df_val = df[~invalid_idxs]\n",
    "    \n",
    "    #now check the values of the reference column\n",
    "    for r in df_notval.index.values:\n",
    "        print(r)\n",
    "        if isinstance(r, str) or isinstance(r, datetime.date):\n",
    "            #a string (e.g. a location)\n",
    "            df_loc = df_val[df_val[col_ref]==r]\n",
    "        elif len(r)==2:\n",
    "            #two doubles\n",
    "            df_loc = df_val[(df_val[col_ref[0]]==r[0])& (df_val[col_ref[1]]==r[1])]\n",
    "            \n",
    "        if len(df_loc) > 0:\n",
    "            val = df_loc[col_missing_data].iloc[0]\n",
    "            if isinstance(r, str) or isinstance(r, datetime.date):\n",
    "                #substitute with the first valid value\n",
    "                df.loc[(df[col_ref]==r) & invalid_idxs,col_missing_data]=val\n",
    "            elif len(r) ==2:\n",
    "                df.loc[(df[col_ref[0]]==r[0]) &(df[col_ref[1]]==r[1]) & invalid_idxs, col_missing_data] = val\n",
    "        \n",
    "    return df        "
   ]
  },
  {
   "cell_type": "code",
   "execution_count": 36,
   "metadata": {},
   "outputs": [],
   "source": [
    "#df = InputMissingData(df, 'X', 'LOCATION')\n",
    "#df = InputMissingData(df, 'Y', 'LOCATION')\n",
    "#df = InputMissingData(df, 'LOCATION', ['X','Y'])\n",
    "#df = InputMissingData(df, 'JUNCTIONTYPE', 'LOCATION')\n",
    "df = InputMissingData(df, 'JUNCTIONTYPE', ['X','Y'])"
   ]
  },
  {
   "cell_type": "code",
   "execution_count": 38,
   "metadata": {},
   "outputs": [
    {
     "name": "stdout",
     "output_type": "stream",
     "text": [
      "percentage dropped  0.055297858460084344\n"
     ]
    }
   ],
   "source": [
    "df_dropped = df.dropna()\n",
    "print(\"percentage dropped \", (original_length-len(df_dropped))/len(df))"
   ]
  },
  {
   "cell_type": "code",
   "execution_count": 39,
   "metadata": {},
   "outputs": [],
   "source": [
    "df.to_csv('Data-Collisions-cleaned.csv')"
   ]
  },
  {
   "cell_type": "markdown",
   "metadata": {},
   "source": [
    "treat date and time "
   ]
  },
  {
   "cell_type": "code",
   "execution_count": null,
   "metadata": {},
   "outputs": [],
   "source": []
  },
  {
   "cell_type": "markdown",
   "metadata": {},
   "source": [
    "Create train and test data"
   ]
  },
  {
   "cell_type": "code",
   "execution_count": 40,
   "metadata": {},
   "outputs": [],
   "source": [
    "import numpy as np\n",
    "import pandas as pd\n",
    "pd.set_option('display.float_format', lambda x: '{:.3f}'.format(x)) #Limiting floats output to 3 decimal points\n",
    "from matplotlib import pyplot as plt\n",
    "%matplotlib inline\n",
    "import seaborn as sns"
   ]
  },
  {
   "cell_type": "code",
   "execution_count": 41,
   "metadata": {},
   "outputs": [
    {
     "name": "stdout",
     "output_type": "stream",
     "text": [
      "                types  counts  distincts  nulls  missing ration\n",
      "Unnamed: 0      int64  183908     183908      0           0.000\n",
      "SEVERITYCODE    int64  183908          2      0           0.000\n",
      "X             float64  183908      23151      0           0.000\n",
      "Y             float64  183908      23415      0           0.000\n",
      "STATUS         object  183908          2      0           0.000\n",
      "ADDRTYPE       object  183908          2      0           0.000\n",
      "LOCATION       object  183908      23466      0           0.000\n",
      "PERSONCOUNT     int64  183908         47      0           0.000\n",
      "PEDCOUNT        int64  183908          7      0           0.000\n",
      "PEDCYLCOUNT     int64  183908          3      0           0.000\n",
      "VEHCOUNT        int64  183908         13      0           0.000\n",
      "INCDATE        object  183908       5947      0           0.000\n",
      "INCDTTM        object  183908     155627      0           0.000\n",
      "JUNCTIONTYPE   object  183908          7      0           0.000\n",
      "UNDERINFL      object  183908          4      0           0.000\n",
      "WEATHER        object  183908         11      0           0.000\n",
      "ROADCOND       object  183908          9      0           0.000\n",
      "LIGHTCOND      object  183908          9      0           0.000\n",
      "SEGLANEKEY      int64  183908       1929      0           0.000\n",
      "CROSSWALKKEY    int64  183908       2170      0           0.000\n",
      "HITPARKEDCAR   object  183908          2      0           0.000\n"
     ]
    }
   ],
   "source": [
    "df = pd.read_csv('Data-Collisions-cleaned.csv')\n",
    "df.dropna(inplace=True)\n",
    "details = computeDetails(df)\n",
    "print(details)"
   ]
  },
  {
   "cell_type": "markdown",
   "metadata": {},
   "source": [
    "# Treat the dates"
   ]
  },
  {
   "cell_type": "code",
   "execution_count": 42,
   "metadata": {},
   "outputs": [
    {
     "data": {
      "text/html": [
       "<div>\n",
       "<style scoped>\n",
       "    .dataframe tbody tr th:only-of-type {\n",
       "        vertical-align: middle;\n",
       "    }\n",
       "\n",
       "    .dataframe tbody tr th {\n",
       "        vertical-align: top;\n",
       "    }\n",
       "\n",
       "    .dataframe thead th {\n",
       "        text-align: right;\n",
       "    }\n",
       "</style>\n",
       "<table border=\"1\" class=\"dataframe\">\n",
       "  <thead>\n",
       "    <tr style=\"text-align: right;\">\n",
       "      <th></th>\n",
       "      <th>Unnamed: 0</th>\n",
       "      <th>SEVERITYCODE</th>\n",
       "      <th>X</th>\n",
       "      <th>Y</th>\n",
       "      <th>STATUS</th>\n",
       "      <th>ADDRTYPE</th>\n",
       "      <th>LOCATION</th>\n",
       "      <th>PERSONCOUNT</th>\n",
       "      <th>PEDCOUNT</th>\n",
       "      <th>PEDCYLCOUNT</th>\n",
       "      <th>...</th>\n",
       "      <th>INCDATE</th>\n",
       "      <th>INCDTTM</th>\n",
       "      <th>JUNCTIONTYPE</th>\n",
       "      <th>UNDERINFL</th>\n",
       "      <th>WEATHER</th>\n",
       "      <th>ROADCOND</th>\n",
       "      <th>LIGHTCOND</th>\n",
       "      <th>SEGLANEKEY</th>\n",
       "      <th>CROSSWALKKEY</th>\n",
       "      <th>HITPARKEDCAR</th>\n",
       "    </tr>\n",
       "  </thead>\n",
       "  <tbody>\n",
       "    <tr>\n",
       "      <th>0</th>\n",
       "      <td>0</td>\n",
       "      <td>2</td>\n",
       "      <td>-122.323</td>\n",
       "      <td>47.703</td>\n",
       "      <td>Matched</td>\n",
       "      <td>Intersection</td>\n",
       "      <td>5TH AVE NE AND NE 103RD ST</td>\n",
       "      <td>2</td>\n",
       "      <td>0</td>\n",
       "      <td>0</td>\n",
       "      <td>...</td>\n",
       "      <td>2013/03/27 00:00:00+00</td>\n",
       "      <td>2013-03-27 14:54:00</td>\n",
       "      <td>At Intersection (intersection related)</td>\n",
       "      <td>N</td>\n",
       "      <td>Overcast</td>\n",
       "      <td>Wet</td>\n",
       "      <td>Daylight</td>\n",
       "      <td>0</td>\n",
       "      <td>0</td>\n",
       "      <td>N</td>\n",
       "    </tr>\n",
       "    <tr>\n",
       "      <th>1</th>\n",
       "      <td>1</td>\n",
       "      <td>1</td>\n",
       "      <td>-122.347</td>\n",
       "      <td>47.647</td>\n",
       "      <td>Matched</td>\n",
       "      <td>Block</td>\n",
       "      <td>AURORA BR BETWEEN RAYE ST AND BRIDGE WAY N</td>\n",
       "      <td>2</td>\n",
       "      <td>0</td>\n",
       "      <td>0</td>\n",
       "      <td>...</td>\n",
       "      <td>2006/12/20 00:00:00+00</td>\n",
       "      <td>2006-12-20 18:55:00</td>\n",
       "      <td>Mid-Block (not related to intersection)</td>\n",
       "      <td>0</td>\n",
       "      <td>Raining</td>\n",
       "      <td>Wet</td>\n",
       "      <td>Dark - Street Lights On</td>\n",
       "      <td>0</td>\n",
       "      <td>0</td>\n",
       "      <td>N</td>\n",
       "    </tr>\n",
       "    <tr>\n",
       "      <th>2</th>\n",
       "      <td>2</td>\n",
       "      <td>1</td>\n",
       "      <td>-122.335</td>\n",
       "      <td>47.608</td>\n",
       "      <td>Matched</td>\n",
       "      <td>Block</td>\n",
       "      <td>4TH AVE BETWEEN SENECA ST AND UNIVERSITY ST</td>\n",
       "      <td>4</td>\n",
       "      <td>0</td>\n",
       "      <td>0</td>\n",
       "      <td>...</td>\n",
       "      <td>2004/11/18 00:00:00+00</td>\n",
       "      <td>2004-11-18 10:20:00</td>\n",
       "      <td>Mid-Block (not related to intersection)</td>\n",
       "      <td>0</td>\n",
       "      <td>Overcast</td>\n",
       "      <td>Dry</td>\n",
       "      <td>Daylight</td>\n",
       "      <td>0</td>\n",
       "      <td>0</td>\n",
       "      <td>N</td>\n",
       "    </tr>\n",
       "    <tr>\n",
       "      <th>3</th>\n",
       "      <td>3</td>\n",
       "      <td>1</td>\n",
       "      <td>-122.335</td>\n",
       "      <td>47.605</td>\n",
       "      <td>Matched</td>\n",
       "      <td>Block</td>\n",
       "      <td>2ND AVE BETWEEN MARION ST AND MADISON ST</td>\n",
       "      <td>3</td>\n",
       "      <td>0</td>\n",
       "      <td>0</td>\n",
       "      <td>...</td>\n",
       "      <td>2013/03/29 00:00:00+00</td>\n",
       "      <td>2013-03-29 09:26:00</td>\n",
       "      <td>Mid-Block (not related to intersection)</td>\n",
       "      <td>N</td>\n",
       "      <td>Clear</td>\n",
       "      <td>Dry</td>\n",
       "      <td>Daylight</td>\n",
       "      <td>0</td>\n",
       "      <td>0</td>\n",
       "      <td>N</td>\n",
       "    </tr>\n",
       "    <tr>\n",
       "      <th>4</th>\n",
       "      <td>4</td>\n",
       "      <td>2</td>\n",
       "      <td>-122.306</td>\n",
       "      <td>47.546</td>\n",
       "      <td>Matched</td>\n",
       "      <td>Intersection</td>\n",
       "      <td>SWIFT AVE S AND SWIFT AV OFF RP</td>\n",
       "      <td>2</td>\n",
       "      <td>0</td>\n",
       "      <td>0</td>\n",
       "      <td>...</td>\n",
       "      <td>2004/01/28 00:00:00+00</td>\n",
       "      <td>2004-01-28 08:04:00</td>\n",
       "      <td>At Intersection (intersection related)</td>\n",
       "      <td>0</td>\n",
       "      <td>Raining</td>\n",
       "      <td>Wet</td>\n",
       "      <td>Daylight</td>\n",
       "      <td>0</td>\n",
       "      <td>0</td>\n",
       "      <td>N</td>\n",
       "    </tr>\n",
       "  </tbody>\n",
       "</table>\n",
       "<p>5 rows × 21 columns</p>\n",
       "</div>"
      ],
      "text/plain": [
       "   Unnamed: 0  SEVERITYCODE        X      Y   STATUS      ADDRTYPE  \\\n",
       "0           0             2 -122.323 47.703  Matched  Intersection   \n",
       "1           1             1 -122.347 47.647  Matched         Block   \n",
       "2           2             1 -122.335 47.608  Matched         Block   \n",
       "3           3             1 -122.335 47.605  Matched         Block   \n",
       "4           4             2 -122.306 47.546  Matched  Intersection   \n",
       "\n",
       "                                      LOCATION  PERSONCOUNT  PEDCOUNT  \\\n",
       "0                   5TH AVE NE AND NE 103RD ST            2         0   \n",
       "1   AURORA BR BETWEEN RAYE ST AND BRIDGE WAY N            2         0   \n",
       "2  4TH AVE BETWEEN SENECA ST AND UNIVERSITY ST            4         0   \n",
       "3     2ND AVE BETWEEN MARION ST AND MADISON ST            3         0   \n",
       "4              SWIFT AVE S AND SWIFT AV OFF RP            2         0   \n",
       "\n",
       "   PEDCYLCOUNT  ...                 INCDATE             INCDTTM  \\\n",
       "0            0  ...  2013/03/27 00:00:00+00 2013-03-27 14:54:00   \n",
       "1            0  ...  2006/12/20 00:00:00+00 2006-12-20 18:55:00   \n",
       "2            0  ...  2004/11/18 00:00:00+00 2004-11-18 10:20:00   \n",
       "3            0  ...  2013/03/29 00:00:00+00 2013-03-29 09:26:00   \n",
       "4            0  ...  2004/01/28 00:00:00+00 2004-01-28 08:04:00   \n",
       "\n",
       "                              JUNCTIONTYPE UNDERINFL   WEATHER ROADCOND  \\\n",
       "0   At Intersection (intersection related)         N  Overcast      Wet   \n",
       "1  Mid-Block (not related to intersection)         0   Raining      Wet   \n",
       "2  Mid-Block (not related to intersection)         0  Overcast      Dry   \n",
       "3  Mid-Block (not related to intersection)         N     Clear      Dry   \n",
       "4   At Intersection (intersection related)         0   Raining      Wet   \n",
       "\n",
       "                 LIGHTCOND SEGLANEKEY  CROSSWALKKEY  HITPARKEDCAR  \n",
       "0                 Daylight          0             0             N  \n",
       "1  Dark - Street Lights On          0             0             N  \n",
       "2                 Daylight          0             0             N  \n",
       "3                 Daylight          0             0             N  \n",
       "4                 Daylight          0             0             N  \n",
       "\n",
       "[5 rows x 21 columns]"
      ]
     },
     "execution_count": 42,
     "metadata": {},
     "output_type": "execute_result"
    }
   ],
   "source": [
    "df['INCDTTM'] = pd.to_datetime(df['INCDTTM'])\n",
    "df.head()"
   ]
  },
  {
   "cell_type": "code",
   "execution_count": 43,
   "metadata": {},
   "outputs": [],
   "source": [
    "df = df.drop(['INCDATE'], axis=1)"
   ]
  },
  {
   "cell_type": "code",
   "execution_count": 44,
   "metadata": {},
   "outputs": [
    {
     "data": {
      "text/plain": [
       "<matplotlib.axes._subplots.AxesSubplot at 0x271062b30f0>"
      ]
     },
     "execution_count": 44,
     "metadata": {},
     "output_type": "execute_result"
    },
    {
     "data": {
      "image/png": "[encoded data removed]",
      "text/plain": [
       "<Figure size 432x288 with 1 Axes>"
      ]
     },
     "metadata": {
      "needs_background": "light"
     },
     "output_type": "display_data"
    }
   ],
   "source": [
    "df['dayofweek'] = df['INCDTTM'].dt.dayofweek\n",
    "df_selected = df[df['SEVERITYCODE']==1]\n",
    "sns.distplot(df_selected['dayofweek'],kde = False)\n",
    "df_selected = df[df['SEVERITYCODE']==2]\n",
    "sns.distplot(df_selected['dayofweek'],kde = False)"
   ]
  },
  {
   "cell_type": "markdown",
   "metadata": {},
   "source": [
    "It seems there are more incident on day 4 and less at day 3"
   ]
  },
  {
   "cell_type": "code",
   "execution_count": 45,
   "metadata": {},
   "outputs": [
    {
     "data": {
      "text/plain": [
       "<matplotlib.axes._subplots.AxesSubplot at 0x27104400240>"
      ]
     },
     "execution_count": 45,
     "metadata": {},
     "output_type": "execute_result"
    },
    {
     "data": {
      "image/png": "[encoded data removed]",
      "text/plain": [
       "<Figure size 432x288 with 1 Axes>"
      ]
     },
     "metadata": {
      "needs_background": "light"
     },
     "output_type": "display_data"
    }
   ],
   "source": [
    "df['month'] = df['INCDTTM'].dt.month\n",
    "df_selected = df[df['SEVERITYCODE']==1]\n",
    "sns.distplot(df_selected['month'],kde = False)\n",
    "df_selected = df[df['SEVERITYCODE']==2]\n",
    "sns.distplot(df_selected['month'],kde = False)"
   ]
  },
  {
   "cell_type": "code",
   "execution_count": 46,
   "metadata": {},
   "outputs": [
    {
     "data": {
      "text/plain": [
       "<matplotlib.axes._subplots.AxesSubplot at 0x27105f37898>"
      ]
     },
     "execution_count": 46,
     "metadata": {},
     "output_type": "execute_result"
    },
    {
     "data": {
      "image/png": "[encoded data removed]",
      "text/plain": [
       "<Figure size 432x288 with 1 Axes>"
      ]
     },
     "metadata": {
      "needs_background": "light"
     },
     "output_type": "display_data"
    }
   ],
   "source": [
    "df['hour'] = df['INCDTTM'].dt.hour\n",
    "df_selected = df[df['SEVERITYCODE']==1]\n",
    "sns.distplot(df_selected['hour'],kde = False)\n",
    "df_selected = df[df['SEVERITYCODE']==2]\n",
    "sns.distplot(df_selected['hour'],kde = False)"
   ]
  },
  {
   "cell_type": "code",
   "execution_count": 47,
   "metadata": {},
   "outputs": [
    {
     "data": {
      "text/html": [
       "<div>\n",
       "<style scoped>\n",
       "    .dataframe tbody tr th:only-of-type {\n",
       "        vertical-align: middle;\n",
       "    }\n",
       "\n",
       "    .dataframe tbody tr th {\n",
       "        vertical-align: top;\n",
       "    }\n",
       "\n",
       "    .dataframe thead th {\n",
       "        text-align: right;\n",
       "    }\n",
       "</style>\n",
       "<table border=\"1\" class=\"dataframe\">\n",
       "  <thead>\n",
       "    <tr style=\"text-align: right;\">\n",
       "      <th></th>\n",
       "      <th>INCDTTM</th>\n",
       "      <th>hour</th>\n",
       "      <th>LIGHTCOND</th>\n",
       "    </tr>\n",
       "  </thead>\n",
       "  <tbody>\n",
       "    <tr>\n",
       "      <th>6</th>\n",
       "      <td>2008-12-09 00:00:00</td>\n",
       "      <td>0</td>\n",
       "      <td>Daylight</td>\n",
       "    </tr>\n",
       "    <tr>\n",
       "      <th>16</th>\n",
       "      <td>2005-07-01 00:00:00</td>\n",
       "      <td>0</td>\n",
       "      <td>Daylight</td>\n",
       "    </tr>\n",
       "    <tr>\n",
       "      <th>19</th>\n",
       "      <td>2009-06-01 00:00:00</td>\n",
       "      <td>0</td>\n",
       "      <td>Unknown</td>\n",
       "    </tr>\n",
       "    <tr>\n",
       "      <th>30</th>\n",
       "      <td>2005-11-05 00:00:00</td>\n",
       "      <td>0</td>\n",
       "      <td>Dark - Street Lights On</td>\n",
       "    </tr>\n",
       "    <tr>\n",
       "      <th>40</th>\n",
       "      <td>2006-08-05 00:00:00</td>\n",
       "      <td>0</td>\n",
       "      <td>Daylight</td>\n",
       "    </tr>\n",
       "    <tr>\n",
       "      <th>55</th>\n",
       "      <td>2006-04-01 00:00:00</td>\n",
       "      <td>0</td>\n",
       "      <td>Dark - Street Lights On</td>\n",
       "    </tr>\n",
       "    <tr>\n",
       "      <th>68</th>\n",
       "      <td>2006-06-06 00:00:00</td>\n",
       "      <td>0</td>\n",
       "      <td>Dark - Street Lights On</td>\n",
       "    </tr>\n",
       "    <tr>\n",
       "      <th>86</th>\n",
       "      <td>2019-07-05 00:32:00</td>\n",
       "      <td>0</td>\n",
       "      <td>Dark - Street Lights On</td>\n",
       "    </tr>\n",
       "    <tr>\n",
       "      <th>91</th>\n",
       "      <td>2006-08-08 00:00:00</td>\n",
       "      <td>0</td>\n",
       "      <td>Daylight</td>\n",
       "    </tr>\n",
       "    <tr>\n",
       "      <th>94</th>\n",
       "      <td>2005-03-04 00:00:00</td>\n",
       "      <td>0</td>\n",
       "      <td>Dark - Street Lights On</td>\n",
       "    </tr>\n",
       "    <tr>\n",
       "      <th>100</th>\n",
       "      <td>2004-09-08 00:00:00</td>\n",
       "      <td>0</td>\n",
       "      <td>Daylight</td>\n",
       "    </tr>\n",
       "    <tr>\n",
       "      <th>107</th>\n",
       "      <td>2013-03-23 00:01:00</td>\n",
       "      <td>0</td>\n",
       "      <td>Unknown</td>\n",
       "    </tr>\n",
       "    <tr>\n",
       "      <th>108</th>\n",
       "      <td>2005-09-01 00:00:00</td>\n",
       "      <td>0</td>\n",
       "      <td>Unknown</td>\n",
       "    </tr>\n",
       "    <tr>\n",
       "      <th>115</th>\n",
       "      <td>2006-04-04 00:00:00</td>\n",
       "      <td>0</td>\n",
       "      <td>Daylight</td>\n",
       "    </tr>\n",
       "    <tr>\n",
       "      <th>117</th>\n",
       "      <td>2006-08-09 00:00:00</td>\n",
       "      <td>0</td>\n",
       "      <td>Daylight</td>\n",
       "    </tr>\n",
       "    <tr>\n",
       "      <th>119</th>\n",
       "      <td>2005-05-02 00:00:00</td>\n",
       "      <td>0</td>\n",
       "      <td>Unknown</td>\n",
       "    </tr>\n",
       "    <tr>\n",
       "      <th>122</th>\n",
       "      <td>2005-08-02 00:00:00</td>\n",
       "      <td>0</td>\n",
       "      <td>Daylight</td>\n",
       "    </tr>\n",
       "    <tr>\n",
       "      <th>123</th>\n",
       "      <td>2004-03-05 00:00:00</td>\n",
       "      <td>0</td>\n",
       "      <td>Daylight</td>\n",
       "    </tr>\n",
       "    <tr>\n",
       "      <th>131</th>\n",
       "      <td>2008-08-05 00:00:00</td>\n",
       "      <td>0</td>\n",
       "      <td>Daylight</td>\n",
       "    </tr>\n",
       "    <tr>\n",
       "      <th>144</th>\n",
       "      <td>2006-06-03 00:00:00</td>\n",
       "      <td>0</td>\n",
       "      <td>Daylight</td>\n",
       "    </tr>\n",
       "  </tbody>\n",
       "</table>\n",
       "</div>"
      ],
      "text/plain": [
       "                INCDTTM  hour                LIGHTCOND\n",
       "6   2008-12-09 00:00:00     0                 Daylight\n",
       "16  2005-07-01 00:00:00     0                 Daylight\n",
       "19  2009-06-01 00:00:00     0                  Unknown\n",
       "30  2005-11-05 00:00:00     0  Dark - Street Lights On\n",
       "40  2006-08-05 00:00:00     0                 Daylight\n",
       "55  2006-04-01 00:00:00     0  Dark - Street Lights On\n",
       "68  2006-06-06 00:00:00     0  Dark - Street Lights On\n",
       "86  2019-07-05 00:32:00     0  Dark - Street Lights On\n",
       "91  2006-08-08 00:00:00     0                 Daylight\n",
       "94  2005-03-04 00:00:00     0  Dark - Street Lights On\n",
       "100 2004-09-08 00:00:00     0                 Daylight\n",
       "107 2013-03-23 00:01:00     0                  Unknown\n",
       "108 2005-09-01 00:00:00     0                  Unknown\n",
       "115 2006-04-04 00:00:00     0                 Daylight\n",
       "117 2006-08-09 00:00:00     0                 Daylight\n",
       "119 2005-05-02 00:00:00     0                  Unknown\n",
       "122 2005-08-02 00:00:00     0                 Daylight\n",
       "123 2004-03-05 00:00:00     0                 Daylight\n",
       "131 2008-08-05 00:00:00     0                 Daylight\n",
       "144 2006-06-03 00:00:00     0                 Daylight"
      ]
     },
     "execution_count": 47,
     "metadata": {},
     "output_type": "execute_result"
    }
   ],
   "source": [
    "df_selected = df[['INCDTTM','hour','LIGHTCOND']]\n",
    "df_selected = df_selected[df_selected['hour']==0]\n",
    "df_selected.head(20)"
   ]
  },
  {
   "cell_type": "code",
   "execution_count": 54,
   "metadata": {},
   "outputs": [
    {
     "name": "stdout",
     "output_type": "stream",
     "text": [
      "2004-01-01T00:00:00.000000000\n"
     ]
    },
    {
     "ename": "TypeError",
     "evalue": "object of type 'numpy.datetime64' has no len()",
     "output_type": "error",
     "traceback": [
      "\u001b[1;31m---------------------------------------------------------------------------\u001b[0m",
      "\u001b[1;31mTypeError\u001b[0m                                 Traceback (most recent call last)",
      "\u001b[1;32m<ipython-input-54-97403e8dce95>\u001b[0m in \u001b[0;36m<module>\u001b[1;34m\u001b[0m\n\u001b[1;32m----> 1\u001b[1;33m \u001b[0mdf\u001b[0m \u001b[1;33m=\u001b[0m \u001b[0mInputMissingData\u001b[0m\u001b[1;33m(\u001b[0m\u001b[0mdf\u001b[0m\u001b[1;33m,\u001b[0m \u001b[1;34m'LIGHTCOND'\u001b[0m\u001b[1;33m,\u001b[0m \u001b[1;34m'INCDTTM'\u001b[0m\u001b[1;33m,\u001b[0m\u001b[1;34m'Unknown'\u001b[0m\u001b[1;33m)\u001b[0m\u001b[1;33m\u001b[0m\u001b[1;33m\u001b[0m\u001b[0m\n\u001b[0m",
      "\u001b[1;32m<ipython-input-53-35e73602dfc2>\u001b[0m in \u001b[0;36mInputMissingData\u001b[1;34m(df, col_missing_data, col_ref, missingValue)\u001b[0m\n\u001b[0;32m     26\u001b[0m             \u001b[1;31m#a string (e.g. a location)\u001b[0m\u001b[1;33m\u001b[0m\u001b[1;33m\u001b[0m\u001b[1;33m\u001b[0m\u001b[0m\n\u001b[0;32m     27\u001b[0m             \u001b[0mdf_loc\u001b[0m \u001b[1;33m=\u001b[0m \u001b[0mdf_val\u001b[0m\u001b[1;33m[\u001b[0m\u001b[0mdf_val\u001b[0m\u001b[1;33m[\u001b[0m\u001b[0mcol_ref\u001b[0m\u001b[1;33m]\u001b[0m\u001b[1;33m==\u001b[0m\u001b[0mr\u001b[0m\u001b[1;33m]\u001b[0m\u001b[1;33m\u001b[0m\u001b[1;33m\u001b[0m\u001b[0m\n\u001b[1;32m---> 28\u001b[1;33m         \u001b[1;32melif\u001b[0m \u001b[0mlen\u001b[0m\u001b[1;33m(\u001b[0m\u001b[0mr\u001b[0m\u001b[1;33m)\u001b[0m\u001b[1;33m==\u001b[0m\u001b[1;36m2\u001b[0m\u001b[1;33m:\u001b[0m\u001b[1;33m\u001b[0m\u001b[1;33m\u001b[0m\u001b[0m\n\u001b[0m\u001b[0;32m     29\u001b[0m             \u001b[1;31m#two doubles\u001b[0m\u001b[1;33m\u001b[0m\u001b[1;33m\u001b[0m\u001b[1;33m\u001b[0m\u001b[0m\n\u001b[0;32m     30\u001b[0m             \u001b[0mdf_loc\u001b[0m \u001b[1;33m=\u001b[0m \u001b[0mdf_val\u001b[0m\u001b[1;33m[\u001b[0m\u001b[1;33m(\u001b[0m\u001b[0mdf_val\u001b[0m\u001b[1;33m[\u001b[0m\u001b[0mcol_ref\u001b[0m\u001b[1;33m[\u001b[0m\u001b[1;36m0\u001b[0m\u001b[1;33m]\u001b[0m\u001b[1;33m]\u001b[0m\u001b[1;33m==\u001b[0m\u001b[0mr\u001b[0m\u001b[1;33m[\u001b[0m\u001b[1;36m0\u001b[0m\u001b[1;33m]\u001b[0m\u001b[1;33m)\u001b[0m\u001b[1;33m&\u001b[0m \u001b[1;33m(\u001b[0m\u001b[0mdf_val\u001b[0m\u001b[1;33m[\u001b[0m\u001b[0mcol_ref\u001b[0m\u001b[1;33m[\u001b[0m\u001b[1;36m1\u001b[0m\u001b[1;33m]\u001b[0m\u001b[1;33m]\u001b[0m\u001b[1;33m==\u001b[0m\u001b[0mr\u001b[0m\u001b[1;33m[\u001b[0m\u001b[1;36m1\u001b[0m\u001b[1;33m]\u001b[0m\u001b[1;33m)\u001b[0m\u001b[1;33m]\u001b[0m\u001b[1;33m\u001b[0m\u001b[1;33m\u001b[0m\u001b[0m\n",
      "\u001b[1;31mTypeError\u001b[0m: object of type 'numpy.datetime64' has no len()"
     ]
    }
   ],
   "source": [
    "df = InputMissingData(df, 'LIGHTCOND', 'INCDTTM','Unknown')"
   ]
  },
  {
   "cell_type": "markdown",
   "metadata": {},
   "source": [
    "feature selection"
   ]
  },
  {
   "cell_type": "code",
   "execution_count": null,
   "metadata": {},
   "outputs": [],
   "source": [
    "y = df['SEVERITYCODE']\n",
    "X = df.drop(['SEVERITYCODE'], axis=1)\n",
    "from sklearn.model_selection import train_test_split\n",
    "X_train, X_test, y_train, y_test = train_test_split(X, y, test_size=0.33, random_state=42)"
   ]
  },
  {
   "cell_type": "code",
   "execution_count": null,
   "metadata": {},
   "outputs": [],
   "source": [
    "#https://machinelearningmastery.com/feature-selection-with-categorical-data/\n",
    "from sklearn.preprocessing import OrdinalEncoder"
   ]
  },
  {
   "cell_type": "code",
   "execution_count": null,
   "metadata": {},
   "outputs": [],
   "source": [
    "from scipy.stats import chi2_contingency \n",
    "df_chi_sq= pd.concat([X_train, y_train],axis=1)\n",
    "\n",
    "for c in X.columns.values:\n",
    "    if df[c].dtype==\"object\":\n",
    "        print(\"Chi squared for \", c)\n",
    "        df_chi_sq_sel = df_chi_sq[[c,'SEVERITYCODE']]\n",
    "        df_chi_sq_sel = df_chi_sq_sel.dropna()\n",
    "        # apply ordinal encoding\n",
    "        oe = OrdinalEncoder()\n",
    "        #oe.fit(df_chi_sq_sel)\n",
    "        #df_chi_sq_sel = np.array(oe.transform(df_chi_sq_sel))\n",
    "        #print(df_chi_sq_sel.shape)\n",
    "        #perform chi squared\n",
    "        #table = np.array([list(df_chi_sq_sel[:,0]), list(df_chi_sq_sel[:,1])])\n",
    "        #stat, p, dof, expected = chi2_contingency(df_chi_sq_sel) \n",
    "        \n",
    "        #alpha = 0.05\n",
    "        #print(\"p value is \" + str(p)) \n",
    "        #if p <= alpha:\n",
    "        #    print('Dependent (reject H0)')\n",
    "        #else:\n",
    "        #    print('Independent (H0 holds true)') \n",
    "        \n",
    "        \n",
    "        \n",
    "    "
   ]
  },
  {
   "cell_type": "code",
   "execution_count": null,
   "metadata": {},
   "outputs": [],
   "source": []
  }
 ],
 "metadata": {
  "kernelspec": {
   "display_name": "Python 3",
   "language": "python",
   "name": "python3"
  },
  "language_info": {
   "codemirror_mode": {
    "name": "ipython",
    "version": 3
   },
   "file_extension": ".py",
   "mimetype": "text/x-python",
   "name": "python",
   "nbconvert_exporter": "python",
   "pygments_lexer": "ipython3",
   "version": "3.7.3"
  }
 },
 "nbformat": 4,
 "nbformat_minor": 2
}
