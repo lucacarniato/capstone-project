{
 "cells": [
  {
   "cell_type": "markdown",
   "metadata": {},
   "source": [
    "# This is the Coursera capstone project (Seattle collisions)"
   ]
  },
  {
   "cell_type": "code",
   "execution_count": 1,
   "metadata": {},
   "outputs": [],
   "source": [
    "import numpy as np\n",
    "import pandas as pd\n",
    "pd.set_option('display.float_format', lambda x: '{:.3f}'.format(x)) #Limiting floats output to 3 decimal points\n",
    "from matplotlib import pyplot as plt\n",
    "%matplotlib inline\n",
    "import seaborn as sns"
   ]
  },
  {
   "cell_type": "code",
   "execution_count": 2,
   "metadata": {},
   "outputs": [
    {
     "name": "stdout",
     "output_type": "stream",
     "text": [
      "Hello Capstone Project Course!\n"
     ]
    }
   ],
   "source": [
    "print(\"Hello Capstone Project Course!\")"
   ]
  },
  {
   "cell_type": "code",
   "execution_count": 3,
   "metadata": {},
   "outputs": [
    {
     "name": "stderr",
     "output_type": "stream",
     "text": [
      "C:\\Users\\carniato\\AppData\\Roaming\\Python\\Python37\\site-packages\\IPython\\core\\interactiveshell.py:3049: DtypeWarning: Columns (33) have mixed types. Specify dtype option on import or set low_memory=False.\n",
      "  interactivity=interactivity, compiler=compiler, result=result)\n"
     ]
    }
   ],
   "source": [
    "#https://data-seattlecitygis.opendata.arcgis.com/datasets/5b5c745e0f1f48e7a53acec63a0022ab_0\n",
    "dfOriginal = pd.read_csv('Data-Collisions.csv')"
   ]
  },
  {
   "cell_type": "markdown",
   "metadata": {},
   "source": [
    "# Create train and test dataset"
   ]
  },
  {
   "cell_type": "code",
   "execution_count": 4,
   "metadata": {},
   "outputs": [],
   "source": [
    "df=dfOriginal.copy()\n",
    "y = df['SEVERITYCODE']\n",
    "X = df.drop(['SEVERITYCODE'], axis=1)\n",
    "from sklearn.model_selection import train_test_split\n",
    "X_train, X_test, y_train, y_test = train_test_split(X, y, test_size=0.33, random_state=42,stratify =y)\n",
    "train = pd.concat([X_train, y_train],axis=1)\n",
    "test = pd.concat([X_test, y_test],axis=1)"
   ]
  },
  {
   "cell_type": "markdown",
   "metadata": {},
   "source": [
    "# Data cleaning"
   ]
  },
  {
   "cell_type": "markdown",
   "metadata": {},
   "source": [
    "Inspect data first"
   ]
  },
  {
   "cell_type": "code",
   "execution_count": 5,
   "metadata": {},
   "outputs": [],
   "source": [
    "def computeDetails(df): \n",
    "    obs = df.shape[0]\n",
    "    types = df.dtypes\n",
    "    counts = df.apply(lambda x: x.count())\n",
    "    uniques = df.apply(lambda x: [x.unique()])\n",
    "    nulls = df.apply(lambda x: x.isnull().sum())\n",
    "    distincts = df.apply(lambda x: x.unique().shape[0])\n",
    "    missing_ration = (df.isnull().sum()/ obs) * 100\n",
    "    \n",
    "    cols = ['types', 'counts', 'distincts', 'nulls', 'missing ration']\n",
    "    details = pd.concat([types, counts, distincts, nulls, missing_ration], axis = 1)\n",
    "    details.columns = cols\n",
    "    \n",
    "    return details\n",
    "\n",
    "def GetIndexses(df,col_missing_data,missingValue):\n",
    "    if not missingValue :\n",
    "        # nan\n",
    "        indexses = df[col_missing_data].isnull()\n",
    "    else:\n",
    "        # comparables\n",
    "        indexses = df[col_missing_data]==missingValue\n",
    "        \n",
    "    return indexses\n",
    "\n",
    "def InputMissingData(df, col_missing_data, col_ref, missingValue = None):\n",
    "    #group by nan or missing value\n",
    "    invalid_idxs = GetIndexses(df, col_missing_data, missingValue)\n",
    "    df_notval = df[invalid_idxs]\n",
    "    df_notval = df_notval.groupby(col_ref).sum()  \n",
    "    #print(df_notval[col_ref])\n",
    "    #the valid entries\n",
    "    df_val = df[~invalid_idxs]\n",
    "    \n",
    "    #now check the values of the reference column\n",
    "    for r in df_notval.index.values:\n",
    "        if isinstance(r, str) or isinstance(r, np.int64) :\n",
    "            #a string (e.g. a location)\n",
    "            df_loc = df_val[df_val[col_ref]==r]\n",
    "        elif len(r)==2:\n",
    "            #two doubles\n",
    "            df_loc = df_val[(df_val[col_ref[0]]==r[0]) & (df_val[col_ref[1]]==r[1])]\n",
    "        \n",
    "        if len(df_loc) > 0:\n",
    "            val = df_loc[col_missing_data].iloc[0]\n",
    "            if isinstance(r, str) or isinstance(r, np.int64) :\n",
    "                #substitute with the first valid value\n",
    "                df.loc[(df[col_ref]==r) & invalid_idxs,col_missing_data]=val\n",
    "            elif len(r) ==2:\n",
    "                df.loc[(df[col_ref[0]]==r[0]) &(df[col_ref[1]]==r[1]) & invalid_idxs, col_missing_data] = val\n",
    "        \n",
    "    return df     \n",
    "\n",
    "def bar_chart(datafr, feature):\n",
    "    severityOne = datafr[datafr['SEVERITYCODE']==1][feature].value_counts()\n",
    "    #print(severityOne[0]/(severityOne[0] + severityOne[1]))\n",
    "    severityTwo = datafr[datafr['SEVERITYCODE']==2][feature].value_counts()\n",
    "    #print(severityTwo[0]/(severityTwo[0] + severityTwo[1]))\n",
    "    df = pd.DataFrame([severityOne,severityTwo])\n",
    "    df.index = ['SEVERITYCODE 1','SEVERITYCODE 2']\n",
    "    df.plot(kind='bar',stacked=True, figsize=(10,5))\n",
    "    \n",
    "from sklearn.preprocessing import LabelEncoder\n",
    "def prepare_categorical(train_label, test_label):\n",
    "    le = LabelEncoder()\n",
    "    le.fit(train_label)\n",
    "    train_label_enc = le.transform(train_label)\n",
    "    test_label_enc = le.transform(test_label)\n",
    "    return train_label_enc, test_label_enc"
   ]
  },
  {
   "cell_type": "code",
   "execution_count": 6,
   "metadata": {},
   "outputs": [
    {
     "name": "stdout",
     "output_type": "stream",
     "text": [
      "                  types  counts  distincts   nulls  missing ration\n",
      "X               float64  126901      20954    3529           2.706\n",
      "Y               float64  126901      21200    3529           2.706\n",
      "OBJECTID          int64  130430     130430       0           0.000\n",
      "INCKEY            int64  130430     130430       0           0.000\n",
      "COLDETKEY         int64  130430     130430       0           0.000\n",
      "REPORTNO         object  130430     130428       0           0.000\n",
      "STATUS           object  130430          2       0           0.000\n",
      "ADDRTYPE         object  129162          4    1268           0.972\n",
      "INTKEY          float64   43707       6732   86723          66.490\n",
      "LOCATION         object  128674      21416    1756           1.346\n",
      "EXCEPTRSNCODE    object   56823          3   73607          56.434\n",
      "EXCEPTRSNDESC    object    3792          2  126638          97.093\n",
      "SEVERITYCODE.1    int64  130430          2       0           0.000\n",
      "SEVERITYDESC     object  130430          2       0           0.000\n",
      "COLLISIONTYPE    object  127103         11    3327           2.551\n",
      "PERSONCOUNT       int64  130430         44       0           0.000\n",
      "PEDCOUNT          int64  130430          6       0           0.000\n",
      "PEDCYLCOUNT       int64  130430          3       0           0.000\n",
      "VEHCOUNT          int64  130430         12       0           0.000\n",
      "INCDATE          object  130430       5983       0           0.000\n",
      "INCDTTM          object  130430     109974       0           0.000\n",
      "JUNCTIONTYPE     object  126224          8    4206           3.225\n",
      "SDOT_COLCODE      int64  130430         39       0           0.000\n",
      "SDOT_COLDESC     object  130430         39       0           0.000\n",
      "INATTENTIONIND   object   20033          2  110397          84.641\n",
      "UNDERINFL        object  127113          5    3317           2.543\n",
      "WEATHER          object  126977         12    3453           2.647\n",
      "ROADCOND         object  127022         10    3408           2.613\n",
      "LIGHTCOND        object  126926         10    3504           2.686\n",
      "PEDROWNOTGRNT    object    3163          2  127267          97.575\n",
      "SDOTCOLNUM      float64   77025      77024   53405          40.945\n",
      "SPEEDING         object    6271          2  124159          95.192\n",
      "ST_COLCODE       object  130421        113       9           0.007\n",
      "ST_COLDESC       object  127103         62    3327           2.551\n",
      "SEGLANEKEY        int64  130430       1432       0           0.000\n",
      "CROSSWALKKEY      int64  130430       1704       0           0.000\n",
      "HITPARKEDCAR     object  130430          2       0           0.000\n",
      "SEVERITYCODE      int64  130430          2       0           0.000\n"
     ]
    }
   ],
   "source": [
    "details = computeDetails(train)\n",
    "print(details)"
   ]
  },
  {
   "cell_type": "markdown",
   "metadata": {},
   "source": [
    "# Drop columns with duplicate information or only containing administrative information"
   ]
  },
  {
   "cell_type": "code",
   "execution_count": 7,
   "metadata": {},
   "outputs": [],
   "source": [
    "admin_columns = ['REPORTNO', 'COLLISIONTYPE','ST_COLCODE','ST_COLDESC','SDOT_COLCODE','SDOTCOLNUM','SDOT_COLDESC',\n",
    "              'OBJECTID','INCKEY','COLDETKEY','STATUS','COLLISIONTYPE','INTKEY','LOCATION']\n",
    "\n",
    "train = train.drop(admin_columns,axis=1)\n",
    "test = test.drop(admin_columns,axis=1)"
   ]
  },
  {
   "cell_type": "markdown",
   "metadata": {},
   "source": [
    "# Use X,Y for filling missing JUNCTIONTYPE"
   ]
  },
  {
   "cell_type": "code",
   "execution_count": 8,
   "metadata": {},
   "outputs": [],
   "source": [
    "train = InputMissingData(train, 'JUNCTIONTYPE', ['X','Y'])\n",
    "test = InputMissingData(test, 'JUNCTIONTYPE', ['X','Y'])"
   ]
  },
  {
   "cell_type": "markdown",
   "metadata": {},
   "source": [
    "# Drop features"
   ]
  },
  {
   "cell_type": "markdown",
   "metadata": {},
   "source": [
    "Eliminate the columns that are semantically equal or similar to the target"
   ]
  },
  {
   "cell_type": "code",
   "execution_count": 9,
   "metadata": {},
   "outputs": [],
   "source": [
    "train = train.drop(['SEVERITYCODE.1'], axis=1)\n",
    "train = train.drop(['SEVERITYDESC'], axis=1)\n",
    "\n",
    "test = test.drop(['SEVERITYCODE.1'], axis=1)\n",
    "test = test.drop(['SEVERITYDESC'], axis=1)"
   ]
  },
  {
   "cell_type": "markdown",
   "metadata": {},
   "source": [
    "Eliminate EXCEPTRSNDESC, not enough information"
   ]
  },
  {
   "cell_type": "code",
   "execution_count": 10,
   "metadata": {},
   "outputs": [
    {
     "data": {
      "text/plain": [
       "Not Enough Information, or Insufficient Location Information    3792\n",
       "Name: EXCEPTRSNDESC, dtype: int64"
      ]
     },
     "execution_count": 10,
     "metadata": {},
     "output_type": "execute_result"
    }
   ],
   "source": [
    "train['EXCEPTRSNDESC'].value_counts()"
   ]
  },
  {
   "cell_type": "code",
   "execution_count": 11,
   "metadata": {},
   "outputs": [],
   "source": [
    "train = train.drop(['EXCEPTRSNDESC'], axis=1)\n",
    "test = test.drop(['EXCEPTRSNDESC'], axis=1)"
   ]
  },
  {
   "cell_type": "markdown",
   "metadata": {},
   "source": [
    "EXCEPTRSNCODE has no descriptive field "
   ]
  },
  {
   "cell_type": "code",
   "execution_count": 12,
   "metadata": {},
   "outputs": [
    {
     "data": {
      "text/plain": [
       "       53031\n",
       "NEI     3792\n",
       "Name: EXCEPTRSNCODE, dtype: int64"
      ]
     },
     "execution_count": 12,
     "metadata": {},
     "output_type": "execute_result"
    }
   ],
   "source": [
    "train['EXCEPTRSNCODE'].value_counts()"
   ]
  },
  {
   "cell_type": "code",
   "execution_count": 13,
   "metadata": {},
   "outputs": [],
   "source": [
    "train = train.drop(['EXCEPTRSNCODE'], axis=1)\n",
    "test = test.drop(['EXCEPTRSNCODE'], axis=1)"
   ]
  },
  {
   "cell_type": "markdown",
   "metadata": {},
   "source": [
    "# Replace missing values"
   ]
  },
  {
   "cell_type": "code",
   "execution_count": 25,
   "metadata": {},
   "outputs": [
    {
     "name": "stdout",
     "output_type": "stream",
     "text": [
      "                  types  counts  distincts  nulls  missing ration\n",
      "X               float64  126901      20954   3529           2.706\n",
      "Y               float64  126901      21200   3529           2.706\n",
      "ADDRTYPE         object  129162          4   1268           0.972\n",
      "PERSONCOUNT       int64  130430         44      0           0.000\n",
      "PEDCOUNT          int64  130430          6      0           0.000\n",
      "PEDCYLCOUNT       int64  130430          3      0           0.000\n",
      "VEHCOUNT          int64  130430         12      0           0.000\n",
      "INCDATE          object  130430       5983      0           0.000\n",
      "INCDTTM          object  130430     109974      0           0.000\n",
      "JUNCTIONTYPE     object  128733          8   1697           1.301\n",
      "INATTENTIONIND    int64  130430          2      0           0.000\n",
      "UNDERINFL        object  127113          5   3317           2.543\n",
      "WEATHER          object  126977         12   3453           2.647\n",
      "ROADCOND         object  127022         10   3408           2.613\n",
      "LIGHTCOND        object  126926         10   3504           2.686\n",
      "PEDROWNOTGRNT     int64  130430          2      0           0.000\n",
      "SPEEDING          int64  130430          2      0           0.000\n",
      "SEGLANEKEY        int64  130430       1432      0           0.000\n",
      "CROSSWALKKEY      int64  130430       1704      0           0.000\n",
      "HITPARKEDCAR     object  130430          2      0           0.000\n",
      "SEVERITYCODE      int64  130430          2      0           0.000\n",
      "                  types  counts  distincts  nulls  missing ration\n",
      "X               float64   62438      16336   1805           2.810\n",
      "Y               float64   62438      16486   1805           2.810\n",
      "ADDRTYPE         object   63585          4    658           1.024\n",
      "PERSONCOUNT       int64   64243         33      0           0.000\n",
      "PEDCOUNT          int64   64243          5      0           0.000\n",
      "PEDCYLCOUNT       int64   64243          3      0           0.000\n",
      "VEHCOUNT          int64   64243         13      0           0.000\n",
      "INCDATE          object   64243       5978      0           0.000\n",
      "INCDTTM          object   64243      55592      0           0.000\n",
      "JUNCTIONTYPE     object   63214          8   1029           1.602\n",
      "INATTENTIONIND    int64   64243          2      0           0.000\n",
      "UNDERINFL        object   62676          5   1567           2.439\n",
      "WEATHER          object   62615         11   1628           2.534\n",
      "ROADCOND         object   62639         10   1604           2.497\n",
      "LIGHTCOND        object   62577         10   1666           2.593\n",
      "PEDROWNOTGRNT     int64   64243          2      0           0.000\n",
      "SPEEDING          int64   64243          2      0           0.000\n",
      "SEGLANEKEY        int64   64243        741      0           0.000\n",
      "CROSSWALKKEY      int64   64243        962      0           0.000\n",
      "HITPARKEDCAR     object   64243          2      0           0.000\n",
      "SEVERITYCODE      int64   64243          2      0           0.000\n"
     ]
    }
   ],
   "source": [
    "details = computeDetails(train)\n",
    "print(details)\n",
    "\n",
    "details = computeDetails(test)\n",
    "print(details)"
   ]
  },
  {
   "cell_type": "markdown",
   "metadata": {},
   "source": [
    "INATTENTIONIND id contain only yes, suppose the other equal to n"
   ]
  },
  {
   "cell_type": "code",
   "execution_count": 26,
   "metadata": {},
   "outputs": [
    {
     "data": {
      "text/plain": [
       "0    110397\n",
       "1     20033\n",
       "Name: INATTENTIONIND, dtype: int64"
      ]
     },
     "execution_count": 26,
     "metadata": {},
     "output_type": "execute_result"
    }
   ],
   "source": [
    "train['INATTENTIONIND'].value_counts()"
   ]
  },
  {
   "cell_type": "code",
   "execution_count": 27,
   "metadata": {},
   "outputs": [],
   "source": [
    "train['INATTENTIONIND'] = train['INATTENTIONIND'].replace(np.nan,0)\n",
    "train['INATTENTIONIND'] = train['INATTENTIONIND'].replace('Y',1)\n",
    "train['INATTENTIONIND'].value_counts()\n",
    "\n",
    "test['INATTENTIONIND'] = test['INATTENTIONIND'].replace(np.nan,0)\n",
    "test['INATTENTIONIND'] = test['INATTENTIONIND'].replace('Y',1)"
   ]
  },
  {
   "cell_type": "code",
   "execution_count": 28,
   "metadata": {},
   "outputs": [
    {
     "data": {
      "image/png": "[encoded data removed]",
      "text/plain": [
       "<Figure size 720x360 with 1 Axes>"
      ]
     },
     "metadata": {
      "needs_background": "light"
     },
     "output_type": "display_data"
    }
   ],
   "source": [
    "bar_chart(train, 'INATTENTIONIND')"
   ]
  },
  {
   "cell_type": "code",
   "execution_count": 29,
   "metadata": {},
   "outputs": [
    {
     "data": {
      "text/plain": [
       "0    127267\n",
       "1      3163\n",
       "Name: PEDROWNOTGRNT, dtype: int64"
      ]
     },
     "execution_count": 29,
     "metadata": {},
     "output_type": "execute_result"
    }
   ],
   "source": [
    "train['PEDROWNOTGRNT'].value_counts()"
   ]
  },
  {
   "cell_type": "code",
   "execution_count": 30,
   "metadata": {},
   "outputs": [
    {
     "data": {
      "image/png": "[encoded data removed]",
      "text/plain": [
       "<Figure size 720x360 with 1 Axes>"
      ]
     },
     "metadata": {
      "needs_background": "light"
     },
     "output_type": "display_data"
    }
   ],
   "source": [
    "train['PEDROWNOTGRNT'] = train['PEDROWNOTGRNT'].replace(np.nan,0)\n",
    "test['PEDROWNOTGRNT'] = test['PEDROWNOTGRNT'].replace(np.nan,0)\n",
    "\n",
    "train['PEDROWNOTGRNT'] = train['PEDROWNOTGRNT'].replace('Y',1)\n",
    "test['PEDROWNOTGRNT'] = test['PEDROWNOTGRNT'].replace('Y',1)\n",
    "bar_chart(train, 'PEDROWNOTGRNT')"
   ]
  },
  {
   "cell_type": "code",
   "execution_count": 31,
   "metadata": {},
   "outputs": [
    {
     "data": {
      "text/plain": [
       "0    124159\n",
       "1      6271\n",
       "Name: SPEEDING, dtype: int64"
      ]
     },
     "execution_count": 31,
     "metadata": {},
     "output_type": "execute_result"
    }
   ],
   "source": [
    "train['SPEEDING'].value_counts()"
   ]
  },
  {
   "cell_type": "code",
   "execution_count": 32,
   "metadata": {},
   "outputs": [
    {
     "data": {
      "image/png": "[encoded data removed]",
      "text/plain": [
       "<Figure size 720x360 with 1 Axes>"
      ]
     },
     "metadata": {
      "needs_background": "light"
     },
     "output_type": "display_data"
    }
   ],
   "source": [
    "train['SPEEDING'] = train['SPEEDING'].replace(np.nan,0)\n",
    "test['SPEEDING'] = test['SPEEDING'].replace(np.nan,0)\n",
    "\n",
    "train['SPEEDING'] = train['SPEEDING'].replace('Y',1)\n",
    "test['SPEEDING'] = test['SPEEDING'].replace('Y',1)\n",
    "bar_chart(train, 'SPEEDING')"
   ]
  },
  {
   "cell_type": "code",
   "execution_count": 33,
   "metadata": {},
   "outputs": [
    {
     "data": {
      "text/plain": [
       "N    67173\n",
       "0    53846\n",
       "Y     3392\n",
       "1     2702\n",
       "Name: UNDERINFL, dtype: int64"
      ]
     },
     "execution_count": 33,
     "metadata": {},
     "output_type": "execute_result"
    }
   ],
   "source": [
    "train['UNDERINFL'].value_counts()"
   ]
  },
  {
   "cell_type": "code",
   "execution_count": 34,
   "metadata": {},
   "outputs": [],
   "source": [
    "train['UNDERINFL'] = train['UNDERINFL'].replace('N',0)\n",
    "train['UNDERINFL'] = train['UNDERINFL'].replace('Y',1)  \n",
    "train['UNDERINFL'] = train['UNDERINFL'].replace('0',0) \n",
    "train['UNDERINFL'] = train['UNDERINFL'].replace('1',1) \n",
    "\n",
    "test['UNDERINFL'] = test['UNDERINFL'].replace('N',0)\n",
    "test['UNDERINFL'] = test['UNDERINFL'].replace('Y',1)  \n",
    "test['UNDERINFL'] = test['UNDERINFL'].replace('0',0) \n",
    "test['UNDERINFL'] = test['UNDERINFL'].replace('1',1) "
   ]
  },
  {
   "cell_type": "code",
   "execution_count": 35,
   "metadata": {},
   "outputs": [],
   "source": [
    "#bar_chart(train, 'UNDERINFL')"
   ]
  },
  {
   "cell_type": "code",
   "execution_count": 36,
   "metadata": {},
   "outputs": [
    {
     "data": {
      "text/plain": [
       "Daylight                    77783\n",
       "Dark - Street Lights On     32401\n",
       "Unknown                      9092\n",
       "Dusk                         3994\n",
       "Dawn                         1669\n",
       "Dark - No Street Lights      1015\n",
       "Dark - Street Lights Off      809\n",
       "Other                         155\n",
       "Dark - Unknown Lighting         8\n",
       "Name: LIGHTCOND, dtype: int64"
      ]
     },
     "execution_count": 36,
     "metadata": {},
     "output_type": "execute_result"
    }
   ],
   "source": [
    "train['LIGHTCOND'].value_counts()"
   ]
  },
  {
   "cell_type": "code",
   "execution_count": 37,
   "metadata": {},
   "outputs": [
    {
     "data": {
      "image/png": "[encoded data removed]",
      "text/plain": [
       "<Figure size 720x360 with 1 Axes>"
      ]
     },
     "metadata": {
      "needs_background": "light"
     },
     "output_type": "display_data"
    }
   ],
   "source": [
    "train['LIGHTCOND'] = train['LIGHTCOND'].replace(np.nan,'Unknown')\n",
    "test['LIGHTCOND'] = test['LIGHTCOND'].replace(np.nan,'Unknown')\n",
    "\n",
    "bar_chart(train, 'LIGHTCOND')"
   ]
  },
  {
   "cell_type": "code",
   "execution_count": 38,
   "metadata": {},
   "outputs": [
    {
     "data": {
      "text/plain": [
       "Dry               83405\n",
       "Wet               31687\n",
       "Unknown           10173\n",
       "Ice                 812\n",
       "Snow/Slush          691\n",
       "Other                84\n",
       "Standing Water       79\n",
       "Sand/Mud/Dirt        51\n",
       "Oil                  40\n",
       "Name: ROADCOND, dtype: int64"
      ]
     },
     "execution_count": 38,
     "metadata": {},
     "output_type": "execute_result"
    }
   ],
   "source": [
    "train['ROADCOND'].value_counts()"
   ]
  },
  {
   "cell_type": "code",
   "execution_count": 39,
   "metadata": {
    "scrolled": true
   },
   "outputs": [
    {
     "data": {
      "image/png": "[encoded data removed]",
      "text/plain": [
       "<Figure size 720x360 with 1 Axes>"
      ]
     },
     "metadata": {
      "needs_background": "light"
     },
     "output_type": "display_data"
    }
   ],
   "source": [
    "train['ROADCOND'] = train['ROADCOND'].replace(np.nan,'Unknown')\n",
    "test['ROADCOND'] = test['ROADCOND'].replace(np.nan,'Unknown')\n",
    "bar_chart(train, 'ROADCOND')"
   ]
  },
  {
   "cell_type": "code",
   "execution_count": 40,
   "metadata": {},
   "outputs": [
    {
     "data": {
      "text/plain": [
       "Clear                       74348\n",
       "Raining                     22215\n",
       "Overcast                    18541\n",
       "Unknown                     10177\n",
       "Snowing                       619\n",
       "Other                         557\n",
       "Fog/Smog/Smoke                387\n",
       "Sleet/Hail/Freezing Rain       75\n",
       "Blowing Sand/Dirt              36\n",
       "Severe Crosswind               17\n",
       "Partly Cloudy                   5\n",
       "Name: WEATHER, dtype: int64"
      ]
     },
     "execution_count": 40,
     "metadata": {},
     "output_type": "execute_result"
    }
   ],
   "source": [
    "train['WEATHER'].value_counts()"
   ]
  },
  {
   "cell_type": "code",
   "execution_count": 41,
   "metadata": {},
   "outputs": [
    {
     "data": {
      "image/png": "[encoded data removed]",
      "text/plain": [
       "<Figure size 720x360 with 1 Axes>"
      ]
     },
     "metadata": {
      "needs_background": "light"
     },
     "output_type": "display_data"
    }
   ],
   "source": [
    "train['WEATHER'] = train['WEATHER'].replace(np.nan,'Unknown')\n",
    "test['WEATHER'] = test['WEATHER'].replace(np.nan,'Unknown')\n",
    "bar_chart(train, 'WEATHER')"
   ]
  },
  {
   "cell_type": "markdown",
   "metadata": {},
   "source": [
    "# Treat the dates"
   ]
  },
  {
   "cell_type": "code",
   "execution_count": 42,
   "metadata": {},
   "outputs": [],
   "source": [
    "train['INCDTTM'] = pd.to_datetime(train['INCDTTM'])\n",
    "test['INCDTTM'] = pd.to_datetime(test['INCDTTM'])"
   ]
  },
  {
   "cell_type": "code",
   "execution_count": 43,
   "metadata": {},
   "outputs": [],
   "source": [
    "train = train.drop(['INCDATE'], axis=1)\n",
    "test = test.drop(['INCDATE'], axis=1)"
   ]
  },
  {
   "cell_type": "markdown",
   "metadata": {},
   "source": [
    "check incidents by hour"
   ]
  },
  {
   "cell_type": "code",
   "execution_count": 44,
   "metadata": {},
   "outputs": [
    {
     "data": {
      "text/plain": [
       "<matplotlib.axes._subplots.AxesSubplot at 0x1f5c8a9f988>"
      ]
     },
     "execution_count": 44,
     "metadata": {},
     "output_type": "execute_result"
    },
    {
     "data": {
      "image/png": "[encoded data removed]",
      "text/plain": [
       "<Figure size 432x288 with 1 Axes>"
      ]
     },
     "metadata": {
      "needs_background": "light"
     },
     "output_type": "display_data"
    }
   ],
   "source": [
    "train['hour'] = train['INCDTTM'].dt.hour\n",
    "test['hour'] = test['INCDTTM'].dt.hour\n",
    "\n",
    "df_selected = train[train['SEVERITYCODE']==1]\n",
    "sns.distplot(df_selected['hour'],kde = False)\n",
    "\n",
    "df_selected = train[train['SEVERITYCODE']==2]\n",
    "sns.distplot(df_selected['hour'],kde = False)"
   ]
  },
  {
   "cell_type": "markdown",
   "metadata": {},
   "source": [
    "Check day of the week"
   ]
  },
  {
   "cell_type": "code",
   "execution_count": 45,
   "metadata": {},
   "outputs": [
    {
     "data": {
      "text/plain": [
       "<matplotlib.axes._subplots.AxesSubplot at 0x1f5c5386708>"
      ]
     },
     "execution_count": 45,
     "metadata": {},
     "output_type": "execute_result"
    },
    {
     "data": {
      "image/png": "[encoded data removed]",
      "text/plain": [
       "<Figure size 432x288 with 1 Axes>"
      ]
     },
     "metadata": {
      "needs_background": "light"
     },
     "output_type": "display_data"
    }
   ],
   "source": [
    "train['dayofweek'] = train['INCDTTM'].dt.dayofweek\n",
    "test['dayofweek'] = test['INCDTTM'].dt.dayofweek\n",
    "\n",
    "df_selected = train[train['SEVERITYCODE']==1]\n",
    "sns.distplot(df_selected['dayofweek'],kde = False)\n",
    "df_selected = train[train['SEVERITYCODE']==2]\n",
    "sns.distplot(df_selected['dayofweek'],kde = False)"
   ]
  },
  {
   "cell_type": "markdown",
   "metadata": {},
   "source": [
    "Check month"
   ]
  },
  {
   "cell_type": "code",
   "execution_count": 46,
   "metadata": {},
   "outputs": [
    {
     "data": {
      "text/plain": [
       "<matplotlib.axes._subplots.AxesSubplot at 0x1f5c4f92a88>"
      ]
     },
     "execution_count": 46,
     "metadata": {},
     "output_type": "execute_result"
    },
    {
     "data": {
      "image/png": "[encoded data removed]",
      "text/plain": [
       "<Figure size 432x288 with 1 Axes>"
      ]
     },
     "metadata": {
      "needs_background": "light"
     },
     "output_type": "display_data"
    }
   ],
   "source": [
    "train['month'] = train['INCDTTM'].dt.month\n",
    "test['month'] = test['INCDTTM'].dt.month\n",
    "\n",
    "df_selected = train[train['SEVERITYCODE']==1]\n",
    "sns.distplot(df_selected['month'],kde = False)\n",
    "df_selected = test[test['SEVERITYCODE']==2]\n",
    "sns.distplot(df_selected['month'],kde = False)"
   ]
  },
  {
   "cell_type": "code",
   "execution_count": 47,
   "metadata": {},
   "outputs": [
    {
     "data": {
      "text/plain": [
       "<matplotlib.axes._subplots.AxesSubplot at 0x1f5c5119e48>"
      ]
     },
     "execution_count": 47,
     "metadata": {},
     "output_type": "execute_result"
    },
    {
     "data": {
      "image/png": "[encoded data removed]",
      "text/plain": [
       "<Figure size 432x288 with 1 Axes>"
      ]
     },
     "metadata": {
      "needs_background": "light"
     },
     "output_type": "display_data"
    }
   ],
   "source": [
    "train['year'] = train['INCDTTM'].dt.year\n",
    "test['year'] = test['INCDTTM'].dt.year\n",
    "\n",
    "df_selected = train[train['SEVERITYCODE']==1]\n",
    "sns.distplot(df_selected['year'],kde = False)\n",
    "df_selected = train[train['SEVERITYCODE']==2]\n",
    "sns.distplot(df_selected['year'],kde = False)"
   ]
  },
  {
   "cell_type": "raw",
   "metadata": {},
   "source": [
    "remove INCDTTM after saving dayofweek, month, hours"
   ]
  },
  {
   "cell_type": "code",
   "execution_count": 48,
   "metadata": {},
   "outputs": [],
   "source": [
    "train = train.drop(['INCDTTM'], axis=1)\n",
    "test = test.drop(['INCDTTM'], axis=1)"
   ]
  },
  {
   "cell_type": "markdown",
   "metadata": {},
   "source": [
    "# Check outliers"
   ]
  },
  {
   "cell_type": "code",
   "execution_count": 49,
   "metadata": {},
   "outputs": [
    {
     "name": "stdout",
     "output_type": "stream",
     "text": [
      "                  types  counts  distincts  nulls  missing ration\n",
      "X               float64  126901      20954   3529           2.706\n",
      "Y               float64  126901      21200   3529           2.706\n",
      "ADDRTYPE         object  129162          4   1268           0.972\n",
      "PERSONCOUNT       int64  130430         44      0           0.000\n",
      "PEDCOUNT          int64  130430          6      0           0.000\n",
      "PEDCYLCOUNT       int64  130430          3      0           0.000\n",
      "VEHCOUNT          int64  130430         12      0           0.000\n",
      "JUNCTIONTYPE     object  128733          8   1697           1.301\n",
      "INATTENTIONIND    int64  130430          2      0           0.000\n",
      "UNDERINFL       float64  127113          3   3317           2.543\n",
      "WEATHER          object  130430         11      0           0.000\n",
      "ROADCOND         object  130430          9      0           0.000\n",
      "LIGHTCOND        object  130430          9      0           0.000\n",
      "PEDROWNOTGRNT     int64  130430          2      0           0.000\n",
      "SPEEDING          int64  130430          2      0           0.000\n",
      "SEGLANEKEY        int64  130430       1432      0           0.000\n",
      "CROSSWALKKEY      int64  130430       1704      0           0.000\n",
      "HITPARKEDCAR     object  130430          2      0           0.000\n",
      "SEVERITYCODE      int64  130430          2      0           0.000\n",
      "hour              int64  130430         24      0           0.000\n",
      "dayofweek         int64  130430          7      0           0.000\n",
      "month             int64  130430         12      0           0.000\n",
      "year              int64  130430         17      0           0.000\n"
     ]
    }
   ],
   "source": [
    "details = computeDetails(train)\n",
    "print(details)"
   ]
  },
  {
   "cell_type": "code",
   "execution_count": null,
   "metadata": {},
   "outputs": [
    {
     "name": "stdout",
     "output_type": "stream",
     "text": [
      "PERSONCOUNT   0   81\n",
      "2     76565\n",
      "3     23735\n",
      "4      9859\n",
      "1      8768\n",
      "5      4453\n",
      "0      3732\n",
      "6      1828\n",
      "7       759\n",
      "8       345\n",
      "9       150\n",
      "10       86\n",
      "11       34\n",
      "12       17\n",
      "13       15\n",
      "14       10\n",
      "15        9\n",
      "17        7\n",
      "16        6\n",
      "44        5\n",
      "19        4\n",
      "26        4\n",
      "18        3\n",
      "20        3\n",
      "47        3\n",
      "34        3\n",
      "22        2\n",
      "23        2\n",
      "24        2\n",
      "25        2\n",
      "29        2\n",
      "21        2\n",
      "32        2\n",
      "36        2\n",
      "54        1\n",
      "37        1\n",
      "43        1\n",
      "41        1\n",
      "39        1\n",
      "30        1\n",
      "31        1\n",
      "28        1\n",
      "27        1\n",
      "81        1\n",
      "57        1\n",
      "Name: PERSONCOUNT, dtype: int64\n",
      "PEDCOUNT   0   6\n",
      "0    125818\n",
      "1      4442\n",
      "2       150\n",
      "3        15\n",
      "4         4\n",
      "6         1\n",
      "Name: PEDCOUNT, dtype: int64\n",
      "PEDCYLCOUNT   0   2\n",
      "0    126705\n",
      "1      3700\n",
      "2        25\n",
      "Name: PEDCYLCOUNT, dtype: int64\n",
      "VEHCOUNT   0   11\n",
      "2     98861\n",
      "1     17238\n",
      "3      8721\n",
      "0      3455\n",
      "4      1666\n",
      "5       342\n",
      "6        96\n",
      "7        30\n",
      "8        10\n",
      "9         7\n",
      "11        3\n",
      "10        1\n",
      "Name: VEHCOUNT, dtype: int64\n",
      "SEGLANEKEY   0   525241\n",
      "0        128523\n",
      "6532         13\n",
      "12162        11\n",
      "6078         10\n",
      "8985         10\n",
      "          ...  \n",
      "13230         1\n",
      "7339          1\n",
      "19809         1\n",
      "3625          1\n",
      "9051          1\n",
      "Name: SEGLANEKEY, Length: 1432, dtype: int64\n",
      "CROSSWALKKEY   0   5239700\n",
      "0         127850\n",
      "525567        12\n",
      "523609        10\n",
      "520838        10\n",
      "522891         9\n",
      "           ...  \n",
      "524769         1\n",
      "522846         1\n",
      "522910         1\n",
      "699680         1\n",
      "525537         1\n",
      "Name: CROSSWALKKEY, Length: 1704, dtype: int64\n"
     ]
    }
   ],
   "source": [
    "fig = plt.figure(figsize=(30, 20))\n",
    "sns.set(font_scale=1.5)\n",
    "key='PERSONCOUNT'\n",
    "fig1 = fig.add_subplot(331); sns.boxplot(x='SEVERITYCODE', y=key, data=train[['SEVERITYCODE', key]])\n",
    "print(key,' ', train[key].min(),' ',train[key].max())\n",
    "print(train[key].value_counts())\n",
    "\n",
    "key='PEDCOUNT'\n",
    "fig1 = fig.add_subplot(332); sns.boxplot(x='SEVERITYCODE', y=key, data=train[['SEVERITYCODE', key]])\n",
    "print(key,' ', train[key].min(),' ',train[key].max())\n",
    "print(train[key].value_counts())\n",
    "\n",
    "\n",
    "key='PEDCYLCOUNT'\n",
    "fig1 = fig.add_subplot(333); sns.boxplot(x='SEVERITYCODE', y=key, data=train[['SEVERITYCODE', key]])\n",
    "print(key,' ', train[key].min(),' ',train[key].max())\n",
    "print(train[key].value_counts())\n",
    "\n",
    "key='VEHCOUNT'\n",
    "fig1 = fig.add_subplot(334); sns.boxplot(x='SEVERITYCODE', y=key, data=train[['SEVERITYCODE', key]])\n",
    "print(key,' ', train[key].min(),' ',train[key].max())\n",
    "print(train[key].value_counts())\n",
    "\n",
    "key='SEGLANEKEY'\n",
    "fig1 = fig.add_subplot(335); sns.boxplot(x='SEVERITYCODE', y=key, data=train[['SEVERITYCODE', key]])\n",
    "print(key,' ', train[key].min(),' ',train[key].max())\n",
    "print(train[key].value_counts())\n",
    "\n",
    "key='CROSSWALKKEY'\n",
    "fig1 = fig.add_subplot(336); sns.boxplot(x='SEVERITYCODE', y=key, data=train[['SEVERITYCODE', key]])\n",
    "print(key,' ', train[key].min(),' ',train[key].max())\n",
    "print(train[key].value_counts())\n",
    "\n",
    "plt.savefig('BoxPlots.jpg', dpi=300, bbox_inches='tight')"
   ]
  },
  {
   "cell_type": "markdown",
   "metadata": {},
   "source": [
    "remove outliers"
   ]
  },
  {
   "cell_type": "code",
   "execution_count": 40,
   "metadata": {},
   "outputs": [
    {
     "name": "stdout",
     "output_type": "stream",
     "text": [
      "Num outliers removed  3\n",
      "Num outliers removed  0\n"
     ]
    }
   ],
   "source": [
    "len_before = len(train)\n",
    "train = train[train['PERSONCOUNT']<81]\n",
    "train = train[train['SEGLANEKEY']<525241]\n",
    "train = train[train['CROSSWALKKEY']<5239700]\n",
    "len_after = len(train)\n",
    "print(\"Num outliers removed \",len_before-len_after)\n",
    "\n",
    "len_before = len(test)\n",
    "test = test[test['PERSONCOUNT']<81]\n",
    "test = test[test['SEGLANEKEY']<525241]\n",
    "test = test[test['CROSSWALKKEY']<5239700]\n",
    "len_after = len(test)\n",
    "print(\"Num outliers removed \",len_before-len_after)"
   ]
  },
  {
   "cell_type": "markdown",
   "metadata": {},
   "source": [
    "# Check correlations on numerical features"
   ]
  },
  {
   "cell_type": "code",
   "execution_count": 41,
   "metadata": {},
   "outputs": [
    {
     "name": "stdout",
     "output_type": "stream",
     "text": [
      "                  types  counts  distincts  nulls  missing ration\n",
      "X               float64  126898      20953   3529           2.706\n",
      "Y               float64  126898      21199   3529           2.706\n",
      "ADDRTYPE         object  129159          4   1268           0.972\n",
      "PERSONCOUNT       int64  130427         43      0           0.000\n",
      "PEDCOUNT          int64  130427          6      0           0.000\n",
      "PEDCYLCOUNT       int64  130427          3      0           0.000\n",
      "VEHCOUNT          int64  130427         12      0           0.000\n",
      "JUNCTIONTYPE     object  128730          8   1697           1.301\n",
      "INATTENTIONIND    int64  130427          2      0           0.000\n",
      "UNDERINFL        object  127110          5   3317           2.543\n",
      "WEATHER          object  130427         11      0           0.000\n",
      "ROADCOND         object  130427          9      0           0.000\n",
      "LIGHTCOND        object  130427          9      0           0.000\n",
      "PEDROWNOTGRNT     int64  130427          2      0           0.000\n",
      "SPEEDING          int64  130427          2      0           0.000\n",
      "SEGLANEKEY        int64  130427       1431      0           0.000\n",
      "CROSSWALKKEY      int64  130427       1703      0           0.000\n",
      "HITPARKEDCAR     object  130427          2      0           0.000\n",
      "SEVERITYCODE      int64  130427          2      0           0.000\n",
      "hour              int64  130427         24      0           0.000\n",
      "dayofweek         int64  130427          7      0           0.000\n",
      "month             int64  130427         12      0           0.000\n",
      "year              int64  130427         17      0           0.000\n"
     ]
    }
   ],
   "source": [
    "details = computeDetails(train)\n",
    "print(details)"
   ]
  },
  {
   "cell_type": "code",
   "execution_count": null,
   "metadata": {},
   "outputs": [],
   "source": []
  },
  {
   "cell_type": "markdown",
   "metadata": {},
   "source": [
    "# Drop missing values"
   ]
  },
  {
   "cell_type": "code",
   "execution_count": 42,
   "metadata": {},
   "outputs": [
    {
     "name": "stdout",
     "output_type": "stream",
     "text": [
      "percentage dropped  0.05393055118955431\n",
      "percentage dropped  0.056332985694939525\n"
     ]
    }
   ],
   "source": [
    "len_before = len(train)\n",
    "train.dropna(inplace=True)\n",
    "len_after = len(train)\n",
    "print('percentage dropped ',(len_before - len_after)/len_before)\n",
    "\n",
    "len_before = len(test)\n",
    "test.dropna(inplace=True)\n",
    "len_after = len(test)\n",
    "print('percentage dropped ',(len_before - len_after)/len_before)"
   ]
  },
  {
   "cell_type": "markdown",
   "metadata": {},
   "source": [
    "# Convert categorical to numerical"
   ]
  },
  {
   "cell_type": "code",
   "execution_count": 43,
   "metadata": {},
   "outputs": [],
   "source": [
    "#train = train.drop('LOCATION',axis=1)\n",
    "#test = test.drop('LOCATION',axis=1)\n",
    "\n",
    "\n",
    "train['ADDRTYPE'], test['ADDRTYPE'] = prepare_categorical(train['ADDRTYPE'], test['ADDRTYPE'])\n",
    "train['JUNCTIONTYPE'], test['JUNCTIONTYPE'] = prepare_categorical(train['JUNCTIONTYPE'], test['JUNCTIONTYPE'])\n",
    "#train['UNDERINFL'], test['UNDERINFL'] = prepare_categorical(train['UNDERINFL'], test['UNDERINFL'])\n",
    "train['WEATHER'], test['WEATHER'] = prepare_categorical(train['WEATHER'], test['WEATHER'])\n",
    "train['ROADCOND'], test['ROADCOND'] = prepare_categorical(train['ROADCOND'], test['ROADCOND'])\n",
    "train['LIGHTCOND'], test['LIGHTCOND'] = prepare_categorical(train['LIGHTCOND'], test['LIGHTCOND'])\n",
    "train['HITPARKEDCAR'], test['HITPARKEDCAR'] = prepare_categorical(train['HITPARKEDCAR'], test['HITPARKEDCAR'])\n",
    "\n",
    "#test['ADDRTYPE'] = prepare_categorical(test['ADDRTYPE'])\n",
    "#test['LOCATION'] = prepare_categorical(test['LOCATION'])\n",
    "#test['JUNCTIONTYPE'] = prepare_categorical(test['JUNCTIONTYPE'])\n",
    "#test['UNDERINFL'] = prepare_categorical(test['UNDERINFL'])\n",
    "#test['WEATHER'] = prepare_categorical(test['WEATHER'])\n",
    "#test['ROADCOND'] = prepare_categorical(test['ROADCOND'])\n",
    "#test['LIGHTCOND'] = prepare_categorical(test['LIGHTCOND'])\n",
    "#test['HITPARKEDCAR'] = prepare_categorical(test['HITPARKEDCAR'])"
   ]
  },
  {
   "cell_type": "markdown",
   "metadata": {},
   "source": [
    "# Save cleaned up dataframe"
   ]
  },
  {
   "cell_type": "code",
   "execution_count": 44,
   "metadata": {},
   "outputs": [],
   "source": [
    "\n",
    "train.to_csv('Data-Collisions-train.csv')\n",
    "test.to_csv('Data-Collisions-test.csv')"
   ]
  },
  {
   "cell_type": "markdown",
   "metadata": {},
   "source": [
    "# Load cleaned dataframe"
   ]
  },
  {
   "cell_type": "code",
   "execution_count": 45,
   "metadata": {},
   "outputs": [],
   "source": [
    "import numpy as np\n",
    "import pandas as pd\n",
    "pd.set_option('display.float_format', lambda x: '{:.3f}'.format(x)) #Limiting floats output to 3 decimal points\n",
    "from matplotlib import pyplot as plt\n",
    "%matplotlib inline\n",
    "import seaborn as sns"
   ]
  },
  {
   "cell_type": "code",
   "execution_count": 46,
   "metadata": {},
   "outputs": [
    {
     "name": "stdout",
     "output_type": "stream",
     "text": [
      "                  types  counts  distincts  nulls  missing ration\n",
      "X               float64  123393      20554      0           0.000\n",
      "Y               float64  123393      20792      0           0.000\n",
      "ADDRTYPE          int64  123393          2      0           0.000\n",
      "PERSONCOUNT       int64  123393         43      0           0.000\n",
      "PEDCOUNT          int64  123393          6      0           0.000\n",
      "PEDCYLCOUNT       int64  123393          3      0           0.000\n",
      "VEHCOUNT          int64  123393         12      0           0.000\n",
      "JUNCTIONTYPE      int64  123393          7      0           0.000\n",
      "INATTENTIONIND    int64  123393          2      0           0.000\n",
      "UNDERINFL        object  123393          4      0           0.000\n",
      "WEATHER           int64  123393         11      0           0.000\n",
      "ROADCOND          int64  123393          9      0           0.000\n",
      "LIGHTCOND         int64  123393          9      0           0.000\n",
      "PEDROWNOTGRNT     int64  123393          2      0           0.000\n",
      "SPEEDING          int64  123393          2      0           0.000\n",
      "SEGLANEKEY        int64  123393       1415      0           0.000\n",
      "CROSSWALKKEY      int64  123393       1686      0           0.000\n",
      "HITPARKEDCAR      int64  123393          2      0           0.000\n",
      "SEVERITYCODE      int64  123393          2      0           0.000\n",
      "hour              int64  123393         24      0           0.000\n",
      "dayofweek         int64  123393          7      0           0.000\n",
      "month             int64  123393         12      0           0.000\n",
      "year              int64  123393         17      0           0.000\n"
     ]
    }
   ],
   "source": [
    "train = pd.read_csv('Data-Collisions-train.csv')\n",
    "train = train.drop(['Unnamed: 0'], axis=1)\n",
    "train.dropna(inplace=True)\n",
    "details = computeDetails(train)\n",
    "print(details)"
   ]
  },
  {
   "cell_type": "code",
   "execution_count": 47,
   "metadata": {},
   "outputs": [
    {
     "name": "stdout",
     "output_type": "stream",
     "text": [
      "                  types  counts  distincts  nulls  missing ration\n",
      "X               float64   60624      15916      0           0.000\n",
      "Y               float64   60624      16063      0           0.000\n",
      "ADDRTYPE          int64   60624          2      0           0.000\n",
      "PERSONCOUNT       int64   60624         33      0           0.000\n",
      "PEDCOUNT          int64   60624          5      0           0.000\n",
      "PEDCYLCOUNT       int64   60624          3      0           0.000\n",
      "VEHCOUNT          int64   60624         13      0           0.000\n",
      "JUNCTIONTYPE      int64   60624          7      0           0.000\n",
      "INATTENTIONIND    int64   60624          2      0           0.000\n",
      "UNDERINFL        object   60624          4      0           0.000\n",
      "WEATHER           int64   60624         10      0           0.000\n",
      "ROADCOND          int64   60624          9      0           0.000\n",
      "LIGHTCOND         int64   60624          9      0           0.000\n",
      "PEDROWNOTGRNT     int64   60624          2      0           0.000\n",
      "SPEEDING          int64   60624          2      0           0.000\n",
      "SEGLANEKEY        int64   60624        729      0           0.000\n",
      "CROSSWALKKEY      int64   60624        946      0           0.000\n",
      "HITPARKEDCAR      int64   60624          2      0           0.000\n",
      "SEVERITYCODE      int64   60624          2      0           0.000\n",
      "hour              int64   60624         24      0           0.000\n",
      "dayofweek         int64   60624          7      0           0.000\n",
      "month             int64   60624         12      0           0.000\n",
      "year              int64   60624         17      0           0.000\n"
     ]
    }
   ],
   "source": [
    "test = pd.read_csv('Data-Collisions-test.csv')\n",
    "test = test.drop(['Unnamed: 0'], axis=1)\n",
    "test.dropna(inplace=True)\n",
    "details = computeDetails(test)\n",
    "print(details)"
   ]
  },
  {
   "cell_type": "code",
   "execution_count": 48,
   "metadata": {},
   "outputs": [],
   "source": [
    "#columns_to_dummify=['ADDRTYPE','JUNCTIONTYPE','UNDERINFL','WEATHER','ROADCOND','LIGHTCOND','HITPARKEDCAR']\n",
    "#train = pd.get_dummies(train, columns=columns_to_dummify)\n",
    "#test = pd.get_dummies(test, columns=columns_to_dummify)\n",
    "#details = computeDetails(df)\n",
    "#print(details)"
   ]
  },
  {
   "cell_type": "markdown",
   "metadata": {},
   "source": [
    "# Decision tree model"
   ]
  },
  {
   "cell_type": "code",
   "execution_count": 49,
   "metadata": {},
   "outputs": [],
   "source": [
    "y_train = train['SEVERITYCODE']\n",
    "X_train= train.drop(['SEVERITYCODE'], axis=1)\n",
    "\n",
    "y_test= test['SEVERITYCODE']\n",
    "X_test= test.drop(['SEVERITYCODE'], axis=1)"
   ]
  },
  {
   "cell_type": "code",
   "execution_count": 50,
   "metadata": {},
   "outputs": [
    {
     "ename": "ValueError",
     "evalue": "could not convert string to float: 'N'",
     "output_type": "error",
     "traceback": [
      "\u001b[1;31m---------------------------------------------------------------------------\u001b[0m",
      "\u001b[1;31mValueError\u001b[0m                                Traceback (most recent call last)",
      "\u001b[1;32m<ipython-input-50-8ae5d65590d5>\u001b[0m in \u001b[0;36m<module>\u001b[1;34m\u001b[0m\n\u001b[0;32m      5\u001b[0m \u001b[1;33m\u001b[0m\u001b[0m\n\u001b[0;32m      6\u001b[0m \u001b[0mtrain_scaler\u001b[0m \u001b[1;33m=\u001b[0m \u001b[0mStandardScaler\u001b[0m\u001b[1;33m(\u001b[0m\u001b[1;33m)\u001b[0m\u001b[1;33m\u001b[0m\u001b[1;33m\u001b[0m\u001b[0m\n\u001b[1;32m----> 7\u001b[1;33m \u001b[0mX_train_scaled\u001b[0m \u001b[1;33m=\u001b[0m \u001b[0mtrain_scaler\u001b[0m\u001b[1;33m.\u001b[0m\u001b[0mfit_transform\u001b[0m\u001b[1;33m(\u001b[0m\u001b[0mX_train\u001b[0m\u001b[1;33m)\u001b[0m\u001b[1;33m\u001b[0m\u001b[1;33m\u001b[0m\u001b[0m\n\u001b[0m\u001b[0;32m      8\u001b[0m \u001b[0mX_test_scaled\u001b[0m \u001b[1;33m=\u001b[0m \u001b[0mtrain_scaler\u001b[0m\u001b[1;33m.\u001b[0m\u001b[0mtransform\u001b[0m\u001b[1;33m(\u001b[0m\u001b[0mX_test\u001b[0m\u001b[1;33m)\u001b[0m\u001b[1;33m\u001b[0m\u001b[1;33m\u001b[0m\u001b[0m\n",
      "\u001b[1;32md:\\apps\\python_3_7_4\\lib\\site-packages\\sklearn\\base.py\u001b[0m in \u001b[0;36mfit_transform\u001b[1;34m(self, X, y, **fit_params)\u001b[0m\n\u001b[0;32m    688\u001b[0m         \u001b[1;32mif\u001b[0m \u001b[0my\u001b[0m \u001b[1;32mis\u001b[0m \u001b[1;32mNone\u001b[0m\u001b[1;33m:\u001b[0m\u001b[1;33m\u001b[0m\u001b[1;33m\u001b[0m\u001b[0m\n\u001b[0;32m    689\u001b[0m             \u001b[1;31m# fit method of arity 1 (unsupervised transformation)\u001b[0m\u001b[1;33m\u001b[0m\u001b[1;33m\u001b[0m\u001b[1;33m\u001b[0m\u001b[0m\n\u001b[1;32m--> 690\u001b[1;33m             \u001b[1;32mreturn\u001b[0m \u001b[0mself\u001b[0m\u001b[1;33m.\u001b[0m\u001b[0mfit\u001b[0m\u001b[1;33m(\u001b[0m\u001b[0mX\u001b[0m\u001b[1;33m,\u001b[0m \u001b[1;33m**\u001b[0m\u001b[0mfit_params\u001b[0m\u001b[1;33m)\u001b[0m\u001b[1;33m.\u001b[0m\u001b[0mtransform\u001b[0m\u001b[1;33m(\u001b[0m\u001b[0mX\u001b[0m\u001b[1;33m)\u001b[0m\u001b[1;33m\u001b[0m\u001b[1;33m\u001b[0m\u001b[0m\n\u001b[0m\u001b[0;32m    691\u001b[0m         \u001b[1;32melse\u001b[0m\u001b[1;33m:\u001b[0m\u001b[1;33m\u001b[0m\u001b[1;33m\u001b[0m\u001b[0m\n\u001b[0;32m    692\u001b[0m             \u001b[1;31m# fit method of arity 2 (supervised transformation)\u001b[0m\u001b[1;33m\u001b[0m\u001b[1;33m\u001b[0m\u001b[1;33m\u001b[0m\u001b[0m\n",
      "\u001b[1;32md:\\apps\\python_3_7_4\\lib\\site-packages\\sklearn\\preprocessing\\_data.py\u001b[0m in \u001b[0;36mfit\u001b[1;34m(self, X, y)\u001b[0m\n\u001b[0;32m    665\u001b[0m         \u001b[1;31m# Reset internal state before fitting\u001b[0m\u001b[1;33m\u001b[0m\u001b[1;33m\u001b[0m\u001b[1;33m\u001b[0m\u001b[0m\n\u001b[0;32m    666\u001b[0m         \u001b[0mself\u001b[0m\u001b[1;33m.\u001b[0m\u001b[0m_reset\u001b[0m\u001b[1;33m(\u001b[0m\u001b[1;33m)\u001b[0m\u001b[1;33m\u001b[0m\u001b[1;33m\u001b[0m\u001b[0m\n\u001b[1;32m--> 667\u001b[1;33m         \u001b[1;32mreturn\u001b[0m \u001b[0mself\u001b[0m\u001b[1;33m.\u001b[0m\u001b[0mpartial_fit\u001b[0m\u001b[1;33m(\u001b[0m\u001b[0mX\u001b[0m\u001b[1;33m,\u001b[0m \u001b[0my\u001b[0m\u001b[1;33m)\u001b[0m\u001b[1;33m\u001b[0m\u001b[1;33m\u001b[0m\u001b[0m\n\u001b[0m\u001b[0;32m    668\u001b[0m \u001b[1;33m\u001b[0m\u001b[0m\n\u001b[0;32m    669\u001b[0m     \u001b[1;32mdef\u001b[0m \u001b[0mpartial_fit\u001b[0m\u001b[1;33m(\u001b[0m\u001b[0mself\u001b[0m\u001b[1;33m,\u001b[0m \u001b[0mX\u001b[0m\u001b[1;33m,\u001b[0m \u001b[0my\u001b[0m\u001b[1;33m=\u001b[0m\u001b[1;32mNone\u001b[0m\u001b[1;33m)\u001b[0m\u001b[1;33m:\u001b[0m\u001b[1;33m\u001b[0m\u001b[1;33m\u001b[0m\u001b[0m\n",
      "\u001b[1;32md:\\apps\\python_3_7_4\\lib\\site-packages\\sklearn\\preprocessing\\_data.py\u001b[0m in \u001b[0;36mpartial_fit\u001b[1;34m(self, X, y)\u001b[0m\n\u001b[0;32m    696\u001b[0m         X = self._validate_data(X, accept_sparse=('csr', 'csc'),\n\u001b[0;32m    697\u001b[0m                                 \u001b[0mestimator\u001b[0m\u001b[1;33m=\u001b[0m\u001b[0mself\u001b[0m\u001b[1;33m,\u001b[0m \u001b[0mdtype\u001b[0m\u001b[1;33m=\u001b[0m\u001b[0mFLOAT_DTYPES\u001b[0m\u001b[1;33m,\u001b[0m\u001b[1;33m\u001b[0m\u001b[1;33m\u001b[0m\u001b[0m\n\u001b[1;32m--> 698\u001b[1;33m                                 force_all_finite='allow-nan')\n\u001b[0m\u001b[0;32m    699\u001b[0m \u001b[1;33m\u001b[0m\u001b[0m\n\u001b[0;32m    700\u001b[0m         \u001b[1;31m# Even in the case of `with_mean=False`, we update the mean anyway\u001b[0m\u001b[1;33m\u001b[0m\u001b[1;33m\u001b[0m\u001b[1;33m\u001b[0m\u001b[0m\n",
      "\u001b[1;32md:\\apps\\python_3_7_4\\lib\\site-packages\\sklearn\\base.py\u001b[0m in \u001b[0;36m_validate_data\u001b[1;34m(self, X, y, reset, validate_separately, **check_params)\u001b[0m\n\u001b[0;32m    418\u001b[0m                     \u001b[1;34mf\"requires y to be passed, but the target y is None.\"\u001b[0m\u001b[1;33m\u001b[0m\u001b[1;33m\u001b[0m\u001b[0m\n\u001b[0;32m    419\u001b[0m                 )\n\u001b[1;32m--> 420\u001b[1;33m             \u001b[0mX\u001b[0m \u001b[1;33m=\u001b[0m \u001b[0mcheck_array\u001b[0m\u001b[1;33m(\u001b[0m\u001b[0mX\u001b[0m\u001b[1;33m,\u001b[0m \u001b[1;33m**\u001b[0m\u001b[0mcheck_params\u001b[0m\u001b[1;33m)\u001b[0m\u001b[1;33m\u001b[0m\u001b[1;33m\u001b[0m\u001b[0m\n\u001b[0m\u001b[0;32m    421\u001b[0m             \u001b[0mout\u001b[0m \u001b[1;33m=\u001b[0m \u001b[0mX\u001b[0m\u001b[1;33m\u001b[0m\u001b[1;33m\u001b[0m\u001b[0m\n\u001b[0;32m    422\u001b[0m         \u001b[1;32melse\u001b[0m\u001b[1;33m:\u001b[0m\u001b[1;33m\u001b[0m\u001b[1;33m\u001b[0m\u001b[0m\n",
      "\u001b[1;32md:\\apps\\python_3_7_4\\lib\\site-packages\\sklearn\\utils\\validation.py\u001b[0m in \u001b[0;36minner_f\u001b[1;34m(*args, **kwargs)\u001b[0m\n\u001b[0;32m     71\u001b[0m                           FutureWarning)\n\u001b[0;32m     72\u001b[0m         \u001b[0mkwargs\u001b[0m\u001b[1;33m.\u001b[0m\u001b[0mupdate\u001b[0m\u001b[1;33m(\u001b[0m\u001b[1;33m{\u001b[0m\u001b[0mk\u001b[0m\u001b[1;33m:\u001b[0m \u001b[0marg\u001b[0m \u001b[1;32mfor\u001b[0m \u001b[0mk\u001b[0m\u001b[1;33m,\u001b[0m \u001b[0marg\u001b[0m \u001b[1;32min\u001b[0m \u001b[0mzip\u001b[0m\u001b[1;33m(\u001b[0m\u001b[0msig\u001b[0m\u001b[1;33m.\u001b[0m\u001b[0mparameters\u001b[0m\u001b[1;33m,\u001b[0m \u001b[0margs\u001b[0m\u001b[1;33m)\u001b[0m\u001b[1;33m}\u001b[0m\u001b[1;33m)\u001b[0m\u001b[1;33m\u001b[0m\u001b[1;33m\u001b[0m\u001b[0m\n\u001b[1;32m---> 73\u001b[1;33m         \u001b[1;32mreturn\u001b[0m \u001b[0mf\u001b[0m\u001b[1;33m(\u001b[0m\u001b[1;33m**\u001b[0m\u001b[0mkwargs\u001b[0m\u001b[1;33m)\u001b[0m\u001b[1;33m\u001b[0m\u001b[1;33m\u001b[0m\u001b[0m\n\u001b[0m\u001b[0;32m     74\u001b[0m     \u001b[1;32mreturn\u001b[0m \u001b[0minner_f\u001b[0m\u001b[1;33m\u001b[0m\u001b[1;33m\u001b[0m\u001b[0m\n\u001b[0;32m     75\u001b[0m \u001b[1;33m\u001b[0m\u001b[0m\n",
      "\u001b[1;32md:\\apps\\python_3_7_4\\lib\\site-packages\\sklearn\\utils\\validation.py\u001b[0m in \u001b[0;36mcheck_array\u001b[1;34m(array, accept_sparse, accept_large_sparse, dtype, order, copy, force_all_finite, ensure_2d, allow_nd, ensure_min_samples, ensure_min_features, estimator)\u001b[0m\n\u001b[0;32m    597\u001b[0m                     \u001b[0marray\u001b[0m \u001b[1;33m=\u001b[0m \u001b[0marray\u001b[0m\u001b[1;33m.\u001b[0m\u001b[0mastype\u001b[0m\u001b[1;33m(\u001b[0m\u001b[0mdtype\u001b[0m\u001b[1;33m,\u001b[0m \u001b[0mcasting\u001b[0m\u001b[1;33m=\u001b[0m\u001b[1;34m\"unsafe\"\u001b[0m\u001b[1;33m,\u001b[0m \u001b[0mcopy\u001b[0m\u001b[1;33m=\u001b[0m\u001b[1;32mFalse\u001b[0m\u001b[1;33m)\u001b[0m\u001b[1;33m\u001b[0m\u001b[1;33m\u001b[0m\u001b[0m\n\u001b[0;32m    598\u001b[0m                 \u001b[1;32melse\u001b[0m\u001b[1;33m:\u001b[0m\u001b[1;33m\u001b[0m\u001b[1;33m\u001b[0m\u001b[0m\n\u001b[1;32m--> 599\u001b[1;33m                     \u001b[0marray\u001b[0m \u001b[1;33m=\u001b[0m \u001b[0mnp\u001b[0m\u001b[1;33m.\u001b[0m\u001b[0masarray\u001b[0m\u001b[1;33m(\u001b[0m\u001b[0marray\u001b[0m\u001b[1;33m,\u001b[0m \u001b[0morder\u001b[0m\u001b[1;33m=\u001b[0m\u001b[0morder\u001b[0m\u001b[1;33m,\u001b[0m \u001b[0mdtype\u001b[0m\u001b[1;33m=\u001b[0m\u001b[0mdtype\u001b[0m\u001b[1;33m)\u001b[0m\u001b[1;33m\u001b[0m\u001b[1;33m\u001b[0m\u001b[0m\n\u001b[0m\u001b[0;32m    600\u001b[0m             \u001b[1;32mexcept\u001b[0m \u001b[0mComplexWarning\u001b[0m\u001b[1;33m:\u001b[0m\u001b[1;33m\u001b[0m\u001b[1;33m\u001b[0m\u001b[0m\n\u001b[0;32m    601\u001b[0m                 raise ValueError(\"Complex data not supported\\n\"\n",
      "\u001b[1;32md:\\apps\\python_3_7_4\\lib\\site-packages\\numpy\\core\\_asarray.py\u001b[0m in \u001b[0;36masarray\u001b[1;34m(a, dtype, order)\u001b[0m\n\u001b[0;32m     83\u001b[0m \u001b[1;33m\u001b[0m\u001b[0m\n\u001b[0;32m     84\u001b[0m     \"\"\"\n\u001b[1;32m---> 85\u001b[1;33m     \u001b[1;32mreturn\u001b[0m \u001b[0marray\u001b[0m\u001b[1;33m(\u001b[0m\u001b[0ma\u001b[0m\u001b[1;33m,\u001b[0m \u001b[0mdtype\u001b[0m\u001b[1;33m,\u001b[0m \u001b[0mcopy\u001b[0m\u001b[1;33m=\u001b[0m\u001b[1;32mFalse\u001b[0m\u001b[1;33m,\u001b[0m \u001b[0morder\u001b[0m\u001b[1;33m=\u001b[0m\u001b[0morder\u001b[0m\u001b[1;33m)\u001b[0m\u001b[1;33m\u001b[0m\u001b[1;33m\u001b[0m\u001b[0m\n\u001b[0m\u001b[0;32m     86\u001b[0m \u001b[1;33m\u001b[0m\u001b[0m\n\u001b[0;32m     87\u001b[0m \u001b[1;33m\u001b[0m\u001b[0m\n",
      "\u001b[1;31mValueError\u001b[0m: could not convert string to float: 'N'"
     ]
    }
   ],
   "source": [
    "from sklearn import svm\n",
    "from sklearn.preprocessing import StandardScaler\n",
    "from sklearn.metrics import f1_score\n",
    "from sklearn.tree import DecisionTreeClassifier\n",
    "\n",
    "train_scaler = StandardScaler()\n",
    "X_train_scaled = train_scaler.fit_transform(X_train)\n",
    "X_test_scaled = train_scaler.transform(X_test)"
   ]
  },
  {
   "cell_type": "code",
   "execution_count": null,
   "metadata": {},
   "outputs": [],
   "source": [
    "clf = DecisionTreeClassifier(criterion=\"entropy\", class_weight='balanced',random_state=42)\n",
    "clf.fit(X_train_scaled, y_train) \n",
    "yhat = clf.predict(X_test_scaled)\n",
    "f1_score(y_test, yhat, average='weighted') "
   ]
  },
  {
   "cell_type": "markdown",
   "metadata": {},
   "source": [
    "# Feature selection"
   ]
  },
  {
   "cell_type": "code",
   "execution_count": null,
   "metadata": {},
   "outputs": [],
   "source": [
    "from sklearn.feature_selection import SelectKBest\n",
    "from sklearn.feature_selection import chi2\n",
    "def select_features(X_train, y_train, X_test):\n",
    "    fs = SelectKBest(score_func=chi2, k='all')\n",
    "    fs.fit(X_train, y_train)\n",
    "    X_train_fs = fs.transform(X_train)\n",
    "    X_test_fs = fs.transform(X_test)\n",
    "    return X_train_fs, X_test_fs, fs"
   ]
  },
  {
   "cell_type": "code",
   "execution_count": null,
   "metadata": {},
   "outputs": [],
   "source": [
    "X_train_selected = X_train.drop(['X', 'Y'],axis=1)\n",
    "X_test_selected = X_test.drop(['X', 'Y'],axis=1)\n",
    "X_train_fs, X_test_fs, fs = select_features(X_train_selected, y_train, X_test_selected)\n",
    "column_val =X_train_selected.columns.values\n",
    "columns_to_drop=[]\n",
    "for i in range(len(fs.scores_)):\n",
    "    print('Feature %s: %f' % (column_val[i], fs.scores_[i]))\n",
    "    if fs.scores_[i]<100:\n",
    "        columns_to_drop.append(column_val[i])"
   ]
  },
  {
   "cell_type": "code",
   "execution_count": null,
   "metadata": {},
   "outputs": [],
   "source": [
    "#columns_to_drop=['month','dayofweek','SPEEDING']\n",
    "X_train_selected = X_train.drop(columns_to_drop,axis=1)\n",
    "X_test_selected = X_test.drop(columns_to_drop,axis=1)\n",
    "\n",
    "train_scaler = StandardScaler()\n",
    "X_train_selected_scaled = train_scaler.fit_transform(X_train_selected)\n",
    "X_test_selected_scaled = train_scaler.transform(X_test_selected)"
   ]
  },
  {
   "cell_type": "code",
   "execution_count": null,
   "metadata": {},
   "outputs": [],
   "source": [
    "clf = DecisionTreeClassifier(criterion=\"entropy\", class_weight='balanced',random_state=42)\n",
    "clf.fit(X_train_selected_scaled, y_train) \n",
    "yhat = clf.predict(X_test_selected_scaled)\n",
    "f1_score(y_test, yhat, average='weighted') "
   ]
  },
  {
   "cell_type": "markdown",
   "metadata": {},
   "source": [
    "# XGBoost"
   ]
  },
  {
   "cell_type": "code",
   "execution_count": null,
   "metadata": {},
   "outputs": [],
   "source": [
    "yhat = clf.predict(X_test_selected_scaled)\n",
    "f1_score(y_test, yhat, average='weighted') "
   ]
  },
  {
   "cell_type": "code",
   "execution_count": null,
   "metadata": {},
   "outputs": [],
   "source": [
    "from sklearn.utils import class_weight\n",
    "def ComputeWeights(y_val):\n",
    "    sample_weights = class_weight.compute_class_weight('balanced', np.unique(y_val), y_val)\n",
    "    weights = []\n",
    "    y_train = np.array(y_val)\n",
    "    for i in range(len(y_val)):\n",
    "        if y_val[i] == 1:\n",
    "            weights.append(sample_weights[0])\n",
    "        elif y_val[i] == 2:\n",
    "            weights.append(sample_weights[1])\n",
    "\n",
    "    weights = np.array(weights)\n",
    "    \n",
    "    return weights"
   ]
  },
  {
   "cell_type": "code",
   "execution_count": null,
   "metadata": {},
   "outputs": [],
   "source": [
    "X_train_scaled = np.array(X_train_scaled)\n",
    "y_train = np.array(y_train)\n",
    "X_test_scaled = np.array(X_test_scaled)\n",
    "y_test = np.array(y_test)\n",
    "\n",
    "import xgboost as xgb\n",
    "clf = xgb.XGBClassifier(n_jobs=3)\n",
    "\n",
    "weights = ComputeWeights(y_train)\n",
    "clf.fit(X_train_scaled, y_train,sample_weight=weights) \n",
    "yhat = clf.predict(X_test_scaled)\n",
    "f1_score(y_test, yhat, average='weighted') "
   ]
  },
  {
   "cell_type": "code",
   "execution_count": null,
   "metadata": {},
   "outputs": [],
   "source": [
    "from sklearn.metrics import accuracy_score\n",
    "current_accuracy =  accuracy_score(y_test, yhat)\n",
    "print(current_accuracy)"
   ]
  },
  {
   "cell_type": "code",
   "execution_count": null,
   "metadata": {},
   "outputs": [],
   "source": []
  },
  {
   "cell_type": "code",
   "execution_count": null,
   "metadata": {},
   "outputs": [],
   "source": []
  },
  {
   "cell_type": "code",
   "execution_count": null,
   "metadata": {},
   "outputs": [],
   "source": []
  }
 ],
 "metadata": {
  "kernelspec": {
   "display_name": "Python 3",
   "language": "python",
   "name": "python3"
  },
  "language_info": {
   "codemirror_mode": {
    "name": "ipython",
    "version": 3
   },
   "file_extension": ".py",
   "mimetype": "text/x-python",
   "name": "python",
   "nbconvert_exporter": "python",
   "pygments_lexer": "ipython3",
   "version": "3.7.4"
  }
 },
 "nbformat": 4,
 "nbformat_minor": 2
}
