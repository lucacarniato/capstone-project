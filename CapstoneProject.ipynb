{
 "cells": [
  {
   "cell_type": "markdown",
   "metadata": {},
   "source": [
    "# This is the Coursera capstone project (Seattle collisions)"
   ]
  },
  {
   "cell_type": "code",
   "execution_count": 1,
   "metadata": {},
   "outputs": [],
   "source": [
    "import numpy as np\n",
    "import pandas as pd\n",
    "pd.set_option('display.float_format', lambda x: '{:.3f}'.format(x)) #Limiting floats output to 3 decimal points\n",
    "from matplotlib import pyplot as plt\n",
    "%matplotlib inline\n",
    "import seaborn as sns"
   ]
  },
  {
   "cell_type": "code",
   "execution_count": 2,
   "metadata": {},
   "outputs": [
    {
     "name": "stdout",
     "output_type": "stream",
     "text": [
      "Hello Capstone Project Course!\n"
     ]
    }
   ],
   "source": [
    "print(\"Hello Capstone Project Course!\")"
   ]
  },
  {
   "cell_type": "code",
   "execution_count": 3,
   "metadata": {},
   "outputs": [
    {
     "name": "stderr",
     "output_type": "stream",
     "text": [
      "C:\\Users\\carniato\\AppData\\Roaming\\Python\\Python37\\site-packages\\IPython\\core\\interactiveshell.py:3049: DtypeWarning: Columns (33) have mixed types. Specify dtype option on import or set low_memory=False.\n",
      "  interactivity=interactivity, compiler=compiler, result=result)\n"
     ]
    }
   ],
   "source": [
    "#https://data-seattlecitygis.opendata.arcgis.com/datasets/5b5c745e0f1f48e7a53acec63a0022ab_0\n",
    "dfOriginal = pd.read_csv('Data-Collisions.csv')"
   ]
  },
  {
   "cell_type": "markdown",
   "metadata": {},
   "source": [
    "# Data cleaning"
   ]
  },
  {
   "cell_type": "markdown",
   "metadata": {},
   "source": [
    "Inspect data first"
   ]
  },
  {
   "cell_type": "code",
   "execution_count": 4,
   "metadata": {},
   "outputs": [],
   "source": [
    "def computeDetails(df): \n",
    "    obs = df.shape[0]\n",
    "    types = df.dtypes\n",
    "    counts = df.apply(lambda x: x.count())\n",
    "    uniques = df.apply(lambda x: [x.unique()])\n",
    "    nulls = df.apply(lambda x: x.isnull().sum())\n",
    "    distincts = df.apply(lambda x: x.unique().shape[0])\n",
    "    missing_ration = (df.isnull().sum()/ obs) * 100\n",
    "    \n",
    "    cols = ['types', 'counts', 'distincts', 'nulls', 'missing ration']\n",
    "    details = pd.concat([types, counts, distincts, nulls, missing_ration], axis = 1)\n",
    "    details.columns = cols\n",
    "    \n",
    "    return details\n",
    "\n",
    "def GetIndexses(df,col_missing_data,missingValue):\n",
    "    if not missingValue :\n",
    "        # nan\n",
    "        indexses = df[col_missing_data].isnull()\n",
    "    else:\n",
    "        # comparables\n",
    "        indexses = df[col_missing_data]==missingValue\n",
    "        \n",
    "    return indexses\n",
    "\n",
    "def InputMissingData(df, col_missing_data, col_ref, missingValue = None):\n",
    "    #group by nan or missing value\n",
    "    invalid_idxs = GetIndexses(df, col_missing_data, missingValue)\n",
    "    df_notval = df[invalid_idxs]\n",
    "    df_notval = df_notval.groupby(col_ref).sum()  \n",
    "    #print(df_notval[col_ref])\n",
    "    #the valid entries\n",
    "    df_val = df[~invalid_idxs]\n",
    "    \n",
    "    #now check the values of the reference column\n",
    "    for r in df_notval.index.values:\n",
    "        if isinstance(r, str):\n",
    "            #a string (e.g. a location)\n",
    "            df_loc = df_val[df_val[col_ref]==r]\n",
    "        elif len(r)==2:\n",
    "            #two doubles\n",
    "            df_loc = df_val[(df_val[col_ref[0]]==r[0]) & (df_val[col_ref[1]]==r[1])]\n",
    "        \n",
    "        if len(df_loc) > 0:\n",
    "            val = df_loc[col_missing_data].iloc[0]\n",
    "            if isinstance(r, str):\n",
    "                #substitute with the first valid value\n",
    "                df.loc[(df[col_ref]==r) & invalid_idxs,col_missing_data]=val\n",
    "            elif len(r) ==2:\n",
    "                df.loc[(df[col_ref[0]]==r[0]) &(df[col_ref[1]]==r[1]) & invalid_idxs, col_missing_data] = val\n",
    "        \n",
    "    return df     \n",
    "\n",
    "def bar_chart(datafr, feature):\n",
    "    severityOne = datafr[datafr['SEVERITYCODE']==1][feature].value_counts()\n",
    "    #print(severityOne[0]/(severityOne[0] + severityOne[1]))\n",
    "    severityTwo = datafr[datafr['SEVERITYCODE']==2][feature].value_counts()\n",
    "    #print(severityTwo[0]/(severityTwo[0] + severityTwo[1]))\n",
    "    df = pd.DataFrame([severityOne,severityTwo])\n",
    "    df.index = ['SEVERITYCODE 1','SEVERITYCODE 2']\n",
    "    df.plot(kind='bar',stacked=True, figsize=(10,5))\n",
    "    \n",
    "from sklearn.preprocessing import LabelEncoder\n",
    "def prepare_categorical(toLabel):\n",
    "    le = LabelEncoder()\n",
    "    le.fit(toLabel)\n",
    "    toLabel_enc = le.transform(toLabel)\n",
    "    return toLabel_enc"
   ]
  },
  {
   "cell_type": "code",
   "execution_count": 5,
   "metadata": {},
   "outputs": [
    {
     "name": "stdout",
     "output_type": "stream",
     "text": [
      "                  types  counts  distincts   nulls  missing ration\n",
      "SEVERITYCODE      int64  194673          2       0           0.000\n",
      "X               float64  189339      23564    5334           2.740\n",
      "Y               float64  189339      23840    5334           2.740\n",
      "OBJECTID          int64  194673     194673       0           0.000\n",
      "INCKEY            int64  194673     194673       0           0.000\n",
      "COLDETKEY         int64  194673     194673       0           0.000\n",
      "REPORTNO         object  194673     194670       0           0.000\n",
      "STATUS           object  194673          2       0           0.000\n",
      "ADDRTYPE         object  192747          4    1926           0.989\n",
      "INTKEY          float64   65070       7615  129603          66.575\n",
      "LOCATION         object  191996      24103    2677           1.375\n",
      "EXCEPTRSNCODE    object   84811          3  109862          56.434\n",
      "EXCEPTRSNDESC    object    5638          2  189035          97.104\n",
      "SEVERITYCODE.1    int64  194673          2       0           0.000\n",
      "SEVERITYDESC     object  194673          2       0           0.000\n",
      "COLLISIONTYPE    object  189769         11    4904           2.519\n",
      "PERSONCOUNT       int64  194673         47       0           0.000\n",
      "PEDCOUNT          int64  194673          7       0           0.000\n",
      "PEDCYLCOUNT       int64  194673          3       0           0.000\n",
      "VEHCOUNT          int64  194673         13       0           0.000\n",
      "INCDATE          object  194673       5985       0           0.000\n",
      "INCDTTM          object  194673     162058       0           0.000\n",
      "JUNCTIONTYPE     object  188344          8    6329           3.251\n",
      "SDOT_COLCODE      int64  194673         39       0           0.000\n",
      "SDOT_COLDESC     object  194673         39       0           0.000\n",
      "INATTENTIONIND   object   29805          2  164868          84.690\n",
      "UNDERINFL        object  189789          5    4884           2.509\n",
      "WEATHER          object  189592         12    5081           2.610\n",
      "ROADCOND         object  189661         10    5012           2.575\n",
      "LIGHTCOND        object  189503         10    5170           2.656\n",
      "PEDROWNOTGRNT    object    4667          2  190006          97.603\n",
      "SDOTCOLNUM      float64  114936     114933   79737          40.959\n",
      "SPEEDING         object    9333          2  185340          95.206\n",
      "ST_COLCODE       object  194655        116      18           0.009\n",
      "ST_COLDESC       object  189769         63    4904           2.519\n",
      "SEGLANEKEY        int64  194673       1955       0           0.000\n",
      "CROSSWALKKEY      int64  194673       2198       0           0.000\n",
      "HITPARKEDCAR     object  194673          2       0           0.000\n"
     ]
    }
   ],
   "source": [
    "df = dfOriginal.copy()\n",
    "details = computeDetails(df)\n",
    "print(details)"
   ]
  },
  {
   "cell_type": "markdown",
   "metadata": {},
   "source": [
    "Eliminate the columns that are semantically equal or similar to the target"
   ]
  },
  {
   "cell_type": "code",
   "execution_count": 6,
   "metadata": {},
   "outputs": [],
   "source": [
    "df = df.drop(['SEVERITYCODE.1'], axis=1)\n",
    "df = df.drop(['SEVERITYDESC'], axis=1)"
   ]
  },
  {
   "cell_type": "markdown",
   "metadata": {},
   "source": [
    "Eliminate EXCEPTRSNDESC, not enough information"
   ]
  },
  {
   "cell_type": "code",
   "execution_count": 7,
   "metadata": {},
   "outputs": [
    {
     "data": {
      "text/plain": [
       "Not Enough Information, or Insufficient Location Information    5638\n",
       "Name: EXCEPTRSNDESC, dtype: int64"
      ]
     },
     "execution_count": 7,
     "metadata": {},
     "output_type": "execute_result"
    }
   ],
   "source": [
    "df['EXCEPTRSNDESC'].value_counts()"
   ]
  },
  {
   "cell_type": "code",
   "execution_count": 8,
   "metadata": {},
   "outputs": [],
   "source": [
    "df = df.drop(['EXCEPTRSNDESC'], axis=1)"
   ]
  },
  {
   "cell_type": "markdown",
   "metadata": {},
   "source": [
    "EXCEPTRSNCODE has no descriptive field "
   ]
  },
  {
   "cell_type": "code",
   "execution_count": 9,
   "metadata": {},
   "outputs": [],
   "source": [
    "df = df.drop(['EXCEPTRSNCODE'], axis=1)"
   ]
  },
  {
   "cell_type": "markdown",
   "metadata": {},
   "source": [
    "Eliminate columns that cannot be used as prediction for an accidedent"
   ]
  },
  {
   "cell_type": "code",
   "execution_count": 10,
   "metadata": {},
   "outputs": [],
   "source": [
    "df = df.drop(['REPORTNO', 'COLLISIONTYPE','ST_COLCODE','ST_COLDESC','SDOT_COLCODE','SDOTCOLNUM','SDOT_COLDESC',\n",
    "              'OBJECTID','INCKEY','COLDETKEY','STATUS','COLLISIONTYPE','INTKEY'],axis=1)"
   ]
  },
  {
   "cell_type": "markdown",
   "metadata": {},
   "source": [
    "INATTENTIONIND id contain only yes, suppose the other equal to n"
   ]
  },
  {
   "cell_type": "code",
   "execution_count": 11,
   "metadata": {},
   "outputs": [
    {
     "data": {
      "text/plain": [
       "Y    29805\n",
       "Name: INATTENTIONIND, dtype: int64"
      ]
     },
     "execution_count": 11,
     "metadata": {},
     "output_type": "execute_result"
    }
   ],
   "source": [
    "df['INATTENTIONIND'].value_counts()"
   ]
  },
  {
   "cell_type": "code",
   "execution_count": 12,
   "metadata": {},
   "outputs": [
    {
     "data": {
      "text/plain": [
       "0    164868\n",
       "1     29805\n",
       "Name: INATTENTIONIND, dtype: int64"
      ]
     },
     "execution_count": 12,
     "metadata": {},
     "output_type": "execute_result"
    }
   ],
   "source": [
    "df['INATTENTIONIND'] = df['INATTENTIONIND'].replace(np.nan,0)\n",
    "df['INATTENTIONIND'] = df['INATTENTIONIND'].replace('Y',1)\n",
    "df['INATTENTIONIND'].value_counts()"
   ]
  },
  {
   "cell_type": "code",
   "execution_count": 13,
   "metadata": {},
   "outputs": [
    {
     "data": {
      "image/png": "[encoded data removed]",
      "text/plain": [
       "<Figure size 720x360 with 1 Axes>"
      ]
     },
     "metadata": {
      "needs_background": "light"
     },
     "output_type": "display_data"
    }
   ],
   "source": [
    "bar_chart(df, 'INATTENTIONIND')"
   ]
  },
  {
   "cell_type": "code",
   "execution_count": 14,
   "metadata": {},
   "outputs": [
    {
     "name": "stdout",
     "output_type": "stream",
     "text": [
      "                  types  counts  distincts   nulls  missing ration\n",
      "SEVERITYCODE      int64  194673          2       0           0.000\n",
      "X               float64  189339      23564    5334           2.740\n",
      "Y               float64  189339      23840    5334           2.740\n",
      "ADDRTYPE         object  192747          4    1926           0.989\n",
      "LOCATION         object  191996      24103    2677           1.375\n",
      "PERSONCOUNT       int64  194673         47       0           0.000\n",
      "PEDCOUNT          int64  194673          7       0           0.000\n",
      "PEDCYLCOUNT       int64  194673          3       0           0.000\n",
      "VEHCOUNT          int64  194673         13       0           0.000\n",
      "INCDATE          object  194673       5985       0           0.000\n",
      "INCDTTM          object  194673     162058       0           0.000\n",
      "JUNCTIONTYPE     object  188344          8    6329           3.251\n",
      "INATTENTIONIND    int64  194673          2       0           0.000\n",
      "UNDERINFL        object  189789          5    4884           2.509\n",
      "WEATHER          object  189592         12    5081           2.610\n",
      "ROADCOND         object  189661         10    5012           2.575\n",
      "LIGHTCOND        object  189503         10    5170           2.656\n",
      "PEDROWNOTGRNT    object    4667          2  190006          97.603\n",
      "SPEEDING         object    9333          2  185340          95.206\n",
      "SEGLANEKEY        int64  194673       1955       0           0.000\n",
      "CROSSWALKKEY      int64  194673       2198       0           0.000\n",
      "HITPARKEDCAR     object  194673          2       0           0.000\n"
     ]
    }
   ],
   "source": [
    "details = computeDetails(df)\n",
    "print(details)"
   ]
  },
  {
   "cell_type": "code",
   "execution_count": 15,
   "metadata": {},
   "outputs": [
    {
     "data": {
      "text/plain": [
       "Y    4667\n",
       "Name: PEDROWNOTGRNT, dtype: int64"
      ]
     },
     "execution_count": 15,
     "metadata": {},
     "output_type": "execute_result"
    }
   ],
   "source": [
    "df['PEDROWNOTGRNT'].value_counts()"
   ]
  },
  {
   "cell_type": "code",
   "execution_count": 16,
   "metadata": {},
   "outputs": [
    {
     "data": {
      "text/plain": [
       "N    190006\n",
       "Y      4667\n",
       "Name: PEDROWNOTGRNT, dtype: int64"
      ]
     },
     "execution_count": 16,
     "metadata": {},
     "output_type": "execute_result"
    }
   ],
   "source": [
    "df['PEDROWNOTGRNT'] = df['PEDROWNOTGRNT'].replace(np.nan,'N')\n",
    "df['PEDROWNOTGRNT'].value_counts()"
   ]
  },
  {
   "cell_type": "code",
   "execution_count": 17,
   "metadata": {},
   "outputs": [
    {
     "data": {
      "image/png": "[encoded data removed]",
      "text/plain": [
       "<Figure size 720x360 with 1 Axes>"
      ]
     },
     "metadata": {
      "needs_background": "light"
     },
     "output_type": "display_data"
    }
   ],
   "source": [
    "bar_chart(df, 'PEDROWNOTGRNT')"
   ]
  },
  {
   "cell_type": "code",
   "execution_count": 18,
   "metadata": {},
   "outputs": [
    {
     "data": {
      "text/plain": [
       "N    185340\n",
       "Y      9333\n",
       "Name: SPEEDING, dtype: int64"
      ]
     },
     "execution_count": 18,
     "metadata": {},
     "output_type": "execute_result"
    }
   ],
   "source": [
    "df['SPEEDING'] = df['SPEEDING'].replace(np.nan,'N')\n",
    "df['SPEEDING'].value_counts()"
   ]
  },
  {
   "cell_type": "code",
   "execution_count": 19,
   "metadata": {},
   "outputs": [
    {
     "data": {
      "image/png": "[encoded data removed]",
      "text/plain": [
       "<Figure size 720x360 with 1 Axes>"
      ]
     },
     "metadata": {
      "needs_background": "light"
     },
     "output_type": "display_data"
    }
   ],
   "source": [
    "bar_chart(df, 'SPEEDING')"
   ]
  },
  {
   "cell_type": "code",
   "execution_count": 20,
   "metadata": {},
   "outputs": [],
   "source": [
    "df['UNDERINFL'].value_counts()\n",
    "df['UNDERINFL'] = df['UNDERINFL'].replace('N',0)\n",
    "df['UNDERINFL'] = df['UNDERINFL'].replace('Y',1)  \n",
    "df['UNDERINFL'] = df['UNDERINFL'].replace('0',0) \n",
    "df['UNDERINFL'] = df['UNDERINFL'].replace('1',1) "
   ]
  },
  {
   "cell_type": "code",
   "execution_count": 21,
   "metadata": {},
   "outputs": [
    {
     "data": {
      "image/png": "[encoded data removed]",
      "text/plain": [
       "<Figure size 720x360 with 1 Axes>"
      ]
     },
     "metadata": {
      "needs_background": "light"
     },
     "output_type": "display_data"
    }
   ],
   "source": [
    "df['UNDERINFL'].value_counts()\n",
    "bar_chart(df, 'UNDERINFL')"
   ]
  },
  {
   "cell_type": "code",
   "execution_count": 22,
   "metadata": {},
   "outputs": [
    {
     "name": "stdout",
     "output_type": "stream",
     "text": [
      "                  types  counts  distincts  nulls  missing ration\n",
      "SEVERITYCODE      int64  194673          2      0           0.000\n",
      "X               float64  189339      23564   5334           2.740\n",
      "Y               float64  189339      23840   5334           2.740\n",
      "ADDRTYPE         object  192747          4   1926           0.989\n",
      "LOCATION         object  191996      24103   2677           1.375\n",
      "PERSONCOUNT       int64  194673         47      0           0.000\n",
      "PEDCOUNT          int64  194673          7      0           0.000\n",
      "PEDCYLCOUNT       int64  194673          3      0           0.000\n",
      "VEHCOUNT          int64  194673         13      0           0.000\n",
      "INCDATE          object  194673       5985      0           0.000\n",
      "INCDTTM          object  194673     162058      0           0.000\n",
      "JUNCTIONTYPE     object  188344          8   6329           3.251\n",
      "INATTENTIONIND    int64  194673          2      0           0.000\n",
      "UNDERINFL       float64  189789          3   4884           2.509\n",
      "WEATHER          object  189592         12   5081           2.610\n",
      "ROADCOND         object  189661         10   5012           2.575\n",
      "LIGHTCOND        object  189503         10   5170           2.656\n",
      "PEDROWNOTGRNT    object  194673          2      0           0.000\n",
      "SPEEDING         object  194673          2      0           0.000\n",
      "SEGLANEKEY        int64  194673       1955      0           0.000\n",
      "CROSSWALKKEY      int64  194673       2198      0           0.000\n",
      "HITPARKEDCAR     object  194673          2      0           0.000\n"
     ]
    }
   ],
   "source": [
    "details = computeDetails(df)\n",
    "print(details)"
   ]
  },
  {
   "cell_type": "markdown",
   "metadata": {},
   "source": [
    "we could try to fill the missing 'JUNCTIONTYPE' by looking X,Y"
   ]
  },
  {
   "cell_type": "code",
   "execution_count": 23,
   "metadata": {},
   "outputs": [
    {
     "name": "stdout",
     "output_type": "stream",
     "text": [
      "percentage dropped  0.05531840573679966\n"
     ]
    }
   ],
   "source": [
    "original_length = len(df)\n",
    "df = InputMissingData(df, 'JUNCTIONTYPE', ['X','Y'])\n",
    "df_dropped = df.dropna()\n",
    "print(\"percentage dropped \", (original_length-len(df_dropped))/len(df))"
   ]
  },
  {
   "cell_type": "markdown",
   "metadata": {},
   "source": [
    "# Treat the dates"
   ]
  },
  {
   "cell_type": "code",
   "execution_count": 24,
   "metadata": {},
   "outputs": [],
   "source": [
    "df['INCDTTM'] = pd.to_datetime(df['INCDTTM'])"
   ]
  },
  {
   "cell_type": "code",
   "execution_count": 25,
   "metadata": {},
   "outputs": [],
   "source": [
    "df = df.drop(['INCDATE'], axis=1)"
   ]
  },
  {
   "cell_type": "markdown",
   "metadata": {},
   "source": [
    "check incidents by hour"
   ]
  },
  {
   "cell_type": "code",
   "execution_count": 26,
   "metadata": {},
   "outputs": [
    {
     "data": {
      "text/plain": [
       "<matplotlib.axes._subplots.AxesSubplot at 0x10d751f5608>"
      ]
     },
     "execution_count": 26,
     "metadata": {},
     "output_type": "execute_result"
    },
    {
     "data": {
      "image/png": "[encoded data removed]",
      "text/plain": [
       "<Figure size 432x288 with 1 Axes>"
      ]
     },
     "metadata": {
      "needs_background": "light"
     },
     "output_type": "display_data"
    }
   ],
   "source": [
    "df['hour'] = df['INCDTTM'].dt.hour\n",
    "df_selected = df[df['SEVERITYCODE']==1]\n",
    "sns.distplot(df_selected['hour'],kde = False)\n",
    "df_selected = df[df['SEVERITYCODE']==2]\n",
    "sns.distplot(df_selected['hour'],kde = False)"
   ]
  },
  {
   "cell_type": "markdown",
   "metadata": {},
   "source": [
    "Check day of the week"
   ]
  },
  {
   "cell_type": "code",
   "execution_count": 27,
   "metadata": {},
   "outputs": [
    {
     "data": {
      "text/plain": [
       "<matplotlib.axes._subplots.AxesSubplot at 0x10d07b8f208>"
      ]
     },
     "execution_count": 27,
     "metadata": {},
     "output_type": "execute_result"
    },
    {
     "data": {
      "image/png": "[encoded data removed]",
      "text/plain": [
       "<Figure size 432x288 with 1 Axes>"
      ]
     },
     "metadata": {
      "needs_background": "light"
     },
     "output_type": "display_data"
    }
   ],
   "source": [
    "df['dayofweek'] = df['INCDTTM'].dt.dayofweek\n",
    "df_selected = df[df['SEVERITYCODE']==1]\n",
    "sns.distplot(df_selected['dayofweek'],kde = False)\n",
    "df_selected = df[df['SEVERITYCODE']==2]\n",
    "sns.distplot(df_selected['dayofweek'],kde = False)"
   ]
  },
  {
   "cell_type": "markdown",
   "metadata": {},
   "source": [
    "Check month"
   ]
  },
  {
   "cell_type": "code",
   "execution_count": 28,
   "metadata": {},
   "outputs": [
    {
     "data": {
      "text/plain": [
       "<matplotlib.axes._subplots.AxesSubplot at 0x10d085f45c8>"
      ]
     },
     "execution_count": 28,
     "metadata": {},
     "output_type": "execute_result"
    },
    {
     "data": {
      "image/png": "[encoded data removed]",
      "text/plain": [
       "<Figure size 432x288 with 1 Axes>"
      ]
     },
     "metadata": {
      "needs_background": "light"
     },
     "output_type": "display_data"
    }
   ],
   "source": [
    "df['month'] = df['INCDTTM'].dt.month\n",
    "df_selected = df[df['SEVERITYCODE']==1]\n",
    "sns.distplot(df_selected['month'],kde = False)\n",
    "df_selected = df[df['SEVERITYCODE']==2]\n",
    "sns.distplot(df_selected['month'],kde = False)"
   ]
  },
  {
   "cell_type": "raw",
   "metadata": {},
   "source": [
    "remove INCDTTM after saving dayofweek, month, hours"
   ]
  },
  {
   "cell_type": "code",
   "execution_count": 29,
   "metadata": {},
   "outputs": [],
   "source": [
    "df = df.drop(['INCDTTM'], axis=1)"
   ]
  },
  {
   "cell_type": "code",
   "execution_count": 30,
   "metadata": {},
   "outputs": [
    {
     "name": "stdout",
     "output_type": "stream",
     "text": [
      "                  types  counts  distincts  nulls  missing ration\n",
      "SEVERITYCODE      int64  194673          2      0           0.000\n",
      "X               float64  189339      23564   5334           2.740\n",
      "Y               float64  189339      23840   5334           2.740\n",
      "ADDRTYPE         object  192747          4   1926           0.989\n",
      "LOCATION         object  191996      24103   2677           1.375\n",
      "PERSONCOUNT       int64  194673         47      0           0.000\n",
      "PEDCOUNT          int64  194673          7      0           0.000\n",
      "PEDCYLCOUNT       int64  194673          3      0           0.000\n",
      "VEHCOUNT          int64  194673         13      0           0.000\n",
      "JUNCTIONTYPE     object  192266          8   2407           1.236\n",
      "INATTENTIONIND    int64  194673          2      0           0.000\n",
      "UNDERINFL       float64  189789          3   4884           2.509\n",
      "WEATHER          object  189592         12   5081           2.610\n",
      "ROADCOND         object  189661         10   5012           2.575\n",
      "LIGHTCOND        object  189503         10   5170           2.656\n",
      "PEDROWNOTGRNT    object  194673          2      0           0.000\n",
      "SPEEDING         object  194673          2      0           0.000\n",
      "SEGLANEKEY        int64  194673       1955      0           0.000\n",
      "CROSSWALKKEY      int64  194673       2198      0           0.000\n",
      "HITPARKEDCAR     object  194673          2      0           0.000\n",
      "hour              int64  194673         24      0           0.000\n",
      "dayofweek         int64  194673          7      0           0.000\n",
      "month             int64  194673         12      0           0.000\n"
     ]
    }
   ],
   "source": [
    "details = computeDetails(df)\n",
    "print(details)"
   ]
  },
  {
   "cell_type": "markdown",
   "metadata": {},
   "source": [
    "# Save cleaned up dataframe"
   ]
  },
  {
   "cell_type": "code",
   "execution_count": 31,
   "metadata": {},
   "outputs": [],
   "source": [
    "df.dropna(inplace=True)\n",
    "df.to_csv('Data-Collisions-cleaned.csv')"
   ]
  },
  {
   "cell_type": "markdown",
   "metadata": {},
   "source": [
    "# Load cleaned dataframe"
   ]
  },
  {
   "cell_type": "code",
   "execution_count": 80,
   "metadata": {},
   "outputs": [],
   "source": [
    "import numpy as np\n",
    "import pandas as pd\n",
    "pd.set_option('display.float_format', lambda x: '{:.3f}'.format(x)) #Limiting floats output to 3 decimal points\n",
    "from matplotlib import pyplot as plt\n",
    "%matplotlib inline\n",
    "import seaborn as sns"
   ]
  },
  {
   "cell_type": "code",
   "execution_count": 81,
   "metadata": {},
   "outputs": [
    {
     "name": "stdout",
     "output_type": "stream",
     "text": [
      "                  types  counts  distincts  nulls  missing ration\n",
      "SEVERITYCODE      int64  183904          2      0           0.000\n",
      "X               float64  183904      23151      0           0.000\n",
      "Y               float64  183904      23415      0           0.000\n",
      "ADDRTYPE         object  183904          2      0           0.000\n",
      "LOCATION         object  183904      23466      0           0.000\n",
      "PERSONCOUNT       int64  183904         47      0           0.000\n",
      "PEDCOUNT          int64  183904          7      0           0.000\n",
      "PEDCYLCOUNT       int64  183904          3      0           0.000\n",
      "VEHCOUNT          int64  183904         13      0           0.000\n",
      "JUNCTIONTYPE     object  183904          7      0           0.000\n",
      "INATTENTIONIND    int64  183904          2      0           0.000\n",
      "UNDERINFL       float64  183904          2      0           0.000\n",
      "WEATHER          object  183904         11      0           0.000\n",
      "ROADCOND         object  183904          9      0           0.000\n",
      "LIGHTCOND        object  183904          9      0           0.000\n",
      "PEDROWNOTGRNT    object  183904          2      0           0.000\n",
      "SPEEDING         object  183904          2      0           0.000\n",
      "SEGLANEKEY        int64  183904       1929      0           0.000\n",
      "CROSSWALKKEY      int64  183904       2170      0           0.000\n",
      "HITPARKEDCAR     object  183904          2      0           0.000\n",
      "hour              int64  183904         24      0           0.000\n",
      "dayofweek         int64  183904          7      0           0.000\n",
      "month             int64  183904         12      0           0.000\n"
     ]
    }
   ],
   "source": [
    "df = pd.read_csv('Data-Collisions-cleaned.csv')\n",
    "df = df.drop(['Unnamed: 0'], axis=1)\n",
    "df.dropna(inplace=True)\n",
    "details = computeDetails(df)\n",
    "print(details)"
   ]
  },
  {
   "cell_type": "code",
   "execution_count": 82,
   "metadata": {},
   "outputs": [
    {
     "data": {
      "text/html": [
       "<div>\n",
       "<style scoped>\n",
       "    .dataframe tbody tr th:only-of-type {\n",
       "        vertical-align: middle;\n",
       "    }\n",
       "\n",
       "    .dataframe tbody tr th {\n",
       "        vertical-align: top;\n",
       "    }\n",
       "\n",
       "    .dataframe thead th {\n",
       "        text-align: right;\n",
       "    }\n",
       "</style>\n",
       "<table border=\"1\" class=\"dataframe\">\n",
       "  <thead>\n",
       "    <tr style=\"text-align: right;\">\n",
       "      <th></th>\n",
       "      <th>SEVERITYCODE</th>\n",
       "      <th>X</th>\n",
       "      <th>Y</th>\n",
       "      <th>PERSONCOUNT</th>\n",
       "      <th>PEDCOUNT</th>\n",
       "      <th>PEDCYLCOUNT</th>\n",
       "      <th>VEHCOUNT</th>\n",
       "      <th>INATTENTIONIND</th>\n",
       "      <th>UNDERINFL</th>\n",
       "      <th>SEGLANEKEY</th>\n",
       "      <th>CROSSWALKKEY</th>\n",
       "      <th>hour</th>\n",
       "      <th>dayofweek</th>\n",
       "      <th>month</th>\n",
       "    </tr>\n",
       "  </thead>\n",
       "  <tbody>\n",
       "    <tr>\n",
       "      <th>count</th>\n",
       "      <td>183904.000</td>\n",
       "      <td>183904.000</td>\n",
       "      <td>183904.000</td>\n",
       "      <td>183904.000</td>\n",
       "      <td>183904.000</td>\n",
       "      <td>183904.000</td>\n",
       "      <td>183904.000</td>\n",
       "      <td>183904.000</td>\n",
       "      <td>183904.000</td>\n",
       "      <td>183904.000</td>\n",
       "      <td>183904.000</td>\n",
       "      <td>183904.000</td>\n",
       "      <td>183904.000</td>\n",
       "      <td>183904.000</td>\n",
       "    </tr>\n",
       "    <tr>\n",
       "      <th>mean</th>\n",
       "      <td>1.305</td>\n",
       "      <td>-122.330</td>\n",
       "      <td>47.620</td>\n",
       "      <td>2.469</td>\n",
       "      <td>0.039</td>\n",
       "      <td>0.030</td>\n",
       "      <td>1.974</td>\n",
       "      <td>0.158</td>\n",
       "      <td>0.048</td>\n",
       "      <td>279.418</td>\n",
       "      <td>10162.310</td>\n",
       "      <td>11.465</td>\n",
       "      <td>2.943</td>\n",
       "      <td>6.563</td>\n",
       "    </tr>\n",
       "    <tr>\n",
       "      <th>std</th>\n",
       "      <td>0.460</td>\n",
       "      <td>0.030</td>\n",
       "      <td>0.056</td>\n",
       "      <td>1.359</td>\n",
       "      <td>0.203</td>\n",
       "      <td>0.171</td>\n",
       "      <td>0.556</td>\n",
       "      <td>0.365</td>\n",
       "      <td>0.214</td>\n",
       "      <td>3386.624</td>\n",
       "      <td>73640.246</td>\n",
       "      <td>6.927</td>\n",
       "      <td>1.923</td>\n",
       "      <td>3.423</td>\n",
       "    </tr>\n",
       "    <tr>\n",
       "      <th>min</th>\n",
       "      <td>1.000</td>\n",
       "      <td>-122.419</td>\n",
       "      <td>47.496</td>\n",
       "      <td>0.000</td>\n",
       "      <td>0.000</td>\n",
       "      <td>0.000</td>\n",
       "      <td>0.000</td>\n",
       "      <td>0.000</td>\n",
       "      <td>0.000</td>\n",
       "      <td>0.000</td>\n",
       "      <td>0.000</td>\n",
       "      <td>0.000</td>\n",
       "      <td>0.000</td>\n",
       "      <td>1.000</td>\n",
       "    </tr>\n",
       "    <tr>\n",
       "      <th>25%</th>\n",
       "      <td>1.000</td>\n",
       "      <td>-122.349</td>\n",
       "      <td>47.576</td>\n",
       "      <td>2.000</td>\n",
       "      <td>0.000</td>\n",
       "      <td>0.000</td>\n",
       "      <td>2.000</td>\n",
       "      <td>0.000</td>\n",
       "      <td>0.000</td>\n",
       "      <td>0.000</td>\n",
       "      <td>0.000</td>\n",
       "      <td>7.000</td>\n",
       "      <td>1.000</td>\n",
       "      <td>4.000</td>\n",
       "    </tr>\n",
       "    <tr>\n",
       "      <th>50%</th>\n",
       "      <td>1.000</td>\n",
       "      <td>-122.330</td>\n",
       "      <td>47.615</td>\n",
       "      <td>2.000</td>\n",
       "      <td>0.000</td>\n",
       "      <td>0.000</td>\n",
       "      <td>2.000</td>\n",
       "      <td>0.000</td>\n",
       "      <td>0.000</td>\n",
       "      <td>0.000</td>\n",
       "      <td>0.000</td>\n",
       "      <td>13.000</td>\n",
       "      <td>3.000</td>\n",
       "      <td>7.000</td>\n",
       "    </tr>\n",
       "    <tr>\n",
       "      <th>75%</th>\n",
       "      <td>2.000</td>\n",
       "      <td>-122.312</td>\n",
       "      <td>47.664</td>\n",
       "      <td>3.000</td>\n",
       "      <td>0.000</td>\n",
       "      <td>0.000</td>\n",
       "      <td>2.000</td>\n",
       "      <td>0.000</td>\n",
       "      <td>0.000</td>\n",
       "      <td>0.000</td>\n",
       "      <td>0.000</td>\n",
       "      <td>17.000</td>\n",
       "      <td>5.000</td>\n",
       "      <td>10.000</td>\n",
       "    </tr>\n",
       "    <tr>\n",
       "      <th>max</th>\n",
       "      <td>2.000</td>\n",
       "      <td>-122.239</td>\n",
       "      <td>47.734</td>\n",
       "      <td>81.000</td>\n",
       "      <td>6.000</td>\n",
       "      <td>2.000</td>\n",
       "      <td>12.000</td>\n",
       "      <td>1.000</td>\n",
       "      <td>1.000</td>\n",
       "      <td>525241.000</td>\n",
       "      <td>5239700.000</td>\n",
       "      <td>23.000</td>\n",
       "      <td>6.000</td>\n",
       "      <td>12.000</td>\n",
       "    </tr>\n",
       "  </tbody>\n",
       "</table>\n",
       "</div>"
      ],
      "text/plain": [
       "       SEVERITYCODE          X          Y  PERSONCOUNT   PEDCOUNT  \\\n",
       "count    183904.000 183904.000 183904.000   183904.000 183904.000   \n",
       "mean          1.305   -122.330     47.620        2.469      0.039   \n",
       "std           0.460      0.030      0.056        1.359      0.203   \n",
       "min           1.000   -122.419     47.496        0.000      0.000   \n",
       "25%           1.000   -122.349     47.576        2.000      0.000   \n",
       "50%           1.000   -122.330     47.615        2.000      0.000   \n",
       "75%           2.000   -122.312     47.664        3.000      0.000   \n",
       "max           2.000   -122.239     47.734       81.000      6.000   \n",
       "\n",
       "       PEDCYLCOUNT   VEHCOUNT  INATTENTIONIND  UNDERINFL  SEGLANEKEY  \\\n",
       "count   183904.000 183904.000      183904.000 183904.000  183904.000   \n",
       "mean         0.030      1.974           0.158      0.048     279.418   \n",
       "std          0.171      0.556           0.365      0.214    3386.624   \n",
       "min          0.000      0.000           0.000      0.000       0.000   \n",
       "25%          0.000      2.000           0.000      0.000       0.000   \n",
       "50%          0.000      2.000           0.000      0.000       0.000   \n",
       "75%          0.000      2.000           0.000      0.000       0.000   \n",
       "max          2.000     12.000           1.000      1.000  525241.000   \n",
       "\n",
       "       CROSSWALKKEY       hour  dayofweek      month  \n",
       "count    183904.000 183904.000 183904.000 183904.000  \n",
       "mean      10162.310     11.465      2.943      6.563  \n",
       "std       73640.246      6.927      1.923      3.423  \n",
       "min           0.000      0.000      0.000      1.000  \n",
       "25%           0.000      7.000      1.000      4.000  \n",
       "50%           0.000     13.000      3.000      7.000  \n",
       "75%           0.000     17.000      5.000     10.000  \n",
       "max     5239700.000     23.000      6.000     12.000  "
      ]
     },
     "execution_count": 82,
     "metadata": {},
     "output_type": "execute_result"
    }
   ],
   "source": [
    "df.describe()"
   ]
  },
  {
   "cell_type": "code",
   "execution_count": 83,
   "metadata": {},
   "outputs": [
    {
     "name": "stdout",
     "output_type": "stream",
     "text": [
      "                  types  counts  distincts  nulls  missing ration\n",
      "SEVERITYCODE      int64  183904          2      0           0.000\n",
      "X               float64  183904      23151      0           0.000\n",
      "Y               float64  183904      23415      0           0.000\n",
      "ADDRTYPE          int32  183904          2      0           0.000\n",
      "LOCATION          int32  183904      23466      0           0.000\n",
      "PERSONCOUNT       int64  183904         47      0           0.000\n",
      "PEDCOUNT          int64  183904          7      0           0.000\n",
      "PEDCYLCOUNT       int64  183904          3      0           0.000\n",
      "VEHCOUNT          int64  183904         13      0           0.000\n",
      "JUNCTIONTYPE      int32  183904          7      0           0.000\n",
      "INATTENTIONIND    int64  183904          2      0           0.000\n",
      "UNDERINFL         int64  183904          2      0           0.000\n",
      "WEATHER           int32  183904         11      0           0.000\n",
      "ROADCOND          int32  183904          9      0           0.000\n",
      "LIGHTCOND         int32  183904          9      0           0.000\n",
      "PEDROWNOTGRNT     int32  183904          2      0           0.000\n",
      "SPEEDING          int32  183904          2      0           0.000\n",
      "SEGLANEKEY        int64  183904       1929      0           0.000\n",
      "CROSSWALKKEY      int64  183904       2170      0           0.000\n",
      "HITPARKEDCAR      int32  183904          2      0           0.000\n",
      "hour              int64  183904         24      0           0.000\n",
      "dayofweek         int64  183904          7      0           0.000\n",
      "month             int64  183904         12      0           0.000\n"
     ]
    }
   ],
   "source": [
    "#https://machinelearningmastery.com/feature-selection-with-categorical-data/\n",
    "from sklearn.preprocessing import LabelEncoder\n",
    "def prepare_categorical(toLabel):\n",
    "    le = LabelEncoder()\n",
    "    le.fit(toLabel)\n",
    "    toLabel_enc = le.transform(toLabel)\n",
    "    return toLabel_enc\n",
    "\n",
    "df['ADDRTYPE'] = prepare_categorical(df['ADDRTYPE'])\n",
    "df['LOCATION'] = prepare_categorical(df['LOCATION'])\n",
    "df['JUNCTIONTYPE'] = prepare_categorical(df['JUNCTIONTYPE'])\n",
    "df['UNDERINFL'] = prepare_categorical(df['UNDERINFL'])\n",
    "df['WEATHER'] = prepare_categorical(df['WEATHER'])\n",
    "df['ROADCOND'] = prepare_categorical(df['ROADCOND'])\n",
    "df['LIGHTCOND'] = prepare_categorical(df['LIGHTCOND'])\n",
    "df['PEDROWNOTGRNT'] = prepare_categorical(df['PEDROWNOTGRNT'])\n",
    "df['SPEEDING'] = prepare_categorical(df['SPEEDING'])\n",
    "df['HITPARKEDCAR'] = prepare_categorical(df['HITPARKEDCAR'])\n",
    "\n",
    "details = computeDetails(df)\n",
    "print(details)\n",
    "#df = df.iloc[:30000,:]"
   ]
  },
  {
   "cell_type": "code",
   "execution_count": 84,
   "metadata": {},
   "outputs": [],
   "source": [
    "#df = pd.get_dummies(df, columns=['ADDRTYPE', 'INATTENTIONIND','JUNCTIONTYPE','UNDERINFL'])\n",
    "#details = computeDetails(df)\n",
    "#print(details)"
   ]
  },
  {
   "cell_type": "markdown",
   "metadata": {},
   "source": [
    "# Benchmark a first tree model"
   ]
  },
  {
   "cell_type": "code",
   "execution_count": 85,
   "metadata": {},
   "outputs": [],
   "source": [
    "y = df['SEVERITYCODE']\n",
    "X = df.drop(['SEVERITYCODE'], axis=1)\n",
    "from sklearn.model_selection import train_test_split\n",
    "X_train, X_test, y_train, y_test = train_test_split(X, y, test_size=0.33, random_state=42)"
   ]
  },
  {
   "cell_type": "code",
   "execution_count": 86,
   "metadata": {},
   "outputs": [],
   "source": [
    "from sklearn import svm\n",
    "from sklearn.preprocessing import StandardScaler\n",
    "from sklearn.metrics import f1_score\n",
    "from sklearn.tree import DecisionTreeClassifier\n",
    "\n",
    "train_scaler = StandardScaler()\n",
    "X_train_scaled = train_scaler.fit_transform(X_train)\n",
    "X_test_scaled = train_scaler.transform(X_test)"
   ]
  },
  {
   "cell_type": "code",
   "execution_count": 87,
   "metadata": {},
   "outputs": [
    {
     "data": {
      "text/plain": [
       "0.6682926663139522"
      ]
     },
     "execution_count": 87,
     "metadata": {},
     "output_type": "execute_result"
    }
   ],
   "source": [
    "clf = DecisionTreeClassifier(criterion=\"entropy\", class_weight='balanced',random_state=42)\n",
    "clf.fit(X_train_scaled, y_train) \n",
    "yhat = clf.predict(X_test_scaled)\n",
    "f1_score(y_test, yhat, average='weighted') "
   ]
  },
  {
   "cell_type": "markdown",
   "metadata": {},
   "source": [
    "try imblearn"
   ]
  },
  {
   "cell_type": "code",
   "execution_count": 88,
   "metadata": {},
   "outputs": [
    {
     "name": "stdout",
     "output_type": "stream",
     "text": [
      "X_train len  123215  len X_rus 171234\n"
     ]
    }
   ],
   "source": [
    "from imblearn.under_sampling import RandomUnderSampler\n",
    "from imblearn.over_sampling import RandomOverSampler\n",
    "rus = RandomOverSampler(random_state=42)\n",
    "X_rus, y_rus = rus.fit_sample(X_train_scaled, y_train)\n",
    "print('X_train len ', len(X_train),' len X_rus', len(X_rus))"
   ]
  },
  {
   "cell_type": "code",
   "execution_count": 89,
   "metadata": {},
   "outputs": [
    {
     "data": {
      "text/plain": [
       "0.6674638993612964"
      ]
     },
     "execution_count": 89,
     "metadata": {},
     "output_type": "execute_result"
    }
   ],
   "source": [
    "clf = DecisionTreeClassifier(criterion=\"entropy\",random_state=42)\n",
    "clf.fit(X_rus, y_rus) \n",
    "yhat = clf.predict(X_test_scaled)\n",
    "f1_score(y_test, yhat, average='weighted') "
   ]
  },
  {
   "cell_type": "markdown",
   "metadata": {},
   "source": [
    "# Feature selection"
   ]
  },
  {
   "cell_type": "code",
   "execution_count": 90,
   "metadata": {},
   "outputs": [],
   "source": [
    "from sklearn.feature_selection import SelectKBest\n",
    "from sklearn.feature_selection import chi2\n",
    "def select_features(X_train, y_train, X_test):\n",
    "    fs = SelectKBest(score_func=chi2, k='all')\n",
    "    fs.fit(X_train, y_train)\n",
    "    X_train_fs = fs.transform(X_train)\n",
    "    X_test_fs = fs.transform(X_test)\n",
    "    return X_train_fs, X_test_fs, fs"
   ]
  },
  {
   "cell_type": "code",
   "execution_count": 91,
   "metadata": {},
   "outputs": [
    {
     "name": "stdout",
     "output_type": "stream",
     "text": [
      "Feature ADDRTYPE: 3227.915876\n",
      "Feature LOCATION: 711067.966186\n",
      "Feature PERSONCOUNT: 1505.008002\n",
      "Feature PEDCOUNT: 8120.041748\n",
      "Feature PEDCYLCOUNT: 5703.420625\n",
      "Feature VEHCOUNT: 142.756291\n",
      "Feature JUNCTIONTYPE: 3687.141125\n",
      "Feature INATTENTIONIND: 182.655789\n",
      "Feature UNDERINFL: 238.962068\n",
      "Feature WEATHER: 3292.232499\n",
      "Feature ROADCOND: 1163.744394\n",
      "Feature LIGHTCOND: 246.678465\n",
      "Feature PEDROWNOTGRNT: 5203.053711\n",
      "Feature SPEEDING: 150.550525\n",
      "Feature SEGLANEKEY: 58410745.213005\n",
      "Feature CROSSWALKKEY: 2028273994.153383\n",
      "Feature HITPARKEDCAR: 1229.959436\n",
      "Feature hour: 417.355928\n",
      "Feature dayofweek: 53.038105\n",
      "Feature month: 6.779467\n"
     ]
    }
   ],
   "source": [
    "X_train_selected = X_train.drop(['X', 'Y'],axis=1)\n",
    "X_test_selected = X_test.drop(['X', 'Y'],axis=1)\n",
    "X_train_fs, X_test_fs, fs = select_features(X_train_selected, y_train, X_test_selected)\n",
    "column_val =X_train_selected.columns.values\n",
    "for i in range(len(fs.scores_)):\n",
    "    print('Feature %s: %f' % (column_val[i], fs.scores_[i]))"
   ]
  },
  {
   "cell_type": "code",
   "execution_count": 100,
   "metadata": {},
   "outputs": [],
   "source": [
    "columns_to_drop=['month','dayofweek','VEHCOUNT','SPEEDING']\n",
    "X_train_selected = X_train.drop(columns_to_drop,axis=1)\n",
    "X_test_selected = X_test.drop(columns_to_drop,axis=1)\n",
    "\n",
    "train_scaler = StandardScaler()\n",
    "X_train_scaled = train_scaler.fit_transform(X_train_selected)\n",
    "X_test_scaled = train_scaler.transform(X_test_selected)"
   ]
  },
  {
   "cell_type": "code",
   "execution_count": 101,
   "metadata": {},
   "outputs": [
    {
     "data": {
      "text/plain": [
       "0.6683595095469801"
      ]
     },
     "execution_count": 101,
     "metadata": {},
     "output_type": "execute_result"
    }
   ],
   "source": [
    "clf = DecisionTreeClassifier(criterion=\"entropy\", class_weight='balanced',random_state=42)\n",
    "clf.fit(X_train_scaled, y_train) \n",
    "yhat = clf.predict(X_test_scaled)\n",
    "f1_score(y_test, yhat, average='weighted') "
   ]
  },
  {
   "cell_type": "code",
   "execution_count": 102,
   "metadata": {},
   "outputs": [
    {
     "name": "stdout",
     "output_type": "stream",
     "text": [
      "The optimal k is  2  with accuracy  0.7473512498146286\n"
     ]
    }
   ],
   "source": [
    "from sklearn import metrics\n",
    "test_accuracy = - 1\n",
    "optimal_k = - 1\n",
    "for k in range(1,20):\n",
    "    classifier = DecisionTreeClassifier(criterion=\"entropy\", class_weight='balanced',random_state=42, max_depth = k)\n",
    "    classifier.fit(X_train_scaled, y_train)\n",
    "    y_test_hat = classifier.predict(X_test_scaled)\n",
    "    current_accuracy =  metrics.accuracy_score(y_test, y_test_hat)\n",
    "    if current_accuracy > test_accuracy:\n",
    "        test_accuracy = current_accuracy\n",
    "        optimal_k = k\n",
    "print(\"The optimal k is \", optimal_k,\" with accuracy \", test_accuracy)"
   ]
  },
  {
   "cell_type": "code",
   "execution_count": 103,
   "metadata": {},
   "outputs": [
    {
     "data": {
      "text/plain": [
       "0.6683595095469801"
      ]
     },
     "execution_count": 103,
     "metadata": {},
     "output_type": "execute_result"
    }
   ],
   "source": [
    "yhat = clf.predict(X_test_scaled)\n",
    "f1_score(y_test, yhat, average='weighted') "
   ]
  },
  {
   "cell_type": "code",
   "execution_count": 108,
   "metadata": {},
   "outputs": [
    {
     "ename": "KeyError",
     "evalue": "1",
     "output_type": "error",
     "traceback": [
      "\u001b[1;31m---------------------------------------------------------------------------\u001b[0m",
      "\u001b[1;31mKeyError\u001b[0m                                  Traceback (most recent call last)",
      "\u001b[1;32m<ipython-input-108-7885b8bf2eff>\u001b[0m in \u001b[0;36m<module>\u001b[1;34m\u001b[0m\n\u001b[0;32m      3\u001b[0m \u001b[0mweights\u001b[0m \u001b[1;33m=\u001b[0m \u001b[1;33m[\u001b[0m\u001b[1;33m]\u001b[0m\u001b[1;33m\u001b[0m\u001b[1;33m\u001b[0m\u001b[0m\n\u001b[0;32m      4\u001b[0m \u001b[1;32mfor\u001b[0m \u001b[0mi\u001b[0m \u001b[1;32min\u001b[0m \u001b[0mrange\u001b[0m\u001b[1;33m(\u001b[0m\u001b[0mlen\u001b[0m\u001b[1;33m(\u001b[0m\u001b[0my_test\u001b[0m\u001b[1;33m)\u001b[0m\u001b[1;33m)\u001b[0m\u001b[1;33m:\u001b[0m\u001b[1;33m\u001b[0m\u001b[1;33m\u001b[0m\u001b[0m\n\u001b[1;32m----> 5\u001b[1;33m     \u001b[1;32mif\u001b[0m \u001b[0my_test\u001b[0m\u001b[1;33m[\u001b[0m\u001b[0mi\u001b[0m\u001b[1;33m]\u001b[0m \u001b[1;33m==\u001b[0m \u001b[1;36m1\u001b[0m\u001b[1;33m:\u001b[0m\u001b[1;33m\u001b[0m\u001b[1;33m\u001b[0m\u001b[0m\n\u001b[0m\u001b[0;32m      6\u001b[0m         \u001b[0mweights\u001b[0m\u001b[1;33m.\u001b[0m\u001b[0mappend\u001b[0m\u001b[1;33m(\u001b[0m\u001b[0msample_weights\u001b[0m\u001b[1;33m[\u001b[0m\u001b[1;36m0\u001b[0m\u001b[1;33m]\u001b[0m\u001b[1;33m)\u001b[0m\u001b[1;33m\u001b[0m\u001b[1;33m\u001b[0m\u001b[0m\n\u001b[0;32m      7\u001b[0m     \u001b[1;32melif\u001b[0m \u001b[0my_test\u001b[0m\u001b[1;33m[\u001b[0m\u001b[0mi\u001b[0m\u001b[1;33m]\u001b[0m \u001b[1;33m==\u001b[0m \u001b[1;36m2\u001b[0m\u001b[1;33m:\u001b[0m\u001b[1;33m\u001b[0m\u001b[1;33m\u001b[0m\u001b[0m\n",
      "\u001b[1;32md:\\apps\\python_3_7_4\\lib\\site-packages\\pandas\\core\\series.py\u001b[0m in \u001b[0;36m__getitem__\u001b[1;34m(self, key)\u001b[0m\n\u001b[0;32m   1069\u001b[0m         \u001b[0mkey\u001b[0m \u001b[1;33m=\u001b[0m \u001b[0mcom\u001b[0m\u001b[1;33m.\u001b[0m\u001b[0mapply_if_callable\u001b[0m\u001b[1;33m(\u001b[0m\u001b[0mkey\u001b[0m\u001b[1;33m,\u001b[0m \u001b[0mself\u001b[0m\u001b[1;33m)\u001b[0m\u001b[1;33m\u001b[0m\u001b[1;33m\u001b[0m\u001b[0m\n\u001b[0;32m   1070\u001b[0m         \u001b[1;32mtry\u001b[0m\u001b[1;33m:\u001b[0m\u001b[1;33m\u001b[0m\u001b[1;33m\u001b[0m\u001b[0m\n\u001b[1;32m-> 1071\u001b[1;33m             \u001b[0mresult\u001b[0m \u001b[1;33m=\u001b[0m \u001b[0mself\u001b[0m\u001b[1;33m.\u001b[0m\u001b[0mindex\u001b[0m\u001b[1;33m.\u001b[0m\u001b[0mget_value\u001b[0m\u001b[1;33m(\u001b[0m\u001b[0mself\u001b[0m\u001b[1;33m,\u001b[0m \u001b[0mkey\u001b[0m\u001b[1;33m)\u001b[0m\u001b[1;33m\u001b[0m\u001b[1;33m\u001b[0m\u001b[0m\n\u001b[0m\u001b[0;32m   1072\u001b[0m \u001b[1;33m\u001b[0m\u001b[0m\n\u001b[0;32m   1073\u001b[0m             \u001b[1;32mif\u001b[0m \u001b[1;32mnot\u001b[0m \u001b[0mis_scalar\u001b[0m\u001b[1;33m(\u001b[0m\u001b[0mresult\u001b[0m\u001b[1;33m)\u001b[0m\u001b[1;33m:\u001b[0m\u001b[1;33m\u001b[0m\u001b[1;33m\u001b[0m\u001b[0m\n",
      "\u001b[1;32md:\\apps\\python_3_7_4\\lib\\site-packages\\pandas\\core\\indexes\\base.py\u001b[0m in \u001b[0;36mget_value\u001b[1;34m(self, series, key)\u001b[0m\n\u001b[0;32m   4728\u001b[0m         \u001b[0mk\u001b[0m \u001b[1;33m=\u001b[0m \u001b[0mself\u001b[0m\u001b[1;33m.\u001b[0m\u001b[0m_convert_scalar_indexer\u001b[0m\u001b[1;33m(\u001b[0m\u001b[0mk\u001b[0m\u001b[1;33m,\u001b[0m \u001b[0mkind\u001b[0m\u001b[1;33m=\u001b[0m\u001b[1;34m\"getitem\"\u001b[0m\u001b[1;33m)\u001b[0m\u001b[1;33m\u001b[0m\u001b[1;33m\u001b[0m\u001b[0m\n\u001b[0;32m   4729\u001b[0m         \u001b[1;32mtry\u001b[0m\u001b[1;33m:\u001b[0m\u001b[1;33m\u001b[0m\u001b[1;33m\u001b[0m\u001b[0m\n\u001b[1;32m-> 4730\u001b[1;33m             \u001b[1;32mreturn\u001b[0m \u001b[0mself\u001b[0m\u001b[1;33m.\u001b[0m\u001b[0m_engine\u001b[0m\u001b[1;33m.\u001b[0m\u001b[0mget_value\u001b[0m\u001b[1;33m(\u001b[0m\u001b[0ms\u001b[0m\u001b[1;33m,\u001b[0m \u001b[0mk\u001b[0m\u001b[1;33m,\u001b[0m \u001b[0mtz\u001b[0m\u001b[1;33m=\u001b[0m\u001b[0mgetattr\u001b[0m\u001b[1;33m(\u001b[0m\u001b[0mseries\u001b[0m\u001b[1;33m.\u001b[0m\u001b[0mdtype\u001b[0m\u001b[1;33m,\u001b[0m \u001b[1;34m\"tz\"\u001b[0m\u001b[1;33m,\u001b[0m \u001b[1;32mNone\u001b[0m\u001b[1;33m)\u001b[0m\u001b[1;33m)\u001b[0m\u001b[1;33m\u001b[0m\u001b[1;33m\u001b[0m\u001b[0m\n\u001b[0m\u001b[0;32m   4731\u001b[0m         \u001b[1;32mexcept\u001b[0m \u001b[0mKeyError\u001b[0m \u001b[1;32mas\u001b[0m \u001b[0me1\u001b[0m\u001b[1;33m:\u001b[0m\u001b[1;33m\u001b[0m\u001b[1;33m\u001b[0m\u001b[0m\n\u001b[0;32m   4732\u001b[0m             \u001b[1;32mif\u001b[0m \u001b[0mlen\u001b[0m\u001b[1;33m(\u001b[0m\u001b[0mself\u001b[0m\u001b[1;33m)\u001b[0m \u001b[1;33m>\u001b[0m \u001b[1;36m0\u001b[0m \u001b[1;32mand\u001b[0m \u001b[1;33m(\u001b[0m\u001b[0mself\u001b[0m\u001b[1;33m.\u001b[0m\u001b[0mholds_integer\u001b[0m\u001b[1;33m(\u001b[0m\u001b[1;33m)\u001b[0m \u001b[1;32mor\u001b[0m \u001b[0mself\u001b[0m\u001b[1;33m.\u001b[0m\u001b[0mis_boolean\u001b[0m\u001b[1;33m(\u001b[0m\u001b[1;33m)\u001b[0m\u001b[1;33m)\u001b[0m\u001b[1;33m:\u001b[0m\u001b[1;33m\u001b[0m\u001b[1;33m\u001b[0m\u001b[0m\n",
      "\u001b[1;32mpandas/_libs/index.pyx\u001b[0m in \u001b[0;36mpandas._libs.index.IndexEngine.get_value\u001b[1;34m()\u001b[0m\n",
      "\u001b[1;32mpandas/_libs/index.pyx\u001b[0m in \u001b[0;36mpandas._libs.index.IndexEngine.get_value\u001b[1;34m()\u001b[0m\n",
      "\u001b[1;32mpandas/_libs/index.pyx\u001b[0m in \u001b[0;36mpandas._libs.index.IndexEngine.get_loc\u001b[1;34m()\u001b[0m\n",
      "\u001b[1;32mpandas/_libs/hashtable_class_helper.pxi\u001b[0m in \u001b[0;36mpandas._libs.hashtable.Int64HashTable.get_item\u001b[1;34m()\u001b[0m\n",
      "\u001b[1;32mpandas/_libs/hashtable_class_helper.pxi\u001b[0m in \u001b[0;36mpandas._libs.hashtable.Int64HashTable.get_item\u001b[1;34m()\u001b[0m\n",
      "\u001b[1;31mKeyError\u001b[0m: 1"
     ]
    }
   ],
   "source": [
    "from sklearn.utils import class_weight\n",
    "sample_weights = class_weight.compute_class_weight('balanced', np.unique(y_test), y_test)\n",
    "weights = []\n",
    "for i in range(len(y_test)):\n",
    "    if y_test[i] == 1:\n",
    "        weights.append(sample_weights[0])\n",
    "    elif y_test[i] == 2:\n",
    "        weights.append(sample_weights[1])\n",
    "\n",
    "weights = np.array(weights)"
   ]
  },
  {
   "cell_type": "code",
   "execution_count": null,
   "metadata": {},
   "outputs": [],
   "source": [
    "import xgboost as xgb\n",
    "clf = xgb.XGBClassifier(n_jobs=3)\n",
    "clf.fit(X_train_scaled, y_train) \n",
    "yhat = clf.predict(X_test_scaled,y_test,sample_weight=weights)"
   ]
  }
 ],
 "metadata": {
  "kernelspec": {
   "display_name": "Python 3",
   "language": "python",
   "name": "python3"
  },
  "language_info": {
   "codemirror_mode": {
    "name": "ipython",
    "version": 3
   },
   "file_extension": ".py",
   "mimetype": "text/x-python",
   "name": "python",
   "nbconvert_exporter": "python",
   "pygments_lexer": "ipython3",
   "version": "3.7.4"
  }
 },
 "nbformat": 4,
 "nbformat_minor": 2
}
