{
 "cells": [
  {
   "cell_type": "markdown",
   "metadata": {},
   "source": [
    "# This is the Coursera capstone project (Seattle collisions)"
   ]
  },
  {
   "cell_type": "code",
   "execution_count": 1,
   "metadata": {},
   "outputs": [],
   "source": [
    "import numpy as np\n",
    "import pandas as pd\n",
    "pd.set_option('display.float_format', lambda x: '{:.3f}'.format(x)) #Limiting floats output to 3 decimal points\n",
    "from matplotlib import pyplot as plt\n",
    "%matplotlib inline\n",
    "import seaborn as sns"
   ]
  },
  {
   "cell_type": "code",
   "execution_count": 2,
   "metadata": {},
   "outputs": [
    {
     "name": "stdout",
     "output_type": "stream",
     "text": [
      "Hello Capstone Project Course!\n"
     ]
    }
   ],
   "source": [
    "print(\"Hello Capstone Project Course!\")"
   ]
  },
  {
   "cell_type": "code",
   "execution_count": 3,
   "metadata": {},
   "outputs": [
    {
     "name": "stderr",
     "output_type": "stream",
     "text": [
      "C:\\Users\\carniato\\AppData\\Roaming\\Python\\Python37\\site-packages\\IPython\\core\\interactiveshell.py:3049: DtypeWarning: Columns (33) have mixed types. Specify dtype option on import or set low_memory=False.\n",
      "  interactivity=interactivity, compiler=compiler, result=result)\n"
     ]
    }
   ],
   "source": [
    "#https://data-seattlecitygis.opendata.arcgis.com/datasets/5b5c745e0f1f48e7a53acec63a0022ab_0\n",
    "dfOriginal = pd.read_csv('Data-Collisions.csv')"
   ]
  },
  {
   "cell_type": "markdown",
   "metadata": {},
   "source": [
    "# Data cleaning"
   ]
  },
  {
   "cell_type": "markdown",
   "metadata": {},
   "source": [
    "Inspect data first"
   ]
  },
  {
   "cell_type": "code",
   "execution_count": 4,
   "metadata": {},
   "outputs": [],
   "source": [
    "def computeDetails(df): \n",
    "    obs = df.shape[0]\n",
    "    types = df.dtypes\n",
    "    counts = df.apply(lambda x: x.count())\n",
    "    uniques = df.apply(lambda x: [x.unique()])\n",
    "    nulls = df.apply(lambda x: x.isnull().sum())\n",
    "    distincts = df.apply(lambda x: x.unique().shape[0])\n",
    "    missing_ration = (df.isnull().sum()/ obs) * 100\n",
    "    \n",
    "    cols = ['types', 'counts', 'distincts', 'nulls', 'missing ration']\n",
    "    details = pd.concat([types, counts, distincts, nulls, missing_ration], axis = 1)\n",
    "    details.columns = cols\n",
    "    \n",
    "    return details\n",
    "\n",
    "def GetIndexses(df,col_missing_data,missingValue):\n",
    "    if not missingValue :\n",
    "        # nan\n",
    "        indexses = df[col_missing_data].isnull()\n",
    "    else:\n",
    "        # comparables\n",
    "        indexses = df[col_missing_data]==missingValue\n",
    "        \n",
    "    return indexses\n",
    "\n",
    "def InputMissingData(df, col_missing_data, col_ref, missingValue = None):\n",
    "    #group by nan or missing value\n",
    "    invalid_idxs = GetIndexses(df, col_missing_data, missingValue)\n",
    "    df_notval = df[invalid_idxs]\n",
    "    df_notval = df_notval.groupby(col_ref).sum()  \n",
    "    #print(df_notval[col_ref])\n",
    "    #the valid entries\n",
    "    df_val = df[~invalid_idxs]\n",
    "    \n",
    "    #now check the values of the reference column\n",
    "    for r in df_notval.index.values:\n",
    "        if isinstance(r, str):\n",
    "            #a string (e.g. a location)\n",
    "            df_loc = df_val[df_val[col_ref]==r]\n",
    "        elif len(r)==2:\n",
    "            #two doubles\n",
    "            df_loc = df_val[(df_val[col_ref[0]]==r[0]) & (df_val[col_ref[1]]==r[1])]\n",
    "        \n",
    "        if len(df_loc) > 0:\n",
    "            val = df_loc[col_missing_data].iloc[0]\n",
    "            if isinstance(r, str):\n",
    "                #substitute with the first valid value\n",
    "                df.loc[(df[col_ref]==r) & invalid_idxs,col_missing_data]=val\n",
    "            elif len(r) ==2:\n",
    "                df.loc[(df[col_ref[0]]==r[0]) &(df[col_ref[1]]==r[1]) & invalid_idxs, col_missing_data] = val\n",
    "        \n",
    "    return df        "
   ]
  },
  {
   "cell_type": "code",
   "execution_count": 5,
   "metadata": {},
   "outputs": [
    {
     "name": "stdout",
     "output_type": "stream",
     "text": [
      "                  types  counts  distincts   nulls  missing ration\n",
      "SEVERITYCODE      int64  194673          2       0           0.000\n",
      "X               float64  189339      23564    5334           2.740\n",
      "Y               float64  189339      23840    5334           2.740\n",
      "OBJECTID          int64  194673     194673       0           0.000\n",
      "INCKEY            int64  194673     194673       0           0.000\n",
      "COLDETKEY         int64  194673     194673       0           0.000\n",
      "REPORTNO         object  194673     194670       0           0.000\n",
      "STATUS           object  194673          2       0           0.000\n",
      "ADDRTYPE         object  192747          4    1926           0.989\n",
      "INTKEY          float64   65070       7615  129603          66.575\n",
      "LOCATION         object  191996      24103    2677           1.375\n",
      "EXCEPTRSNCODE    object   84811          3  109862          56.434\n",
      "EXCEPTRSNDESC    object    5638          2  189035          97.104\n",
      "SEVERITYCODE.1    int64  194673          2       0           0.000\n",
      "SEVERITYDESC     object  194673          2       0           0.000\n",
      "COLLISIONTYPE    object  189769         11    4904           2.519\n",
      "PERSONCOUNT       int64  194673         47       0           0.000\n",
      "PEDCOUNT          int64  194673          7       0           0.000\n",
      "PEDCYLCOUNT       int64  194673          3       0           0.000\n",
      "VEHCOUNT          int64  194673         13       0           0.000\n",
      "INCDATE          object  194673       5985       0           0.000\n",
      "INCDTTM          object  194673     162058       0           0.000\n",
      "JUNCTIONTYPE     object  188344          8    6329           3.251\n",
      "SDOT_COLCODE      int64  194673         39       0           0.000\n",
      "SDOT_COLDESC     object  194673         39       0           0.000\n",
      "INATTENTIONIND   object   29805          2  164868          84.690\n",
      "UNDERINFL        object  189789          5    4884           2.509\n",
      "WEATHER          object  189592         12    5081           2.610\n",
      "ROADCOND         object  189661         10    5012           2.575\n",
      "LIGHTCOND        object  189503         10    5170           2.656\n",
      "PEDROWNOTGRNT    object    4667          2  190006          97.603\n",
      "SDOTCOLNUM      float64  114936     114933   79737          40.959\n",
      "SPEEDING         object    9333          2  185340          95.206\n",
      "ST_COLCODE       object  194655        116      18           0.009\n",
      "ST_COLDESC       object  189769         63    4904           2.519\n",
      "SEGLANEKEY        int64  194673       1955       0           0.000\n",
      "CROSSWALKKEY      int64  194673       2198       0           0.000\n",
      "HITPARKEDCAR     object  194673          2       0           0.000\n"
     ]
    }
   ],
   "source": [
    "df = dfOriginal.copy()\n",
    "details = computeDetails(df)\n",
    "print(details)"
   ]
  },
  {
   "cell_type": "markdown",
   "metadata": {},
   "source": [
    "Eliminate the columns that are semantically equal or similar to the target"
   ]
  },
  {
   "cell_type": "code",
   "execution_count": 6,
   "metadata": {},
   "outputs": [],
   "source": [
    "df = df.drop(['SEVERITYCODE.1'], axis=1)\n",
    "df = df.drop(['SEVERITYDESC'], axis=1)"
   ]
  },
  {
   "cell_type": "markdown",
   "metadata": {},
   "source": [
    "Eliminate EXCEPTRSNDESC, not enough information"
   ]
  },
  {
   "cell_type": "code",
   "execution_count": 7,
   "metadata": {},
   "outputs": [
    {
     "data": {
      "text/plain": [
       "Not Enough Information, or Insufficient Location Information    5638\n",
       "Name: EXCEPTRSNDESC, dtype: int64"
      ]
     },
     "execution_count": 7,
     "metadata": {},
     "output_type": "execute_result"
    }
   ],
   "source": [
    "df['EXCEPTRSNDESC'].value_counts()"
   ]
  },
  {
   "cell_type": "code",
   "execution_count": 8,
   "metadata": {},
   "outputs": [],
   "source": [
    "df = df.drop(['EXCEPTRSNDESC'], axis=1)"
   ]
  },
  {
   "cell_type": "markdown",
   "metadata": {},
   "source": [
    "EXCEPTRSNCODE has no descriptive field "
   ]
  },
  {
   "cell_type": "code",
   "execution_count": 9,
   "metadata": {},
   "outputs": [],
   "source": [
    "df = df.drop(['EXCEPTRSNCODE'], axis=1)"
   ]
  },
  {
   "cell_type": "markdown",
   "metadata": {},
   "source": [
    "INATTENTIONIND id contain only yes, suppose the other equal to n"
   ]
  },
  {
   "cell_type": "code",
   "execution_count": 10,
   "metadata": {},
   "outputs": [
    {
     "data": {
      "text/plain": [
       "Y    29805\n",
       "Name: INATTENTIONIND, dtype: int64"
      ]
     },
     "execution_count": 10,
     "metadata": {},
     "output_type": "execute_result"
    }
   ],
   "source": [
    "df['INATTENTIONIND'].value_counts()"
   ]
  },
  {
   "cell_type": "code",
   "execution_count": 11,
   "metadata": {},
   "outputs": [
    {
     "data": {
      "text/plain": [
       "N    164868\n",
       "Y     29805\n",
       "Name: INATTENTIONIND, dtype: int64"
      ]
     },
     "execution_count": 11,
     "metadata": {},
     "output_type": "execute_result"
    }
   ],
   "source": [
    "df['INATTENTIONIND'] = df['INATTENTIONIND'].replace(np.nan,'N')\n",
    "df['INATTENTIONIND'].value_counts()"
   ]
  },
  {
   "cell_type": "markdown",
   "metadata": {},
   "source": [
    "Drop initkey"
   ]
  },
  {
   "cell_type": "code",
   "execution_count": 14,
   "metadata": {},
   "outputs": [],
   "source": [
    "df = df.drop(['INTKEY'], axis=1)"
   ]
  },
  {
   "cell_type": "code",
   "execution_count": 15,
   "metadata": {},
   "outputs": [
    {
     "name": "stdout",
     "output_type": "stream",
     "text": [
      "                  types  counts  distincts   nulls  missing ration\n",
      "SEVERITYCODE      int64  194673          2       0           0.000\n",
      "X               float64  189339      23564    5334           2.740\n",
      "Y               float64  189339      23840    5334           2.740\n",
      "OBJECTID          int64  194673     194673       0           0.000\n",
      "INCKEY            int64  194673     194673       0           0.000\n",
      "COLDETKEY         int64  194673     194673       0           0.000\n",
      "REPORTNO         object  194673     194670       0           0.000\n",
      "STATUS           object  194673          2       0           0.000\n",
      "ADDRTYPE         object  192747          4    1926           0.989\n",
      "LOCATION         object  191996      24103    2677           1.375\n",
      "COLLISIONTYPE    object  189769         11    4904           2.519\n",
      "PERSONCOUNT       int64  194673         47       0           0.000\n",
      "PEDCOUNT          int64  194673          7       0           0.000\n",
      "PEDCYLCOUNT       int64  194673          3       0           0.000\n",
      "VEHCOUNT          int64  194673         13       0           0.000\n",
      "INCDATE          object  194673       5985       0           0.000\n",
      "INCDTTM          object  194673     162058       0           0.000\n",
      "JUNCTIONTYPE     object  188344          8    6329           3.251\n",
      "SDOT_COLCODE      int64  194673         39       0           0.000\n",
      "SDOT_COLDESC     object  194673         39       0           0.000\n",
      "INATTENTIONIND   object  194673          2       0           0.000\n",
      "UNDERINFL        object  189789          5    4884           2.509\n",
      "WEATHER          object  189592         12    5081           2.610\n",
      "ROADCOND         object  189661         10    5012           2.575\n",
      "LIGHTCOND        object  189503         10    5170           2.656\n",
      "PEDROWNOTGRNT    object    4667          2  190006          97.603\n",
      "SDOTCOLNUM      float64  114936     114933   79737          40.959\n",
      "SPEEDING         object    9333          2  185340          95.206\n",
      "ST_COLCODE       object  194655        116      18           0.009\n",
      "ST_COLDESC       object  189769         63    4904           2.519\n",
      "SEGLANEKEY        int64  194673       1955       0           0.000\n",
      "CROSSWALKKEY      int64  194673       2198       0           0.000\n",
      "HITPARKEDCAR     object  194673          2       0           0.000\n"
     ]
    }
   ],
   "source": [
    "details = computeDetails(df)\n",
    "print(details)"
   ]
  },
  {
   "cell_type": "code",
   "execution_count": 18,
   "metadata": {},
   "outputs": [
    {
     "data": {
      "text/plain": [
       "Y    4667\n",
       "Name: PEDROWNOTGRNT, dtype: int64"
      ]
     },
     "execution_count": 18,
     "metadata": {},
     "output_type": "execute_result"
    }
   ],
   "source": [
    "df['PEDROWNOTGRNT'].value_counts()"
   ]
  },
  {
   "cell_type": "code",
   "execution_count": 19,
   "metadata": {},
   "outputs": [
    {
     "data": {
      "text/plain": [
       "N    190006\n",
       "Y      4667\n",
       "Name: PEDROWNOTGRNT, dtype: int64"
      ]
     },
     "execution_count": 19,
     "metadata": {},
     "output_type": "execute_result"
    }
   ],
   "source": [
    "df['PEDROWNOTGRNT'] = df['PEDROWNOTGRNT'].replace(np.nan,'N')\n",
    "df['PEDROWNOTGRNT'].value_counts()"
   ]
  },
  {
   "cell_type": "code",
   "execution_count": 21,
   "metadata": {},
   "outputs": [
    {
     "data": {
      "text/plain": [
       "N    185340\n",
       "Y      9333\n",
       "Name: SPEEDING, dtype: int64"
      ]
     },
     "execution_count": 21,
     "metadata": {},
     "output_type": "execute_result"
    }
   ],
   "source": [
    "df['SPEEDING'] = df['SPEEDING'].replace(np.nan,'N')\n",
    "df['SPEEDING'].value_counts()"
   ]
  },
  {
   "cell_type": "code",
   "execution_count": 23,
   "metadata": {},
   "outputs": [
    {
     "name": "stdout",
     "output_type": "stream",
     "text": [
      "                  types  counts  distincts  nulls  missing ration\n",
      "SEVERITYCODE      int64  194673          2      0           0.000\n",
      "X               float64  189339      23564   5334           2.740\n",
      "Y               float64  189339      23840   5334           2.740\n",
      "OBJECTID          int64  194673     194673      0           0.000\n",
      "INCKEY            int64  194673     194673      0           0.000\n",
      "COLDETKEY         int64  194673     194673      0           0.000\n",
      "REPORTNO         object  194673     194670      0           0.000\n",
      "STATUS           object  194673          2      0           0.000\n",
      "ADDRTYPE         object  192747          4   1926           0.989\n",
      "LOCATION         object  191996      24103   2677           1.375\n",
      "COLLISIONTYPE    object  189769         11   4904           2.519\n",
      "PERSONCOUNT       int64  194673         47      0           0.000\n",
      "PEDCOUNT          int64  194673          7      0           0.000\n",
      "PEDCYLCOUNT       int64  194673          3      0           0.000\n",
      "VEHCOUNT          int64  194673         13      0           0.000\n",
      "INCDATE          object  194673       5985      0           0.000\n",
      "INCDTTM          object  194673     162058      0           0.000\n",
      "JUNCTIONTYPE     object  188344          8   6329           3.251\n",
      "SDOT_COLCODE      int64  194673         39      0           0.000\n",
      "SDOT_COLDESC     object  194673         39      0           0.000\n",
      "INATTENTIONIND   object  194673          2      0           0.000\n",
      "UNDERINFL        object  189789          5   4884           2.509\n",
      "WEATHER          object  189592         12   5081           2.610\n",
      "ROADCOND         object  189661         10   5012           2.575\n",
      "LIGHTCOND        object  189503         10   5170           2.656\n",
      "PEDROWNOTGRNT    object  194673          2      0           0.000\n",
      "SDOTCOLNUM      float64  114936     114933  79737          40.959\n",
      "SPEEDING         object  194673          2      0           0.000\n",
      "ST_COLCODE       object  194655        116     18           0.009\n",
      "ST_COLDESC       object  189769         63   4904           2.519\n",
      "SEGLANEKEY        int64  194673       1955      0           0.000\n",
      "CROSSWALKKEY      int64  194673       2198      0           0.000\n",
      "HITPARKEDCAR     object  194673          2      0           0.000\n"
     ]
    }
   ],
   "source": [
    "details = computeDetails(df)\n",
    "print(details)"
   ]
  },
  {
   "cell_type": "markdown",
   "metadata": {},
   "source": [
    "we could try to fill the missing 'JUNCTIONTYPE' by looking X,Y?"
   ]
  },
  {
   "cell_type": "code",
   "execution_count": 24,
   "metadata": {},
   "outputs": [
    {
     "name": "stdout",
     "output_type": "stream",
     "text": [
      "percentage dropped  0.9998972636164234\n"
     ]
    }
   ],
   "source": [
    "original_length = len(df['JUNCTIONTYPE'])\n",
    "df = InputMissingData(df, 'JUNCTIONTYPE', ['X','Y'])\n",
    "df_dropped = df.dropna()\n",
    "print(\"percentage dropped \", (original_length-len(df_dropped))/len(df))"
   ]
  },
  {
   "cell_type": "code",
   "execution_count": 22,
   "metadata": {},
   "outputs": [
    {
     "data": {
      "text/plain": [
       "At Intersection (intersection related)    128\n",
       "Name: JUNCTIONTYPE, dtype: int64"
      ]
     },
     "execution_count": 22,
     "metadata": {},
     "output_type": "execute_result"
    }
   ],
   "source": [
    "df.loc[df['INTKEY']==33512.000, 'JUNCTIONTYPE'].value_counts()"
   ]
  },
  {
   "cell_type": "code",
   "execution_count": 17,
   "metadata": {},
   "outputs": [
    {
     "data": {
      "text/plain": [
       "Mid-Block (not related to intersection)              89800\n",
       "At Intersection (intersection related)               62810\n",
       "Mid-Block (but intersection related)                 22790\n",
       "Driveway Junction                                    10671\n",
       "At Intersection (but not related to intersection)     2098\n",
       "Ramp Junction                                          166\n",
       "Unknown                                                  9\n",
       "Name: JUNCTIONTYPE, dtype: int64"
      ]
     },
     "execution_count": 17,
     "metadata": {},
     "output_type": "execute_result"
    }
   ],
   "source": [
    "#JUNCTIONTYPE\n",
    "df['JUNCTIONTYPE'].value_counts()"
   ]
  },
  {
   "cell_type": "code",
   "execution_count": null,
   "metadata": {},
   "outputs": [],
   "source": [
    "df = df.drop(['OBJECTID','INCKEY','COLDETKEY','REPORTNO','ST_COLCODE','ST_COLDESC','SDOTCOLNUM'], axis=1)\n",
    "df = df.drop(['COLLISIONTYPE','SDOT_COLCODE','SDOT_COLDESC'], axis=1)"
   ]
  },
  {
   "cell_type": "markdown",
   "metadata": {},
   "source": [
    "Remove columns with a ratio of missing values > 50%"
   ]
  },
  {
   "cell_type": "code",
   "execution_count": null,
   "metadata": {},
   "outputs": [],
   "source": [
    "df = dfOriginal.drop(['INTKEY','EXCEPTRSNCODE','EXCEPTRSNDESC','INATTENTIONIND','PEDROWNOTGRNT','SPEEDING'], axis=1)"
   ]
  },
  {
   "cell_type": "code",
   "execution_count": null,
   "metadata": {},
   "outputs": [],
   "source": [
    "details = computeDetails(df)\n",
    "print(details)"
   ]
  },
  {
   "cell_type": "markdown",
   "metadata": {},
   "source": [
    "# Eliminate the columns that are semantically equal or similar to the target"
   ]
  },
  {
   "cell_type": "markdown",
   "metadata": {},
   "source": [
    "Some fatures are administrative records, after the incided occoured"
   ]
  },
  {
   "cell_type": "code",
   "execution_count": null,
   "metadata": {
    "scrolled": true
   },
   "outputs": [],
   "source": [
    "df = df.drop(['OBJECTID','INCKEY','COLDETKEY','REPORTNO','ST_COLCODE','ST_COLDESC','SDOTCOLNUM'], axis=1)\n",
    "df = df.drop(['COLLISIONTYPE','SDOT_COLCODE','SDOT_COLDESC'], axis=1)\n",
    "details = computeDetails(df)\n",
    "print(details)"
   ]
  },
  {
   "cell_type": "markdown",
   "metadata": {},
   "source": [
    "# Use Location for missing X,Y, Junction type"
   ]
  },
  {
   "cell_type": "code",
   "execution_count": null,
   "metadata": {},
   "outputs": [],
   "source": [
    "original_length = len(df)\n",
    "df_dropped = df.dropna()\n",
    "print(\"percentage dropped \", (original_length-len(df_dropped))/len(df))"
   ]
  },
  {
   "cell_type": "code",
   "execution_count": null,
   "metadata": {},
   "outputs": [],
   "source": [
    "df = InputMissingData(df, 'X', 'LOCATION')\n",
    "df = InputMissingData(df, 'Y', 'LOCATION')\n"
   ]
  },
  {
   "cell_type": "code",
   "execution_count": null,
   "metadata": {},
   "outputs": [],
   "source": [
    "df_dropped = df.dropna()\n",
    "print(\"percentage dropped \", (original_length-len(df_dropped))/len(df))"
   ]
  },
  {
   "cell_type": "markdown",
   "metadata": {},
   "source": [
    "# Treat the dates"
   ]
  },
  {
   "cell_type": "code",
   "execution_count": null,
   "metadata": {},
   "outputs": [],
   "source": [
    "df['INCDTTM'] = pd.to_datetime(df['INCDTTM'])"
   ]
  },
  {
   "cell_type": "code",
   "execution_count": null,
   "metadata": {},
   "outputs": [],
   "source": [
    "df = df.drop(['INCDATE'], axis=1)"
   ]
  },
  {
   "cell_type": "markdown",
   "metadata": {},
   "source": [
    "check incidents by hour"
   ]
  },
  {
   "cell_type": "code",
   "execution_count": null,
   "metadata": {},
   "outputs": [],
   "source": [
    "df['hour'] = df['INCDTTM'].dt.hour\n",
    "df_selected = df[df['SEVERITYCODE']==1]\n",
    "sns.distplot(df_selected['hour'],kde = False)\n",
    "df_selected = df[df['SEVERITYCODE']==2]\n",
    "sns.distplot(df_selected['hour'],kde = False)"
   ]
  },
  {
   "cell_type": "markdown",
   "metadata": {},
   "source": [
    "looks like there are way too many 0 hours, hour cannot be used as feature"
   ]
  },
  {
   "cell_type": "code",
   "execution_count": null,
   "metadata": {},
   "outputs": [],
   "source": [
    "#df = df.drop(['hour'], axis=1)"
   ]
  },
  {
   "cell_type": "markdown",
   "metadata": {},
   "source": [
    "Check day of the week"
   ]
  },
  {
   "cell_type": "code",
   "execution_count": null,
   "metadata": {},
   "outputs": [],
   "source": [
    "df['dayofweek'] = df['INCDTTM'].dt.dayofweek\n",
    "df_selected = df[df['SEVERITYCODE']==1]\n",
    "sns.distplot(df_selected['dayofweek'],kde = False)\n",
    "df_selected = df[df['SEVERITYCODE']==2]\n",
    "sns.distplot(df_selected['dayofweek'],kde = False)"
   ]
  },
  {
   "cell_type": "markdown",
   "metadata": {},
   "source": [
    "Check month"
   ]
  },
  {
   "cell_type": "code",
   "execution_count": null,
   "metadata": {},
   "outputs": [],
   "source": [
    "df['month'] = df['INCDTTM'].dt.month\n",
    "df_selected = df[df['SEVERITYCODE']==1]\n",
    "sns.distplot(df_selected['month'],kde = False)\n",
    "df_selected = df[df['SEVERITYCODE']==2]\n",
    "sns.distplot(df_selected['month'],kde = False)"
   ]
  },
  {
   "cell_type": "raw",
   "metadata": {},
   "source": [
    "remove INCDTTM after saving dayofweek and month"
   ]
  },
  {
   "cell_type": "code",
   "execution_count": null,
   "metadata": {},
   "outputs": [],
   "source": [
    "df = df.drop(['INCDTTM'], axis=1)"
   ]
  },
  {
   "cell_type": "markdown",
   "metadata": {},
   "source": [
    "# Use LOCATIONS instead of X and Y, remove STATUS (matched/unmached) "
   ]
  },
  {
   "cell_type": "code",
   "execution_count": null,
   "metadata": {},
   "outputs": [],
   "source": [
    "df = df.drop(['LOCATION','STATUS'], axis=1)"
   ]
  },
  {
   "cell_type": "markdown",
   "metadata": {},
   "source": [
    "# UNDERINFL contains both Y/N and 0/1"
   ]
  },
  {
   "cell_type": "code",
   "execution_count": null,
   "metadata": {},
   "outputs": [],
   "source": [
    "df.dropna(inplace=True)"
   ]
  },
  {
   "cell_type": "code",
   "execution_count": null,
   "metadata": {},
   "outputs": [],
   "source": [
    "df['UNDERINFL'].value_counts()"
   ]
  },
  {
   "cell_type": "code",
   "execution_count": null,
   "metadata": {},
   "outputs": [],
   "source": [
    "from sklearn.preprocessing import LabelEncoder\n",
    "def prepare_categorical(toLabel):\n",
    "    le = LabelEncoder()\n",
    "    le.fit(toLabel)\n",
    "    toLabel_enc = le.transform(toLabel)\n",
    "    return toLabel_enc"
   ]
  },
  {
   "cell_type": "code",
   "execution_count": null,
   "metadata": {},
   "outputs": [],
   "source": [
    "toLabel_enc = prepare_categorical(df['UNDERINFL'])\n",
    "df['UNDERINFL'] = toLabel_enc"
   ]
  },
  {
   "cell_type": "code",
   "execution_count": null,
   "metadata": {},
   "outputs": [],
   "source": [
    "df['UNDERINFL'].value_counts()"
   ]
  },
  {
   "cell_type": "code",
   "execution_count": null,
   "metadata": {},
   "outputs": [],
   "source": [
    "df['UNDERINFL'] = df['UNDERINFL'].replace(2,0)\n",
    "df['UNDERINFL'] = df['UNDERINFL'].replace(3,1)       "
   ]
  },
  {
   "cell_type": "code",
   "execution_count": null,
   "metadata": {},
   "outputs": [],
   "source": [
    "df['UNDERINFL'].value_counts()"
   ]
  },
  {
   "cell_type": "code",
   "execution_count": null,
   "metadata": {},
   "outputs": [],
   "source": [
    "details = computeDetails(df)\n",
    "print(details)"
   ]
  },
  {
   "cell_type": "markdown",
   "metadata": {},
   "source": [
    "# Save cleaned up dataframe"
   ]
  },
  {
   "cell_type": "code",
   "execution_count": null,
   "metadata": {},
   "outputs": [],
   "source": [
    "df.dropna(inplace=True)\n",
    "df.to_csv('Data-Collisions-cleaned.csv')"
   ]
  },
  {
   "cell_type": "markdown",
   "metadata": {},
   "source": [
    "# Load cleaned dataframe"
   ]
  },
  {
   "cell_type": "code",
   "execution_count": null,
   "metadata": {},
   "outputs": [],
   "source": [
    "import numpy as np\n",
    "import pandas as pd\n",
    "pd.set_option('display.float_format', lambda x: '{:.3f}'.format(x)) #Limiting floats output to 3 decimal points\n",
    "from matplotlib import pyplot as plt\n",
    "%matplotlib inline\n",
    "import seaborn as sns"
   ]
  },
  {
   "cell_type": "code",
   "execution_count": null,
   "metadata": {},
   "outputs": [],
   "source": [
    "df = pd.read_csv('Data-Collisions-cleaned.csv')\n",
    "df = df.drop(['Unnamed: 0'], axis=1)\n",
    "df.dropna(inplace=True)\n",
    "#details = computeDetails(df)\n",
    "#print(details)\n",
    "df.describe()"
   ]
  },
  {
   "cell_type": "code",
   "execution_count": null,
   "metadata": {},
   "outputs": [],
   "source": [
    "#https://machinelearningmastery.com/feature-selection-with-categorical-data/\n",
    "from sklearn.preprocessing import LabelEncoder\n",
    "def prepare_categorical(toLabel):\n",
    "    le = LabelEncoder()\n",
    "    le.fit(toLabel)\n",
    "    toLabel_enc = le.transform(toLabel)\n",
    "    return toLabel_enc\n",
    "\n",
    "df['ADDRTYPE'] = prepare_categorical(df['ADDRTYPE'])\n",
    "#df['LOCATION'] = prepare_categorical(df['LOCATION'])\n",
    "df['JUNCTIONTYPE'] = prepare_categorical(df['JUNCTIONTYPE'])\n",
    "df['UNDERINFL'] = prepare_categorical(df['UNDERINFL'])\n",
    "df['WEATHER'] = prepare_categorical(df['WEATHER'])\n",
    "df['ROADCOND'] = prepare_categorical(df['ROADCOND'])\n",
    "df['LIGHTCOND'] = prepare_categorical(df['LIGHTCOND'])\n",
    "df['HITPARKEDCAR'] = prepare_categorical(df['HITPARKEDCAR'])\n",
    "\n",
    "\n",
    "df = df.drop(['CROSSWALKKEY','SEGLANEKEY','PEDCOUNT',\n",
    "              'HITPARKEDCAR','ADDRTYPE','JUNCTIONTYPE','WEATHER','ROADCOND','LIGHTCOND',\n",
    "              'UNDERINFL','VEHCOUNT','dayofweek','hour','month','PERSONCOUNT' ,'X','Y'], axis=1)\n",
    "\n",
    "#details = computeDetails(df)\n",
    "#print(details)\n",
    "#df = df.iloc[:30000,:]\n",
    "df.describe()"
   ]
  },
  {
   "cell_type": "markdown",
   "metadata": {},
   "source": [
    "# Benchmark a first tree model"
   ]
  },
  {
   "cell_type": "code",
   "execution_count": null,
   "metadata": {},
   "outputs": [],
   "source": [
    "y = df['SEVERITYCODE']\n",
    "X = df.drop(['SEVERITYCODE'], axis=1)\n",
    "from sklearn.model_selection import train_test_split\n",
    "X_train, X_test, y_train, y_test = train_test_split(X, y, test_size=0.33, random_state=42)"
   ]
  },
  {
   "cell_type": "code",
   "execution_count": null,
   "metadata": {},
   "outputs": [],
   "source": [
    "from sklearn import svm\n",
    "from sklearn.preprocessing import StandardScaler\n",
    "from sklearn.metrics import f1_score\n",
    "from sklearn.tree import DecisionTreeClassifier\n",
    "\n",
    "train_scaler = StandardScaler()\n",
    "X_train = train_scaler.fit_transform(X_train)\n",
    "test_scaler = StandardScaler()\n",
    "X_test = train_scaler.fit_transform(X_test)"
   ]
  },
  {
   "cell_type": "code",
   "execution_count": null,
   "metadata": {},
   "outputs": [],
   "source": [
    "clf = DecisionTreeClassifier(criterion=\"entropy\", class_weight='balanced')\n",
    "clf.fit(X_train, y_train) \n",
    "yhat = clf.predict(X_test)\n",
    "f1_score(y_test, yhat, average='weighted') "
   ]
  },
  {
   "cell_type": "markdown",
   "metadata": {},
   "source": [
    "try imblearn"
   ]
  },
  {
   "cell_type": "code",
   "execution_count": null,
   "metadata": {},
   "outputs": [],
   "source": [
    "from imblearn.under_sampling import RandomUnderSampler\n",
    "from imblearn.over_sampling import RandomOverSampler\n",
    "rus = RandomOverSampler()\n",
    "X_rus, y_rus = rus.fit_sample(X_train, y_train)\n",
    "print('X_train len ', len(X_train),' len X_rus', len(X_rus))"
   ]
  },
  {
   "cell_type": "code",
   "execution_count": null,
   "metadata": {},
   "outputs": [],
   "source": [
    "clf = DecisionTreeClassifier(criterion=\"entropy\")\n",
    "clf.fit(X_rus, y_rus) \n",
    "yhat = clf.predict(X_test)\n",
    "f1_score(y_test, yhat, average='weighted') "
   ]
  },
  {
   "cell_type": "code",
   "execution_count": null,
   "metadata": {},
   "outputs": [],
   "source": []
  },
  {
   "cell_type": "code",
   "execution_count": null,
   "metadata": {},
   "outputs": [],
   "source": []
  },
  {
   "cell_type": "code",
   "execution_count": null,
   "metadata": {},
   "outputs": [],
   "source": []
  }
 ],
 "metadata": {
  "kernelspec": {
   "display_name": "Python 3",
   "language": "python",
   "name": "python3"
  },
  "language_info": {
   "codemirror_mode": {
    "name": "ipython",
    "version": 3
   },
   "file_extension": ".py",
   "mimetype": "text/x-python",
   "name": "python",
   "nbconvert_exporter": "python",
   "pygments_lexer": "ipython3",
   "version": "3.7.4"
  }
 },
 "nbformat": 4,
 "nbformat_minor": 2
}
